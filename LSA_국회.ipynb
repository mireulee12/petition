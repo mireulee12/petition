{
  "nbformat": 4,
  "nbformat_minor": 0,
  "metadata": {
    "colab": {
      "name": "LSA_국회.ipynb",
      "provenance": [],
      "authorship_tag": "ABX9TyMGaYDzts4pIrwHDg4zAj0C"
    },
    "kernelspec": {
      "name": "python3",
      "display_name": "Python 3"
    },
    "language_info": {
      "name": "python"
    }
  },
  "cells": [
    {
      "cell_type": "markdown",
      "metadata": {
        "id": "nil6_oznUIlQ"
      },
      "source": [
        "# 파일 불러오기"
      ]
    },
    {
      "cell_type": "code",
      "metadata": {
        "colab": {
          "resources": {
            "http://localhost:8080/nbextensions/google.colab/files.js": {
              "data": "Ly8gQ29weXJpZ2h0IDIwMTcgR29vZ2xlIExMQwovLwovLyBMaWNlbnNlZCB1bmRlciB0aGUgQXBhY2hlIExpY2Vuc2UsIFZlcnNpb24gMi4wICh0aGUgIkxpY2Vuc2UiKTsKLy8geW91IG1heSBub3QgdXNlIHRoaXMgZmlsZSBleGNlcHQgaW4gY29tcGxpYW5jZSB3aXRoIHRoZSBMaWNlbnNlLgovLyBZb3UgbWF5IG9idGFpbiBhIGNvcHkgb2YgdGhlIExpY2Vuc2UgYXQKLy8KLy8gICAgICBodHRwOi8vd3d3LmFwYWNoZS5vcmcvbGljZW5zZXMvTElDRU5TRS0yLjAKLy8KLy8gVW5sZXNzIHJlcXVpcmVkIGJ5IGFwcGxpY2FibGUgbGF3IG9yIGFncmVlZCB0byBpbiB3cml0aW5nLCBzb2Z0d2FyZQovLyBkaXN0cmlidXRlZCB1bmRlciB0aGUgTGljZW5zZSBpcyBkaXN0cmlidXRlZCBvbiBhbiAiQVMgSVMiIEJBU0lTLAovLyBXSVRIT1VUIFdBUlJBTlRJRVMgT1IgQ09ORElUSU9OUyBPRiBBTlkgS0lORCwgZWl0aGVyIGV4cHJlc3Mgb3IgaW1wbGllZC4KLy8gU2VlIHRoZSBMaWNlbnNlIGZvciB0aGUgc3BlY2lmaWMgbGFuZ3VhZ2UgZ292ZXJuaW5nIHBlcm1pc3Npb25zIGFuZAovLyBsaW1pdGF0aW9ucyB1bmRlciB0aGUgTGljZW5zZS4KCi8qKgogKiBAZmlsZW92ZXJ2aWV3IEhlbHBlcnMgZm9yIGdvb2dsZS5jb2xhYiBQeXRob24gbW9kdWxlLgogKi8KKGZ1bmN0aW9uKHNjb3BlKSB7CmZ1bmN0aW9uIHNwYW4odGV4dCwgc3R5bGVBdHRyaWJ1dGVzID0ge30pIHsKICBjb25zdCBlbGVtZW50ID0gZG9jdW1lbnQuY3JlYXRlRWxlbWVudCgnc3BhbicpOwogIGVsZW1lbnQudGV4dENvbnRlbnQgPSB0ZXh0OwogIGZvciAoY29uc3Qga2V5IG9mIE9iamVjdC5rZXlzKHN0eWxlQXR0cmlidXRlcykpIHsKICAgIGVsZW1lbnQuc3R5bGVba2V5XSA9IHN0eWxlQXR0cmlidXRlc1trZXldOwogIH0KICByZXR1cm4gZWxlbWVudDsKfQoKLy8gTWF4IG51bWJlciBvZiBieXRlcyB3aGljaCB3aWxsIGJlIHVwbG9hZGVkIGF0IGEgdGltZS4KY29uc3QgTUFYX1BBWUxPQURfU0laRSA9IDEwMCAqIDEwMjQ7CgpmdW5jdGlvbiBfdXBsb2FkRmlsZXMoaW5wdXRJZCwgb3V0cHV0SWQpIHsKICBjb25zdCBzdGVwcyA9IHVwbG9hZEZpbGVzU3RlcChpbnB1dElkLCBvdXRwdXRJZCk7CiAgY29uc3Qgb3V0cHV0RWxlbWVudCA9IGRvY3VtZW50LmdldEVsZW1lbnRCeUlkKG91dHB1dElkKTsKICAvLyBDYWNoZSBzdGVwcyBvbiB0aGUgb3V0cHV0RWxlbWVudCB0byBtYWtlIGl0IGF2YWlsYWJsZSBmb3IgdGhlIG5leHQgY2FsbAogIC8vIHRvIHVwbG9hZEZpbGVzQ29udGludWUgZnJvbSBQeXRob24uCiAgb3V0cHV0RWxlbWVudC5zdGVwcyA9IHN0ZXBzOwoKICByZXR1cm4gX3VwbG9hZEZpbGVzQ29udGludWUob3V0cHV0SWQpOwp9CgovLyBUaGlzIGlzIHJvdWdobHkgYW4gYXN5bmMgZ2VuZXJhdG9yIChub3Qgc3VwcG9ydGVkIGluIHRoZSBicm93c2VyIHlldCksCi8vIHdoZXJlIHRoZXJlIGFyZSBtdWx0aXBsZSBhc3luY2hyb25vdXMgc3RlcHMgYW5kIHRoZSBQeXRob24gc2lkZSBpcyBnb2luZwovLyB0byBwb2xsIGZvciBjb21wbGV0aW9uIG9mIGVhY2ggc3RlcC4KLy8gVGhpcyB1c2VzIGEgUHJvbWlzZSB0byBibG9jayB0aGUgcHl0aG9uIHNpZGUgb24gY29tcGxldGlvbiBvZiBlYWNoIHN0ZXAsCi8vIHRoZW4gcGFzc2VzIHRoZSByZXN1bHQgb2YgdGhlIHByZXZpb3VzIHN0ZXAgYXMgdGhlIGlucHV0IHRvIHRoZSBuZXh0IHN0ZXAuCmZ1bmN0aW9uIF91cGxvYWRGaWxlc0NvbnRpbnVlKG91dHB1dElkKSB7CiAgY29uc3Qgb3V0cHV0RWxlbWVudCA9IGRvY3VtZW50LmdldEVsZW1lbnRCeUlkKG91dHB1dElkKTsKICBjb25zdCBzdGVwcyA9IG91dHB1dEVsZW1lbnQuc3RlcHM7CgogIGNvbnN0IG5leHQgPSBzdGVwcy5uZXh0KG91dHB1dEVsZW1lbnQubGFzdFByb21pc2VWYWx1ZSk7CiAgcmV0dXJuIFByb21pc2UucmVzb2x2ZShuZXh0LnZhbHVlLnByb21pc2UpLnRoZW4oKHZhbHVlKSA9PiB7CiAgICAvLyBDYWNoZSB0aGUgbGFzdCBwcm9taXNlIHZhbHVlIHRvIG1ha2UgaXQgYXZhaWxhYmxlIHRvIHRoZSBuZXh0CiAgICAvLyBzdGVwIG9mIHRoZSBnZW5lcmF0b3IuCiAgICBvdXRwdXRFbGVtZW50Lmxhc3RQcm9taXNlVmFsdWUgPSB2YWx1ZTsKICAgIHJldHVybiBuZXh0LnZhbHVlLnJlc3BvbnNlOwogIH0pOwp9CgovKioKICogR2VuZXJhdG9yIGZ1bmN0aW9uIHdoaWNoIGlzIGNhbGxlZCBiZXR3ZWVuIGVhY2ggYXN5bmMgc3RlcCBvZiB0aGUgdXBsb2FkCiAqIHByb2Nlc3MuCiAqIEBwYXJhbSB7c3RyaW5nfSBpbnB1dElkIEVsZW1lbnQgSUQgb2YgdGhlIGlucHV0IGZpbGUgcGlja2VyIGVsZW1lbnQuCiAqIEBwYXJhbSB7c3RyaW5nfSBvdXRwdXRJZCBFbGVtZW50IElEIG9mIHRoZSBvdXRwdXQgZGlzcGxheS4KICogQHJldHVybiB7IUl0ZXJhYmxlPCFPYmplY3Q+fSBJdGVyYWJsZSBvZiBuZXh0IHN0ZXBzLgogKi8KZnVuY3Rpb24qIHVwbG9hZEZpbGVzU3RlcChpbnB1dElkLCBvdXRwdXRJZCkgewogIGNvbnN0IGlucHV0RWxlbWVudCA9IGRvY3VtZW50LmdldEVsZW1lbnRCeUlkKGlucHV0SWQpOwogIGlucHV0RWxlbWVudC5kaXNhYmxlZCA9IGZhbHNlOwoKICBjb25zdCBvdXRwdXRFbGVtZW50ID0gZG9jdW1lbnQuZ2V0RWxlbWVudEJ5SWQob3V0cHV0SWQpOwogIG91dHB1dEVsZW1lbnQuaW5uZXJIVE1MID0gJyc7CgogIGNvbnN0IHBpY2tlZFByb21pc2UgPSBuZXcgUHJvbWlzZSgocmVzb2x2ZSkgPT4gewogICAgaW5wdXRFbGVtZW50LmFkZEV2ZW50TGlzdGVuZXIoJ2NoYW5nZScsIChlKSA9PiB7CiAgICAgIHJlc29sdmUoZS50YXJnZXQuZmlsZXMpOwogICAgfSk7CiAgfSk7CgogIGNvbnN0IGNhbmNlbCA9IGRvY3VtZW50LmNyZWF0ZUVsZW1lbnQoJ2J1dHRvbicpOwogIGlucHV0RWxlbWVudC5wYXJlbnRFbGVtZW50LmFwcGVuZENoaWxkKGNhbmNlbCk7CiAgY2FuY2VsLnRleHRDb250ZW50ID0gJ0NhbmNlbCB1cGxvYWQnOwogIGNvbnN0IGNhbmNlbFByb21pc2UgPSBuZXcgUHJvbWlzZSgocmVzb2x2ZSkgPT4gewogICAgY2FuY2VsLm9uY2xpY2sgPSAoKSA9PiB7CiAgICAgIHJlc29sdmUobnVsbCk7CiAgICB9OwogIH0pOwoKICAvLyBXYWl0IGZvciB0aGUgdXNlciB0byBwaWNrIHRoZSBmaWxlcy4KICBjb25zdCBmaWxlcyA9IHlpZWxkIHsKICAgIHByb21pc2U6IFByb21pc2UucmFjZShbcGlja2VkUHJvbWlzZSwgY2FuY2VsUHJvbWlzZV0pLAogICAgcmVzcG9uc2U6IHsKICAgICAgYWN0aW9uOiAnc3RhcnRpbmcnLAogICAgfQogIH07CgogIGNhbmNlbC5yZW1vdmUoKTsKCiAgLy8gRGlzYWJsZSB0aGUgaW5wdXQgZWxlbWVudCBzaW5jZSBmdXJ0aGVyIHBpY2tzIGFyZSBub3QgYWxsb3dlZC4KICBpbnB1dEVsZW1lbnQuZGlzYWJsZWQgPSB0cnVlOwoKICBpZiAoIWZpbGVzKSB7CiAgICByZXR1cm4gewogICAgICByZXNwb25zZTogewogICAgICAgIGFjdGlvbjogJ2NvbXBsZXRlJywKICAgICAgfQogICAgfTsKICB9CgogIGZvciAoY29uc3QgZmlsZSBvZiBmaWxlcykgewogICAgY29uc3QgbGkgPSBkb2N1bWVudC5jcmVhdGVFbGVtZW50KCdsaScpOwogICAgbGkuYXBwZW5kKHNwYW4oZmlsZS5uYW1lLCB7Zm9udFdlaWdodDogJ2JvbGQnfSkpOwogICAgbGkuYXBwZW5kKHNwYW4oCiAgICAgICAgYCgke2ZpbGUudHlwZSB8fCAnbi9hJ30pIC0gJHtmaWxlLnNpemV9IGJ5dGVzLCBgICsKICAgICAgICBgbGFzdCBtb2RpZmllZDogJHsKICAgICAgICAgICAgZmlsZS5sYXN0TW9kaWZpZWREYXRlID8gZmlsZS5sYXN0TW9kaWZpZWREYXRlLnRvTG9jYWxlRGF0ZVN0cmluZygpIDoKICAgICAgICAgICAgICAgICAgICAgICAgICAgICAgICAgICAgJ24vYSd9IC0gYCkpOwogICAgY29uc3QgcGVyY2VudCA9IHNwYW4oJzAlIGRvbmUnKTsKICAgIGxpLmFwcGVuZENoaWxkKHBlcmNlbnQpOwoKICAgIG91dHB1dEVsZW1lbnQuYXBwZW5kQ2hpbGQobGkpOwoKICAgIGNvbnN0IGZpbGVEYXRhUHJvbWlzZSA9IG5ldyBQcm9taXNlKChyZXNvbHZlKSA9PiB7CiAgICAgIGNvbnN0IHJlYWRlciA9IG5ldyBGaWxlUmVhZGVyKCk7CiAgICAgIHJlYWRlci5vbmxvYWQgPSAoZSkgPT4gewogICAgICAgIHJlc29sdmUoZS50YXJnZXQucmVzdWx0KTsKICAgICAgfTsKICAgICAgcmVhZGVyLnJlYWRBc0FycmF5QnVmZmVyKGZpbGUpOwogICAgfSk7CiAgICAvLyBXYWl0IGZvciB0aGUgZGF0YSB0byBiZSByZWFkeS4KICAgIGxldCBmaWxlRGF0YSA9IHlpZWxkIHsKICAgICAgcHJvbWlzZTogZmlsZURhdGFQcm9taXNlLAogICAgICByZXNwb25zZTogewogICAgICAgIGFjdGlvbjogJ2NvbnRpbnVlJywKICAgICAgfQogICAgfTsKCiAgICAvLyBVc2UgYSBjaHVua2VkIHNlbmRpbmcgdG8gYXZvaWQgbWVzc2FnZSBzaXplIGxpbWl0cy4gU2VlIGIvNjIxMTU2NjAuCiAgICBsZXQgcG9zaXRpb24gPSAwOwogICAgZG8gewogICAgICBjb25zdCBsZW5ndGggPSBNYXRoLm1pbihmaWxlRGF0YS5ieXRlTGVuZ3RoIC0gcG9zaXRpb24sIE1BWF9QQVlMT0FEX1NJWkUpOwogICAgICBjb25zdCBjaHVuayA9IG5ldyBVaW50OEFycmF5KGZpbGVEYXRhLCBwb3NpdGlvbiwgbGVuZ3RoKTsKICAgICAgcG9zaXRpb24gKz0gbGVuZ3RoOwoKICAgICAgY29uc3QgYmFzZTY0ID0gYnRvYShTdHJpbmcuZnJvbUNoYXJDb2RlLmFwcGx5KG51bGwsIGNodW5rKSk7CiAgICAgIHlpZWxkIHsKICAgICAgICByZXNwb25zZTogewogICAgICAgICAgYWN0aW9uOiAnYXBwZW5kJywKICAgICAgICAgIGZpbGU6IGZpbGUubmFtZSwKICAgICAgICAgIGRhdGE6IGJhc2U2NCwKICAgICAgICB9LAogICAgICB9OwoKICAgICAgbGV0IHBlcmNlbnREb25lID0gZmlsZURhdGEuYnl0ZUxlbmd0aCA9PT0gMCA/CiAgICAgICAgICAxMDAgOgogICAgICAgICAgTWF0aC5yb3VuZCgocG9zaXRpb24gLyBmaWxlRGF0YS5ieXRlTGVuZ3RoKSAqIDEwMCk7CiAgICAgIHBlcmNlbnQudGV4dENvbnRlbnQgPSBgJHtwZXJjZW50RG9uZX0lIGRvbmVgOwoKICAgIH0gd2hpbGUgKHBvc2l0aW9uIDwgZmlsZURhdGEuYnl0ZUxlbmd0aCk7CiAgfQoKICAvLyBBbGwgZG9uZS4KICB5aWVsZCB7CiAgICByZXNwb25zZTogewogICAgICBhY3Rpb246ICdjb21wbGV0ZScsCiAgICB9CiAgfTsKfQoKc2NvcGUuZ29vZ2xlID0gc2NvcGUuZ29vZ2xlIHx8IHt9OwpzY29wZS5nb29nbGUuY29sYWIgPSBzY29wZS5nb29nbGUuY29sYWIgfHwge307CnNjb3BlLmdvb2dsZS5jb2xhYi5fZmlsZXMgPSB7CiAgX3VwbG9hZEZpbGVzLAogIF91cGxvYWRGaWxlc0NvbnRpbnVlLAp9Owp9KShzZWxmKTsK",
              "ok": true,
              "headers": [
                [
                  "content-type",
                  "application/javascript"
                ]
              ],
              "status": 200,
              "status_text": ""
            }
          },
          "base_uri": "https://localhost:8080/",
          "height": 76
        },
        "id": "d16lxAgyTiC4",
        "outputId": "848f989b-d705-40cd-fcf6-bc24eadd22de"
      },
      "source": [
        "from google.colab import files\n",
        "myfile = files.upload()"
      ],
      "execution_count": 1,
      "outputs": [
        {
          "output_type": "display_data",
          "data": {
            "text/html": [
              "\n",
              "     <input type=\"file\" id=\"files-c6662bf2-02a6-4461-bd4a-8028ad90e37a\" name=\"files[]\" multiple disabled\n",
              "        style=\"border:none\" />\n",
              "     <output id=\"result-c6662bf2-02a6-4461-bd4a-8028ad90e37a\">\n",
              "      Upload widget is only available when the cell has been executed in the\n",
              "      current browser session. Please rerun this cell to enable.\n",
              "      </output>\n",
              "      <script src=\"/nbextensions/google.colab/files.js\"></script> "
            ],
            "text/plain": [
              "<IPython.core.display.HTML object>"
            ]
          },
          "metadata": {
            "tags": []
          }
        },
        {
          "output_type": "stream",
          "text": [
            "Saving 국회(전처리).csv to 국회(전처리).csv\n"
          ],
          "name": "stdout"
        }
      ]
    },
    {
      "cell_type": "code",
      "metadata": {
        "id": "TXoSt_T6TwTk"
      },
      "source": [
        "import io\n",
        "import pandas as pd"
      ],
      "execution_count": 2,
      "outputs": []
    },
    {
      "cell_type": "code",
      "metadata": {
        "colab": {
          "base_uri": "https://localhost:8080/",
          "height": 371
        },
        "id": "yJAR0eO-TySX",
        "outputId": "83073804-59cb-46b3-f7a6-e871c8d50082"
      },
      "source": [
        "data = pd.read_csv(io.BytesIO(myfile['국회(전처리).csv']))\n",
        "data.head()"
      ],
      "execution_count": 3,
      "outputs": [
        {
          "output_type": "execute_result",
          "data": {
            "text/html": [
              "<div>\n",
              "<style scoped>\n",
              "    .dataframe tbody tr th:only-of-type {\n",
              "        vertical-align: middle;\n",
              "    }\n",
              "\n",
              "    .dataframe tbody tr th {\n",
              "        vertical-align: top;\n",
              "    }\n",
              "\n",
              "    .dataframe thead th {\n",
              "        text-align: right;\n",
              "    }\n",
              "</style>\n",
              "<table border=\"1\" class=\"dataframe\">\n",
              "  <thead>\n",
              "    <tr style=\"text-align: right;\">\n",
              "      <th></th>\n",
              "      <th>title</th>\n",
              "      <th>count</th>\n",
              "      <th>categ</th>\n",
              "      <th>start</th>\n",
              "      <th>text</th>\n",
              "    </tr>\n",
              "  </thead>\n",
              "  <tbody>\n",
              "    <tr>\n",
              "      <th>0</th>\n",
              "      <td>국가보안법 개정에 관한 청원</td>\n",
              "      <td>1761</td>\n",
              "      <td>수사/법무/사법제도</td>\n",
              "      <td>2021-06-16</td>\n",
              "      <td>['최근', '국가', '보안법', '폐지', '올라오', '자유', '대한민국',...</td>\n",
              "    </tr>\n",
              "    <tr>\n",
              "      <th>1</th>\n",
              "      <td>인공지능 윤리 및 고인의 AI구현 법안 제정에 관한 청원</td>\n",
              "      <td>223</td>\n",
              "      <td>과학기술/정보통신</td>\n",
              "      <td>2021-06-15</td>\n",
              "      <td>['동의', 'AI', '구현', '제재', '가하', '규정', '만들', '외의...</td>\n",
              "    </tr>\n",
              "    <tr>\n",
              "      <th>2</th>\n",
              "      <td>포괄적 차별금지법 법안 제정에 관한 동의 및 일부 내용 수정 요청에 관한 청원</td>\n",
              "      <td>14025</td>\n",
              "      <td>인권/성평등/노동</td>\n",
              "      <td>2021-06-15</td>\n",
              "      <td>['UN', '사회권', '위원회', '국가', '인권', '위원회', '포괄적',...</td>\n",
              "    </tr>\n",
              "    <tr>\n",
              "      <th>3</th>\n",
              "      <td>국민연금 수급 개시 연령과 연계한 정년연장에 관한 청원</td>\n",
              "      <td>19807</td>\n",
              "      <td>인권/성평등/노동</td>\n",
              "      <td>2021-06-14</td>\n",
              "      <td>['노동자', '정년', '기간', '국민', '연금', '수급', '개시', '연...</td>\n",
              "    </tr>\n",
              "    <tr>\n",
              "      <th>4</th>\n",
              "      <td>하수도법 일부개정법률안에 관한 청원</td>\n",
              "      <td>736</td>\n",
              "      <td>재난/안전/환경</td>\n",
              "      <td>2021-06-11</td>\n",
              "      <td>['하수도', '특정', '공산품', '주방', '오물', '분쇄', '기은', '...</td>\n",
              "    </tr>\n",
              "  </tbody>\n",
              "</table>\n",
              "</div>"
            ],
            "text/plain": [
              "                                         title  ...                                               text\n",
              "0                              국가보안법 개정에 관한 청원  ...  ['최근', '국가', '보안법', '폐지', '올라오', '자유', '대한민국',...\n",
              "1              인공지능 윤리 및 고인의 AI구현 법안 제정에 관한 청원  ...  ['동의', 'AI', '구현', '제재', '가하', '규정', '만들', '외의...\n",
              "2  포괄적 차별금지법 법안 제정에 관한 동의 및 일부 내용 수정 요청에 관한 청원  ...  ['UN', '사회권', '위원회', '국가', '인권', '위원회', '포괄적',...\n",
              "3               국민연금 수급 개시 연령과 연계한 정년연장에 관한 청원  ...  ['노동자', '정년', '기간', '국민', '연금', '수급', '개시', '연...\n",
              "4                          하수도법 일부개정법률안에 관한 청원  ...  ['하수도', '특정', '공산품', '주방', '오물', '분쇄', '기은', '...\n",
              "\n",
              "[5 rows x 5 columns]"
            ]
          },
          "metadata": {
            "tags": []
          },
          "execution_count": 3
        }
      ]
    },
    {
      "cell_type": "code",
      "metadata": {
        "colab": {
          "base_uri": "https://localhost:8080/"
        },
        "id": "kLiQsvHzT3Hg",
        "outputId": "afe97d6a-1f19-49d6-eb49-b940c989d8b9"
      },
      "source": [
        "assembly_df = data.loc[:, ['text']]\n",
        "print(assembly_df)"
      ],
      "execution_count": 4,
      "outputs": [
        {
          "output_type": "stream",
          "text": [
            "                                                  text\n",
            "0    ['최근', '국가', '보안법', '폐지', '올라오', '자유', '대한민국',...\n",
            "1    ['동의', 'AI', '구현', '제재', '가하', '규정', '만들', '외의...\n",
            "2    ['UN', '사회권', '위원회', '국가', '인권', '위원회', '포괄적',...\n",
            "3    ['노동자', '정년', '기간', '국민', '연금', '수급', '개시', '연...\n",
            "4    ['하수도', '특정', '공산품', '주방', '오물', '분쇄', '기은', '...\n",
            "..                                                 ...\n",
            "215  ['최근', '한국', '심리', '학회', '상담', '심리', '학회', '임상...\n",
            "216  ['출판계', '플랫폼', '막아주', '한국', '출판계', '미래', '소설',...\n",
            "217  ['일요일', '공휴일', '대체', '휴일', '일괄적', '다음', '월요일',...\n",
            "218  ['순기능', '제대로', '역효과', '일으키', '셧다', '운제', '청소년'...\n",
            "219  ['세계', '민주주의', '여러', '나라', '가운데', '배심', '원제', ...\n",
            "\n",
            "[220 rows x 1 columns]\n"
          ],
          "name": "stdout"
        }
      ]
    },
    {
      "cell_type": "markdown",
      "metadata": {
        "id": "OEvJJCJQUEqO"
      },
      "source": [
        "# 역토큰화"
      ]
    },
    {
      "cell_type": "code",
      "metadata": {
        "colab": {
          "base_uri": "https://localhost:8080/"
        },
        "id": "bGhOfC2JUC4n",
        "outputId": "f6b51f63-40e0-48b5-ae9c-f3b14fb6677b"
      },
      "source": [
        "assembly_df.text = assembly_df.text.str.lstrip(\"['\").str.rstrip(\"']\").str.split(\"', '\").str.join(\" \")\n",
        "print(assembly_df.text)"
      ],
      "execution_count": 5,
      "outputs": [
        {
          "output_type": "stream",
          "text": [
            "0      최근 국가 보안법 폐지 올라오 자유 대한민국 월남 전철 무척 우려 스럽 국가 보안법...\n",
            "1      동의 AI 구현 제재 가하 규정 만들 외의 AI 구현 가능 인공지능 기술 발전 정보...\n",
            "2      UN 사회권 위원회 국가 인권 위원회 포괄적 차별 금지법 제정 한국 정부 권고 민주...\n",
            "3      노동자 정년 기간 국민 연금 수급 개시 연령 연계 고용 연령 차별 금지 고령자 고용...\n",
            "4      하수도 특정 공산품 주방 오물 분쇄 기은 한미 FTA 무역 협정 공산품 특정 공산품...\n",
            "                             ...                        \n",
            "215    최근 한국 심리 학회 상담 심리 학회 임상 심리 학회 산하 분과 학회 한국 상담 학...\n",
            "216    출판계 플랫폼 막아주 한국 출판계 미래 소설 작가 플랫폼 떠넘기 과도 수수료 방지 ...\n",
            "217    일요일 공휴일 대체 휴일 일괄적 다음 월요일 정하 의견 개천절 한글날 대체 휴일 모...\n",
            "218    순기능 제대로 역효과 일으키 셧다 운제 청소년 보호법 제조 폐지 바람 셧다운제 시행...\n",
            "219    세계 민주주의 여러 나라 가운데 배심 원제 국민 참여 재판 가장 국가 하나 한국 이...\n",
            "Name: text, Length: 220, dtype: object\n"
          ],
          "name": "stdout"
        }
      ]
    },
    {
      "cell_type": "markdown",
      "metadata": {
        "id": "lk4HHLvpUXhr"
      },
      "source": [
        "# TF-IDF 행렬 만들기"
      ]
    },
    {
      "cell_type": "code",
      "metadata": {
        "colab": {
          "base_uri": "https://localhost:8080/"
        },
        "id": "eq1OsAOiUXN0",
        "outputId": "3b7d6233-9386-4153-85c7-77bc94438ee1"
      },
      "source": [
        "from sklearn.feature_extraction.text import TfidfVectorizer\n",
        "vectorizer = TfidfVectorizer()\n",
        "\n",
        "X = vectorizer.fit_transform(assembly_df.text.values.astype('U'))\n",
        "X.shape"
      ],
      "execution_count": 6,
      "outputs": [
        {
          "output_type": "execute_result",
          "data": {
            "text/plain": [
              "(220, 7712)"
            ]
          },
          "metadata": {
            "tags": []
          },
          "execution_count": 6
        }
      ]
    },
    {
      "cell_type": "markdown",
      "metadata": {
        "id": "clHIhxkcUfOD"
      },
      "source": [
        "# 토픽 모델링"
      ]
    },
    {
      "cell_type": "code",
      "metadata": {
        "colab": {
          "base_uri": "https://localhost:8080/"
        },
        "id": "JUUEQfXcUe1k",
        "outputId": "731336bd-9f3d-4343-9331-35fa1e8019a0"
      },
      "source": [
        "from sklearn.decomposition import TruncatedSVD\n",
        "svd_model = TruncatedSVD(n_components = 28)\n",
        "svd_model.fit(X)\n",
        "len(svd_model.components_)"
      ],
      "execution_count": 7,
      "outputs": [
        {
          "output_type": "execute_result",
          "data": {
            "text/plain": [
              "28"
            ]
          },
          "metadata": {
            "tags": []
          },
          "execution_count": 7
        }
      ]
    },
    {
      "cell_type": "code",
      "metadata": {
        "colab": {
          "base_uri": "https://localhost:8080/"
        },
        "id": "ujb1sV2IUlir",
        "outputId": "81d7682c-8c1b-4442-b116-56a800d8c8a9"
      },
      "source": [
        "terms = vectorizer.get_feature_names()\n",
        "\n",
        "def get_topics(components, feature_names, n = 10):\n",
        "  for idx, topic in enumerate(components):\n",
        "    print(\"Topic %d:\" % (idx+1), [(feature_names[i], topic[i].round(10)) for i in topic.argsort()[:-n-1:-1]])\n",
        "get_topics(svd_model.components_, terms)"
      ],
      "execution_count": 8,
      "outputs": [
        {
          "output_type": "stream",
          "text": [
            "Topic 1: [('투표', 0.3562806344), ('선거', 0.2378846801), ('사전', 0.2044218275), ('국민', 0.1776727419), ('개표', 0.1372338572), ('여성', 0.1287571502), ('성범죄', 0.1186662845), ('처벌', 0.1181757815), ('부정', 0.1181687155), ('피해자', 0.1093312136)]\n",
            "Topic 2: [('투표', 0.4493257224), ('선거', 0.2698516023), ('사전', 0.2591160439), ('개표', 0.1551445925), ('부정', 0.1389537595), ('투표함', 0.1357897736), ('보관', 0.1260539261), ('선거법', 0.1134574853), ('공직', 0.108835361), ('전자', 0.1049206019)]\n",
            "Topic 3: [('코로나', 0.2173671081), ('국민', 0.1568521036), ('통제', 0.1328270273), ('가족', 0.1081283083), ('대통령', 0.1002584272), ('헌법', 0.1000873215), ('탄핵', 0.0996714182), ('검사', 0.0993462173), ('마스크', 0.0968027376), ('검찰', 0.0869741066)]\n",
            "Topic 4: [('여성', 0.5264013908), ('가족', 0.4105207797), ('남성', 0.180816314), ('평등', 0.1580140051), ('차별', 0.113749602), ('매매', 0.1137277096), ('여가', 0.0965980852), ('부가', 0.0789261532), ('폭력', 0.078692845), ('복지부', 0.0748431714)]\n",
            "Topic 5: [('게임', 0.5260110016), ('개표', 0.272318778), ('전자', 0.2477135758), ('개표기', 0.1865679005), ('심의', 0.1370293491), ('사용', 0.1241318086), ('산업', 0.1060782083), ('동물', 0.0988499348), ('청소년', 0.0983836242), ('규제', 0.0816796323)]\n",
            "Topic 6: [('개표', 0.4568252213), ('전자', 0.3942266862), ('개표기', 0.3057925999), ('사용', 0.1169680382), ('여성', 0.0892163426), ('이라크', 0.0696807772), ('조작', 0.0695264363), ('성범죄', 0.0685568324), ('코로나', 0.0661198935), ('통제', 0.0633176468)]\n",
            "Topic 7: [('게임', 0.4063385233), ('코로나', 0.227332468), ('통제', 0.190734326), ('일상', 0.1505581047), ('여성', 0.128602609), ('백신', 0.1254160257), ('마스크', 0.1214945445), ('사망자', 0.1065258208), ('심의', 0.1019094144), ('방역', 0.1011715593)]\n",
            "Topic 8: [('검찰', 0.2926210041), ('게임', 0.2718863596), ('탄핵', 0.2162940358), ('총장', 0.210676143), ('수사', 0.1980957867), ('헌법', 0.1344165339), ('대통령', 0.107853731), ('국민', 0.1048441923), ('남용', 0.0915621108), ('민주당', 0.0891029638)]\n",
            "Topic 9: [('판매', 0.2069596987), ('한약사', 0.2068193768), ('의약품', 0.206050022), ('한약', 0.1642286332), ('면허', 0.1388016509), ('동물', 0.1349199845), ('청소년', 0.1334127457), ('약사', 0.1260769603), ('조제', 0.1128542374), ('약국', 0.1002793061)]\n",
            "Topic 10: [('수사', 0.2723544396), ('동물', 0.2533325249), ('검찰', 0.2041146084), ('게임', 0.1376026643), ('검사', 0.1091278384), ('총장', 0.1066379433), ('경찰', 0.099012184), ('사건', 0.098859024), ('여성', 0.0978249356), ('피해자', 0.0970880161)]\n",
            "Topic 11: [('아동', 0.3173504613), ('청소년', 0.3002095593), ('학교', 0.1951523158), ('교육', 0.1788668166), ('검찰', 0.1574030283), ('수사', 0.1385567524), ('아청', 0.1337529538), ('학생', 0.1186033995), ('양육비', 0.1158273821), ('검사', 0.1029910684)]\n",
            "Topic 12: [('한약사', 0.2411242661), ('의약품', 0.2403423441), ('한약', 0.1964646493), ('면허', 0.1656778099), ('약사', 0.1498589117), ('범위', 0.1235059782), ('조제', 0.119392538), ('판매', 0.116021465), ('약국', 0.115822734), ('제제', 0.1152214193)]\n",
            "Topic 13: [('선거구', 0.2800339068), ('양육비', 0.2229987968), ('획정', 0.1805401715), ('지급', 0.1469383802), ('아이', 0.1043136291), ('사고', 0.0991144666), ('지역구', 0.0963856001), ('처분', 0.0936224515), ('처벌', 0.0927935185), ('부모', 0.0906240621)]\n",
            "Topic 14: [('선거구', 0.4420675655), ('획정', 0.2817596107), ('지역구', 0.1578977654), ('인구', 0.1522136276), ('선거', 0.149863109), ('총선', 0.1158914199), ('학교', 0.1073790897), ('화성', 0.0982809114), ('교육', 0.0909673636), ('동물', 0.0870716857)]\n",
            "Topic 15: [('양육비', 0.2959880099), ('중국', 0.2580269206), ('지급', 0.2084466859), ('불법', 0.1675777055), ('아이', 0.1529907182), ('대통령', 0.1384096125), ('사이트', 0.1167139865), ('탄핵', 0.115507599), ('폐렴', 0.1142704749), ('부모', 0.1101643083)]\n",
            "Topic 16: [('양육비', 0.3302653726), ('지급', 0.2306402832), ('성범죄', 0.2039716923), ('가족', 0.1642977143), ('선거구', 0.1326380908), ('아이', 0.1263014709), ('검찰', 0.1065308904), ('디지털', 0.0992121823), ('부모', 0.0961947479), ('게임', 0.0920283897)]\n",
            "Topic 17: [('가족', 0.1798105313), ('불법', 0.1666892299), ('선거구', 0.1517296299), ('사이트', 0.1447591109), ('차별', 0.1103519955), ('획정', 0.0986274813), ('주택', 0.0933343374), ('중국', 0.0858321883), ('청소년', 0.079454788), ('국적', 0.0775047163)]\n",
            "Topic 18: [('국적', 0.2671113005), ('차별', 0.2160131183), ('주택', 0.1989242679), ('보험', 0.1673288895), ('금지법', 0.1383110046), ('취득', 0.1269018317), ('아내', 0.1011554713), ('아이', 0.0976388943), ('자국민', 0.0970597071), ('다문화', 0.0968522979)]\n",
            "Topic 19: [('주택', 0.3453921906), ('분양권', 0.1394027304), ('과세', 0.1329173331), ('임대', 0.1318033084), ('거주', 0.1208886199), ('중과', 0.1020755306), ('계약', 0.1013607039), ('여성', 0.0992139157), ('사이트', 0.0984583383), ('수사', 0.0969066876)]\n",
            "Topic 20: [('불법', 0.3016852592), ('사이트', 0.2738705288), ('특권', 0.1287279682), ('국회의원', 0.122178021), ('국적', 0.1171831145), ('저작권', 0.1074245675), ('헌법', 0.0843951034), ('차별', 0.080951917), ('체류자', 0.0737328042), ('아이', 0.0702608526)]\n",
            "Topic 21: [('가족', 0.2563021732), ('개정안', 0.1318471678), ('대통령', 0.1305664211), ('중국', 0.1248479226), ('사건', 0.1222799633), ('사고', 0.1197085194), ('희생자', 0.1122785466), ('아이', 0.0881859264), ('해체', 0.0856001018), ('반란', 0.0802492516)]\n",
            "Topic 22: [('수사', 0.1846151577), ('중도', 0.1703263309), ('유적지', 0.1293983088), ('유적', 0.1230398604), ('랜드', 0.1116530927), ('문화재', 0.1020513636), ('발굴', 0.0996012604), ('재난', 0.0989992073), ('조사', 0.091092817), ('국회의원', 0.0871699937)]\n",
            "Topic 23: [('중도', 0.1940573663), ('주택', 0.1489811092), ('유적지', 0.1483721343), ('유적', 0.1386523548), ('선거법', 0.1346203779), ('공직', 0.1283462976), ('랜드', 0.1275154221), ('문화재', 0.1149003799), ('희생자', 0.1135780179), ('발굴', 0.1122271762)]\n",
            "Topic 24: [('중도', 0.2289680704), ('유적지', 0.1777750812), ('유적', 0.1592065773), ('랜드', 0.1513331408), ('투표', 0.1468075315), ('헌법', 0.1403623918), ('문화재', 0.1327370056), ('발굴', 0.1288279187), ('훼손', 0.0960644047), ('특수', 0.088655998)]\n",
            "Topic 25: [('보험', 0.235745979), ('사고', 0.1512665402), ('중도', 0.1303150613), ('보관', 0.1274960718), ('공직', 0.1179678485), ('선거법', 0.1175530554), ('투표소', 0.1134842816), ('cctv', 0.1118725336), ('유적지', 0.1005087124), ('차별', 0.098874582)]\n",
            "Topic 26: [('보험', 0.2975274486), ('집회', 0.1713301442), ('낙태', 0.1643437711), ('시위', 0.1368745335), ('국적', 0.132562603), ('건강', 0.1271648644), ('소음', 0.1104085163), ('음식물', 0.1092783106), ('수사', 0.0889856934), ('임신', 0.0848508547)]\n",
            "Topic 27: [('산업', 0.2083140563), ('노동자', 0.1867961875), ('교섭', 0.1583671369), ('헌법', 0.1435816716), ('자동차', 0.1260822821), ('보험', 0.1188303337), ('회사', 0.1127350878), ('변화', 0.1117272542), ('기후', 0.1105378165), ('탄핵', 0.1026066505)]\n",
            "Topic 28: [('사고', 0.197714416), ('징역', 0.1608795047), ('보험', 0.1371741807), ('보상', 0.1208487001), ('국적', 0.1176421583), ('어린이', 0.1068005572), ('투표', 0.0962453508), ('이상', 0.0946417971), ('음식물', 0.0895115182), ('이하', 0.0880872186)]\n"
          ],
          "name": "stdout"
        }
      ]
    }
  ]
}