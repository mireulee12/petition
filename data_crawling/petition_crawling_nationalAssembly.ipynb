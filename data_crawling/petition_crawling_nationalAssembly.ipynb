{
 "cells": [
  {
   "cell_type": "code",
   "execution_count": 153,
   "metadata": {},
   "outputs": [],
   "source": [
    "from urllib import request\n",
    "from urllib.request import urlopen\n",
    "from urllib.parse import urlencode, quote, unquote\n",
    "import requests\n",
    "from bs4 import BeautifulSoup\n",
    "import pandas as pd\n",
    "from tqdm import tqdm\n",
    "import time\n",
    "from selenium import webdriver"
   ]
  },
  {
   "cell_type": "code",
   "execution_count": 119,
   "metadata": {},
   "outputs": [],
   "source": [
    "def create_driver(state):\n",
    "    driver = webdriver.Chrome('C:/Users/tianm/chromedriver_win32/chromedriver')\n",
    "    if state == \"onGoing\":\n",
    "        driver.get(\"https://petitions.assembly.go.kr/status/onGoing\")\n",
    "    elif state == \"closed\":\n",
    "        driver.get(\"https://petitions.assembly.go.kr/closed/inadequate\")\n",
    "        driver.find_element_by_id('beginDate').send_keys(\"01\")\n",
    "        driver.find_element_by_css_selector('#contentsbody > div > div > div.board_info.datesearch > div > fieldset > div > input.btn_search').click()\n",
    "    time.sleep(3)\n",
    "    return driver"
   ]
  },
  {
   "cell_type": "code",
   "execution_count": 120,
   "metadata": {},
   "outputs": [],
   "source": [
    "def get_page_num(driver):\n",
    "    petition_num = driver.find_element_by_css_selector('#contentsbody > div > div > div.petitionListWrap > div.petitionListDiv > div.conditionDiv > div > span').text\n",
    "    page_num = int(petition_num)//8 + 1\n",
    "    return page_num"
   ]
  },
  {
   "cell_type": "code",
   "execution_count": 128,
   "metadata": {},
   "outputs": [],
   "source": [
    "def get_links(driver, page_num):\n",
    "    links = []\n",
    "    for j in range(0, page_num):  \n",
    "        if state == 'onGoing':\n",
    "            last = 6\n",
    "        elif state == 'closed':\n",
    "            last = 11\n",
    "        click_to_last_page = f'#contentsbody > div > div > div.petitionListWrap > div.pagination-area > ul > li:nth-of-type({last}) > a'\n",
    "        \n",
    "        if j == 0:\n",
    "            driver.find_element_by_css_selector(click_to_last_page).click()\n",
    "            html = driver.page_source\n",
    "            soup = BeautifulSoup(html, 'html.parser')\n",
    "            link = soup.select('#contentsbody > div > div > div.petitionListWrap > div.petitionListDiv > div.ListDiv > ul > li > div > a')\n",
    "            links.extend(link)\n",
    "        else:\n",
    "            driver.find_element_by_css_selector('#contentsbody > div > div > div.petitionListWrap > div.pagination-area > ul > li:nth-child(2) > a').click()\n",
    "            html = driver.page_source\n",
    "            soup = BeautifulSoup(html, 'html.parser')\n",
    "            link = soup.select('#contentsbody > div > div > div.petitionListWrap > div.petitionListDiv > div.ListDiv > ul > li > div > a')\n",
    "            links.extend(link)\n",
    "        time.sleep(1)   \n",
    "    driver.close()\n",
    "    return links"
   ]
  },
  {
   "cell_type": "code",
   "execution_count": 129,
   "metadata": {},
   "outputs": [],
   "source": [
    "def cleaning_links(links):\n",
    "    clean_links = []\n",
    "    for link in links:\n",
    "        clean_links.append('https://petitions.assembly.go.kr' + link['href'])\n",
    "    return clean_links"
   ]
  },
  {
   "cell_type": "code",
   "execution_count": 123,
   "metadata": {
    "scrolled": false
   },
   "outputs": [],
   "source": [
    "state = 'closed'\n",
    "driver = create_driver(state)\n",
    "page_num = get_page_num(driver)\n",
    "links = get_links(driver, page_num)\n",
    "clean_links_1 = cleaning_links(links)"
   ]
  },
  {
   "cell_type": "code",
   "execution_count": 130,
   "metadata": {},
   "outputs": [],
   "source": [
    "state = 'onGoing'\n",
    "driver = create_driver(state)\n",
    "page_num = get_page_num(driver)\n",
    "links = get_links(driver, page_num)\n",
    "clean_links_2 = cleaning_links(links)"
   ]
  },
  {
   "cell_type": "code",
   "execution_count": 132,
   "metadata": {
    "scrolled": true
   },
   "outputs": [
    {
     "data": {
      "text/plain": [
       "220"
      ]
     },
     "execution_count": 132,
     "metadata": {},
     "output_type": "execute_result"
    }
   ],
   "source": [
    "clean_links = clean_links_1 + clean_links_2\n",
    "len(clean_links)"
   ]
  },
  {
   "cell_type": "code",
   "execution_count": 167,
   "metadata": {},
   "outputs": [],
   "source": [
    "petitions = []"
   ]
  },
  {
   "cell_type": "code",
   "execution_count": 169,
   "metadata": {},
   "outputs": [
    {
     "name": "stderr",
     "output_type": "stream",
     "text": [
      "100%|████████████████████████████████████████████████████████████████████████████████| 220/220 [37:21<00:00, 10.19s/it]\n"
     ]
    }
   ],
   "source": [
    "for i in tqdm(range(0, len(clean_links))):\n",
    "    link = clean_links[i]\n",
    "    driver = webdriver.Chrome('C:/Users/tianm/chromedriver_win32/chromedriver')\n",
    "    driver.get(link)\n",
    "    html = driver.page_source\n",
    "    soup = BeautifulSoup(html, 'html.parser')\n",
    "        \n",
    "    if link.find(\"onGoing\") >= 0:\n",
    "        state = \"청원진행중\"\n",
    "    elif link.find(\"closed\") >= 0:\n",
    "        state = \"청원종료\"\n",
    "    title = soup.select_one('#contentsbody > div > div > div.viewTopDiv > h4').text\n",
    "    categ = soup.select_one('#contentsbody > div > div > div.petitionViewWrap > div.petitionfield > ul.firstline > li > div').text\n",
    "    date = soup.select_one('#contentsbody > div > div > div.petitionViewWrap > div.petitionfield > ul.secondline > li:nth-of-type(1) > div').text.rstrip('\\n(청원서 공개 이후 30일 이내)')\n",
    "    count = soup.select_one('#contentsbody > div > div > div.petitionViewWrap > div.petitionfield > ul.secondline > li:nth-of-type(2) > div > div > ul > li:nth-of-type(1)').text.lstrip('동의자수\\n')\n",
    "    text1 = soup.select_one('#contentsbody > div > div > div.petitionViewWrap > div.petitionTb > dl:nth-of-type(2) > dd').text\n",
    "    text2 = soup.select_one('#contentsbody > div > div > div.petitionViewWrap > div.petitionTb > dl:nth-of-type(3) > dd').text\n",
    "    \n",
    "    petitions.append([state, title, count, categ, date, text1, text2])\n",
    "    \n",
    "    driver.close()\n",
    "    time.sleep(1)"
   ]
  },
  {
   "cell_type": "code",
   "execution_count": 210,
   "metadata": {
    "scrolled": true
   },
   "outputs": [],
   "source": [
    "petitions = pd.DataFrame(petitions) # date는 나누고 text는 합쳐야 함. \n",
    "\n",
    "state = petitions[0]\n",
    "title  = petitions[1].str.rstrip(\"\\n    \")\n",
    "count = petitions[2].str.rstrip(\"명\\n    \") \n",
    "categ = petitions[3]\n",
    "start = petitions[4].str.lstrip(\"\\n            \").str.split(\"~\", expand = True)[0]\n",
    "end = petitions[4].str.lstrip(\"\\n            \").str.split(\"~\", expand = True)[1]\n",
    "text = petitions[5].map(str) + \" \" + petitions[6]"
   ]
  },
  {
   "cell_type": "code",
   "execution_count": 211,
   "metadata": {},
   "outputs": [
    {
     "data": {
      "text/html": [
       "<div>\n",
       "<style scoped>\n",
       "    .dataframe tbody tr th:only-of-type {\n",
       "        vertical-align: middle;\n",
       "    }\n",
       "\n",
       "    .dataframe tbody tr th {\n",
       "        vertical-align: top;\n",
       "    }\n",
       "\n",
       "    .dataframe thead th {\n",
       "        text-align: right;\n",
       "    }\n",
       "</style>\n",
       "<table border=\"1\" class=\"dataframe\">\n",
       "  <thead>\n",
       "    <tr style=\"text-align: right;\">\n",
       "      <th></th>\n",
       "      <th>state</th>\n",
       "      <th>title</th>\n",
       "      <th>count</th>\n",
       "      <th>categ</th>\n",
       "      <th>start</th>\n",
       "      <th>end</th>\n",
       "      <th>text</th>\n",
       "    </tr>\n",
       "  </thead>\n",
       "  <tbody>\n",
       "    <tr>\n",
       "      <th>0</th>\n",
       "      <td>청원종료</td>\n",
       "      <td>국가보안법 개정에 관한 청원</td>\n",
       "      <td>1,761</td>\n",
       "      <td>수사/법무/사법제도</td>\n",
       "      <td>2021-06-16</td>\n",
       "      <td>2021-07-18</td>\n",
       "      <td>최근 국가보안법 폐지 청원이 올라온것을 보았으나 자유대한민국이 월남의 전철을 밟아가...</td>\n",
       "    </tr>\n",
       "    <tr>\n",
       "      <th>1</th>\n",
       "      <td>청원종료</td>\n",
       "      <td>인공지능 윤리 및 고인의 AI구현 법안 제정에 관한 청원</td>\n",
       "      <td>223</td>\n",
       "      <td>과학기술/정보통신</td>\n",
       "      <td>2021-06-15</td>\n",
       "      <td>2021-07-17</td>\n",
       "      <td>동의 없는 AI구현에 대한 제재를 가할 수 있도록 규정을 만들고 그 외의 AI구현을...</td>\n",
       "    </tr>\n",
       "    <tr>\n",
       "      <th>2</th>\n",
       "      <td>청원종료</td>\n",
       "      <td>포괄적 차별금지법 법안 제정에 관한 동의 및 일부 내용 수정 요청에 관한 청원</td>\n",
       "      <td>14,025</td>\n",
       "      <td>인권/성평등/노동</td>\n",
       "      <td>2021-06-15</td>\n",
       "      <td>2021-07-17</td>\n",
       "      <td>UN 사회권위원회에서는 12년, 국가인권위원회에서는 15년째 포괄적 차별금지법을 제...</td>\n",
       "    </tr>\n",
       "    <tr>\n",
       "      <th>3</th>\n",
       "      <td>청원종료</td>\n",
       "      <td>국민연금 수급 개시 연령과 연계한 정년연장에 관한 청원</td>\n",
       "      <td>19,807</td>\n",
       "      <td>인권/성평등/노동</td>\n",
       "      <td>2021-06-14</td>\n",
       "      <td>2021-07-16</td>\n",
       "      <td>노동자의 정년의 기간을 국민연금 수급 개시 연령과 연계하여 “고용상 연령차별금지 및...</td>\n",
       "    </tr>\n",
       "    <tr>\n",
       "      <th>4</th>\n",
       "      <td>청원종료</td>\n",
       "      <td>하수도법 일부개정법률안에 관한 청원</td>\n",
       "      <td>736</td>\n",
       "      <td>재난/안전/환경</td>\n",
       "      <td>2021-06-11</td>\n",
       "      <td>2021-07-1</td>\n",
       "      <td>하수도법에의한 특정공산품(주방용오물분쇄기)은 한미 FTA 무역협정 공산품이며, 특정...</td>\n",
       "    </tr>\n",
       "    <tr>\n",
       "      <th>...</th>\n",
       "      <td>...</td>\n",
       "      <td>...</td>\n",
       "      <td>...</td>\n",
       "      <td>...</td>\n",
       "      <td>...</td>\n",
       "      <td>...</td>\n",
       "      <td>...</td>\n",
       "    </tr>\n",
       "    <tr>\n",
       "      <th>215</th>\n",
       "      <td>청원진행중</td>\n",
       "      <td>심리상담서비스법 제정에 관한 청원</td>\n",
       "      <td>226</td>\n",
       "      <td>복지/보훈</td>\n",
       "      <td>2021-07-07</td>\n",
       "      <td>2021-08-08</td>\n",
       "      <td>최근 한국심리학회(상담심리학회, 임상심리학회 포함 산하 15개 분과학회)와 한국상담...</td>\n",
       "    </tr>\n",
       "    <tr>\n",
       "      <th>216</th>\n",
       "      <td>청원진행중</td>\n",
       "      <td>온라인 플랫폼 중개거래의 공정화에 관한 법률안 제정에 관한 청원</td>\n",
       "      <td>169</td>\n",
       "      <td>소비자/공정거래</td>\n",
       "      <td>2021-06-25</td>\n",
       "      <td>2021-07-27</td>\n",
       "      <td>출판계와 플랫폼의 갑질을 막아주세요 한국의 출판계의 미래와 웹소설, 웹툰 작가들을 ...</td>\n",
       "    </tr>\n",
       "    <tr>\n",
       "      <th>217</th>\n",
       "      <td>청원진행중</td>\n",
       "      <td>대체휴일에 관한 청원</td>\n",
       "      <td>161</td>\n",
       "      <td>행정/지방자치</td>\n",
       "      <td>2021-07-14</td>\n",
       "      <td>2021-08-1</td>\n",
       "      <td>토, 일요일의 공휴일에 대한 대체휴일을 일괄적으로 다음 월요일로 정하는 것에 대한 ...</td>\n",
       "    </tr>\n",
       "    <tr>\n",
       "      <th>218</th>\n",
       "      <td>청원진행중</td>\n",
       "      <td>셧다운제 폐지를 위한 청소년 보호법 개정에 관한 청원</td>\n",
       "      <td>152</td>\n",
       "      <td>저출산/고령화/아동/청소년/가족</td>\n",
       "      <td>2021-07-07</td>\n",
       "      <td>2021-08-08</td>\n",
       "      <td>순기능은 제대로 하지 못한채 역효과만 일으키고 있는 셧다운제(청소년 보호법 제26조...</td>\n",
       "    </tr>\n",
       "    <tr>\n",
       "      <th>219</th>\n",
       "      <td>청원진행중</td>\n",
       "      <td>배심원제의 행정재판 도입 입법에 관한 청원</td>\n",
       "      <td>132</td>\n",
       "      <td>수사/법무/사법제도</td>\n",
       "      <td>2021-07-14</td>\n",
       "      <td>2021-08-1</td>\n",
       "      <td>1. 세계 민주주의 여러 나라 가운데 배심원제 등 국민참여 재판율이 가장 낮은 2...</td>\n",
       "    </tr>\n",
       "  </tbody>\n",
       "</table>\n",
       "<p>220 rows × 7 columns</p>\n",
       "</div>"
      ],
      "text/plain": [
       "     state                                        title         count  \\\n",
       "0     청원종료                              국가보안법 개정에 관한 청원         1,761   \n",
       "1     청원종료              인공지능 윤리 및 고인의 AI구현 법안 제정에 관한 청원           223   \n",
       "2     청원종료  포괄적 차별금지법 법안 제정에 관한 동의 및 일부 내용 수정 요청에 관한 청원        14,025   \n",
       "3     청원종료               국민연금 수급 개시 연령과 연계한 정년연장에 관한 청원        19,807   \n",
       "4     청원종료                          하수도법 일부개정법률안에 관한 청원           736   \n",
       "..     ...                                          ...           ...   \n",
       "215  청원진행중                           심리상담서비스법 제정에 관한 청원           226   \n",
       "216  청원진행중          온라인 플랫폼 중개거래의 공정화에 관한 법률안 제정에 관한 청원           169   \n",
       "217  청원진행중                                  대체휴일에 관한 청원           161   \n",
       "218  청원진행중                셧다운제 폐지를 위한 청소년 보호법 개정에 관한 청원           152   \n",
       "219  청원진행중                      배심원제의 행정재판 도입 입법에 관한 청원           132   \n",
       "\n",
       "                 categ       start         end  \\\n",
       "0           수사/법무/사법제도  2021-06-16  2021-07-18   \n",
       "1            과학기술/정보통신  2021-06-15  2021-07-17   \n",
       "2            인권/성평등/노동  2021-06-15  2021-07-17   \n",
       "3            인권/성평등/노동  2021-06-14  2021-07-16   \n",
       "4             재난/안전/환경  2021-06-11   2021-07-1   \n",
       "..                 ...         ...         ...   \n",
       "215              복지/보훈  2021-07-07  2021-08-08   \n",
       "216           소비자/공정거래  2021-06-25  2021-07-27   \n",
       "217            행정/지방자치  2021-07-14   2021-08-1   \n",
       "218  저출산/고령화/아동/청소년/가족  2021-07-07  2021-08-08   \n",
       "219         수사/법무/사법제도  2021-07-14   2021-08-1   \n",
       "\n",
       "                                                  text  \n",
       "0    최근 국가보안법 폐지 청원이 올라온것을 보았으나 자유대한민국이 월남의 전철을 밟아가...  \n",
       "1    동의 없는 AI구현에 대한 제재를 가할 수 있도록 규정을 만들고 그 외의 AI구현을...  \n",
       "2    UN 사회권위원회에서는 12년, 국가인권위원회에서는 15년째 포괄적 차별금지법을 제...  \n",
       "3    노동자의 정년의 기간을 국민연금 수급 개시 연령과 연계하여 “고용상 연령차별금지 및...  \n",
       "4    하수도법에의한 특정공산품(주방용오물분쇄기)은 한미 FTA 무역협정 공산품이며, 특정...  \n",
       "..                                                 ...  \n",
       "215  최근 한국심리학회(상담심리학회, 임상심리학회 포함 산하 15개 분과학회)와 한국상담...  \n",
       "216  출판계와 플랫폼의 갑질을 막아주세요 한국의 출판계의 미래와 웹소설, 웹툰 작가들을 ...  \n",
       "217  토, 일요일의 공휴일에 대한 대체휴일을 일괄적으로 다음 월요일로 정하는 것에 대한 ...  \n",
       "218  순기능은 제대로 하지 못한채 역효과만 일으키고 있는 셧다운제(청소년 보호법 제26조...  \n",
       "219   1. 세계 민주주의 여러 나라 가운데 배심원제 등 국민참여 재판율이 가장 낮은 2...  \n",
       "\n",
       "[220 rows x 7 columns]"
      ]
     },
     "execution_count": 211,
     "metadata": {},
     "output_type": "execute_result"
    }
   ],
   "source": [
    "d = {'state': state, \"title\":title, \"count\": count, \"categ\": categ, \"start\":start, \"end\": end, \"text\":text }\n",
    "df = pd.DataFrame(data=d)\n",
    "df"
   ]
  },
  {
   "cell_type": "code",
   "execution_count": 213,
   "metadata": {},
   "outputs": [],
   "source": [
    "df.to_excel(\"D:\\Summer 2021\\국회.xlsx\", index = False)"
   ]
  }
 ],
 "metadata": {
  "kernelspec": {
   "display_name": "Python 3",
   "language": "python",
   "name": "python3"
  },
  "language_info": {
   "codemirror_mode": {
    "name": "ipython",
    "version": 3
   },
   "file_extension": ".py",
   "mimetype": "text/x-python",
   "name": "python",
   "nbconvert_exporter": "python",
   "pygments_lexer": "ipython3",
   "version": "3.8.7"
  }
 },
 "nbformat": 4,
 "nbformat_minor": 4
}
