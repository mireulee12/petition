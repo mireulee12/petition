{
 "cells": [
  {
   "cell_type": "code",
   "execution_count": 28,
   "metadata": {},
   "outputs": [],
   "source": [
    "from urllib import request\n",
    "from urllib.request import urlopen\n",
    "from urllib.parse import urlencode, quote, unquote\n",
    "import requests\n",
    "from bs4 import BeautifulSoup\n",
    "import pandas as pd\n",
    "import time\n",
    "from tqdm import tqdm"
   ]
  },
  {
   "cell_type": "code",
   "execution_count": 14,
   "metadata": {},
   "outputs": [],
   "source": [
    "selector = {'state':\"#cont_view > div.cs_area > div.new_contents > div > div.petitionsView_left > div > div.petitionsView_progress > h4\", \n",
    "            'title':\"#cont_view > div.cs_area > div.new_contents > div > div.petitionsView_left > div > h3\", \n",
    "            'count':\"#cont_view > div.cs_area > div.new_contents > div > div.petitionsView_left > div > h2 > span\", \n",
    "            'info':\"#cont_view > div.cs_area > div.new_contents > div > div.petitionsView_left > div > div.petitionsView_info > ul\",\n",
    "            'text':\"#cont_view > div.cs_area > div.new_contents > div > div.petitionsView_left > div > div.petitionsView_write > div.View_write\"}"
   ]
  },
  {
   "cell_type": "code",
   "execution_count": 15,
   "metadata": {},
   "outputs": [],
   "source": [
    "def create_url(index):\n",
    "    base_url = \"https://www1.president.go.kr/petitions/\"\n",
    "    index = str(i)\n",
    "    url = base_url + index\n",
    "    return url"
   ]
  },
  {
   "cell_type": "code",
   "execution_count": 16,
   "metadata": {},
   "outputs": [],
   "source": [
    "def get_content(response):\n",
    "\n",
    "    state = soup.select_one(selector.get(\"state\")).text\n",
    "    title = soup.select_one(selector.get(\"title\")).text\n",
    "    count = soup.select_one(selector.get(\"count\")).text\n",
    "    text = soup.select_one(selector.get(\"text\")).text\n",
    "    info = soup.select_one(selector.get(\"info\")).text\n",
    "    \n",
    "    content = [state, title, count, info, text]\n",
    "    \n",
    "    return content"
   ]
  },
  {
   "cell_type": "code",
   "execution_count": 17,
   "metadata": {},
   "outputs": [],
   "source": [
    "def clean_content(content):    \n",
    "    info = content[3].strip(\"\\n\").split(\"\\n\") # 분리\n",
    "    categ = info[0].lstrip(\"카테고리\")\n",
    "    start = info[1].lstrip(\"청원시작\")\n",
    "    end = info[2].lstrip(\"청원마감\")\n",
    "    \n",
    "    text = content[4].replace(\"\\n\", ' ').replace(\"\\r\", ' ').replace(\"\\t\", ' ').strip() # 불필요한 문자열 제거\n",
    "        \n",
    "    clean = [i, content[0], content[1], content[2], categ, start, end, text]\n",
    "    return clean"
   ]
  },
  {
   "cell_type": "code",
   "execution_count": 18,
   "metadata": {},
   "outputs": [],
   "source": [
    "data = []"
   ]
  },
  {
   "cell_type": "code",
   "execution_count": 19,
   "metadata": {},
   "outputs": [
    {
     "name": "stderr",
     "output_type": "stream",
     "text": [
      "  0%|                                                                                        | 0/15315 [00:00<?, ?it/s]c:\\users\\tianm\\appdata\\local\\programs\\python\\python38\\lib\\site-packages\\bs4\\__init__.py:177: UserWarning: No parser was explicitly specified, so I'm using the best available HTML parser for this system (\"lxml\"). This usually isn't a problem, but if you run this code on another system, or in a different virtual environment, it may use a different parser and behave differently.\n",
      "\n",
      "The code that caused this warning is on line 194 of the file c:\\users\\tianm\\appdata\\local\\programs\\python\\python38\\lib\\runpy.py. To get rid of this warning, change code that looks like this:\n",
      "\n",
      " BeautifulSoup(YOUR_MARKUP})\n",
      "\n",
      "to this:\n",
      "\n",
      " BeautifulSoup(YOUR_MARKUP, \"lxml\")\n",
      "\n",
      "  warnings.warn(self.NO_PARSER_SPECIFIED_WARNING % dict(\n",
      "  2%|█▊                                                                          | 362/15315 [07:11<4:54:54,  1.18s/it]"
     ]
    },
    {
     "name": "stdout",
     "output_type": "stream",
     "text": [
      "584636번째 청원은 비공개된 청원입니다\n"
     ]
    },
    {
     "name": "stderr",
     "output_type": "stream",
     "text": [
      "  5%|███▉                                                                        | 786/15315 [15:34<4:45:32,  1.18s/it]"
     ]
    },
    {
     "name": "stdout",
     "output_type": "stream",
     "text": [
      "585060번째 청원은 비공개된 청원입니다\n"
     ]
    },
    {
     "name": "stderr",
     "output_type": "stream",
     "text": [
      "  6%|████▎                                                                       | 869/15315 [17:13<4:48:31,  1.20s/it]"
     ]
    },
    {
     "name": "stdout",
     "output_type": "stream",
     "text": [
      "585143번째 청원은 비공개된 청원입니다\n"
     ]
    },
    {
     "name": "stderr",
     "output_type": "stream",
     "text": [
      "  6%|████▎                                                                       | 872/15315 [17:17<4:52:50,  1.22s/it]"
     ]
    },
    {
     "name": "stdout",
     "output_type": "stream",
     "text": [
      "585146번째 청원은 비공개된 청원입니다\n"
     ]
    },
    {
     "name": "stderr",
     "output_type": "stream",
     "text": [
      " 10%|███████▎                                                                   | 1500/15315 [29:49<4:34:26,  1.19s/it]"
     ]
    },
    {
     "name": "stdout",
     "output_type": "stream",
     "text": [
      "585774번째 청원은 비공개된 청원입니다\n"
     ]
    },
    {
     "name": "stderr",
     "output_type": "stream",
     "text": [
      " 10%|███████▌                                                                   | 1552/15315 [30:50<4:28:53,  1.17s/it]"
     ]
    },
    {
     "name": "stdout",
     "output_type": "stream",
     "text": [
      "585826번째 청원은 비공개된 청원입니다\n"
     ]
    },
    {
     "name": "stderr",
     "output_type": "stream",
     "text": [
      " 11%|███████▉                                                                   | 1611/15315 [32:01<4:39:35,  1.22s/it]"
     ]
    },
    {
     "name": "stdout",
     "output_type": "stream",
     "text": [
      "585885번째 청원은 비공개된 청원입니다\n"
     ]
    },
    {
     "name": "stderr",
     "output_type": "stream",
     "text": [
      " 11%|████████                                                                   | 1647/15315 [32:44<4:46:55,  1.26s/it]"
     ]
    },
    {
     "name": "stdout",
     "output_type": "stream",
     "text": [
      "585921번째 청원은 비공개된 청원입니다\n"
     ]
    },
    {
     "name": "stderr",
     "output_type": "stream",
     "text": [
      " 11%|████████▏                                                                  | 1661/15315 [33:01<4:30:14,  1.19s/it]"
     ]
    },
    {
     "name": "stdout",
     "output_type": "stream",
     "text": [
      "585935번째 청원은 비공개된 청원입니다\n"
     ]
    },
    {
     "name": "stderr",
     "output_type": "stream",
     "text": [
      " 13%|█████████▊                                                                 | 2007/15315 [39:54<4:22:07,  1.18s/it]"
     ]
    },
    {
     "name": "stdout",
     "output_type": "stream",
     "text": [
      "586281번째 청원은 비공개된 청원입니다\n"
     ]
    },
    {
     "name": "stderr",
     "output_type": "stream",
     "text": [
      " 13%|█████████▉                                                                 | 2024/15315 [40:14<4:27:10,  1.21s/it]"
     ]
    },
    {
     "name": "stdout",
     "output_type": "stream",
     "text": [
      "586298번째 청원은 비공개된 청원입니다\n"
     ]
    },
    {
     "name": "stderr",
     "output_type": "stream",
     "text": [
      " 13%|█████████▉                                                                 | 2037/15315 [40:30<4:20:37,  1.18s/it]"
     ]
    },
    {
     "name": "stdout",
     "output_type": "stream",
     "text": [
      "586311번째 청원은 비공개된 청원입니다\n"
     ]
    },
    {
     "name": "stderr",
     "output_type": "stream",
     "text": [
      " 13%|█████████▉                                                                 | 2038/15315 [40:31<4:19:45,  1.17s/it]"
     ]
    },
    {
     "name": "stdout",
     "output_type": "stream",
     "text": [
      "586312번째 청원은 비공개된 청원입니다\n"
     ]
    },
    {
     "name": "stderr",
     "output_type": "stream",
     "text": [
      " 15%|██████████▉                                                                | 2225/15315 [44:14<4:18:54,  1.19s/it]"
     ]
    },
    {
     "name": "stdout",
     "output_type": "stream",
     "text": [
      "586499번째 청원은 비공개된 청원입니다\n"
     ]
    },
    {
     "name": "stderr",
     "output_type": "stream",
     "text": [
      " 15%|███████████                                                                | 2247/15315 [44:40<4:22:32,  1.21s/it]"
     ]
    },
    {
     "name": "stdout",
     "output_type": "stream",
     "text": [
      "586521번째 청원은 비공개된 청원입니다\n"
     ]
    },
    {
     "name": "stderr",
     "output_type": "stream",
     "text": [
      " 16%|████████████▎                                                              | 2516/15315 [50:00<4:12:58,  1.19s/it]"
     ]
    },
    {
     "name": "stdout",
     "output_type": "stream",
     "text": [
      "586790번째 청원은 비공개된 청원입니다\n"
     ]
    },
    {
     "name": "stderr",
     "output_type": "stream",
     "text": [
      " 17%|█████████████                                                              | 2680/15315 [53:15<4:11:22,  1.19s/it]"
     ]
    },
    {
     "name": "stdout",
     "output_type": "stream",
     "text": [
      "586954번째 청원은 비공개된 청원입니다\n"
     ]
    },
    {
     "name": "stderr",
     "output_type": "stream",
     "text": [
      " 18%|█████████████▎                                                             | 2727/15315 [54:10<4:08:52,  1.19s/it]"
     ]
    },
    {
     "name": "stdout",
     "output_type": "stream",
     "text": [
      "587001번째 청원은 비공개된 청원입니다\n"
     ]
    },
    {
     "name": "stderr",
     "output_type": "stream",
     "text": [
      " 19%|██████████████▏                                                            | 2907/15315 [57:45<4:10:00,  1.21s/it]"
     ]
    },
    {
     "name": "stdout",
     "output_type": "stream",
     "text": [
      "587181번째 청원은 비공개된 청원입니다\n"
     ]
    },
    {
     "name": "stderr",
     "output_type": "stream",
     "text": [
      " 20%|██████████████▋                                                            | 3007/15315 [59:44<4:00:39,  1.17s/it]"
     ]
    },
    {
     "name": "stdout",
     "output_type": "stream",
     "text": [
      "587281번째 청원은 비공개된 청원입니다\n"
     ]
    },
    {
     "name": "stderr",
     "output_type": "stream",
     "text": [
      " 24%|█████████████████▋                                                       | 3720/15315 [1:15:05<3:50:45,  1.19s/it]"
     ]
    },
    {
     "name": "stdout",
     "output_type": "stream",
     "text": [
      "587994번째 청원은 비공개된 청원입니다\n"
     ]
    },
    {
     "name": "stderr",
     "output_type": "stream",
     "text": [
      " 25%|██████████████████▎                                                      | 3833/15315 [1:17:20<4:07:07,  1.29s/it]"
     ]
    },
    {
     "name": "stdout",
     "output_type": "stream",
     "text": [
      "588107번째 청원은 비공개된 청원입니다\n"
     ]
    },
    {
     "name": "stderr",
     "output_type": "stream",
     "text": [
      " 26%|███████████████████                                                      | 4002/15315 [1:20:40<3:44:22,  1.19s/it]"
     ]
    },
    {
     "name": "stdout",
     "output_type": "stream",
     "text": [
      "588276번째 청원은 비공개된 청원입니다\n"
     ]
    },
    {
     "name": "stderr",
     "output_type": "stream",
     "text": [
      " 26%|███████████████████▎                                                     | 4043/15315 [1:21:29<3:44:23,  1.19s/it]"
     ]
    },
    {
     "name": "stdout",
     "output_type": "stream",
     "text": [
      "588317번째 청원은 비공개된 청원입니다\n"
     ]
    },
    {
     "name": "stderr",
     "output_type": "stream",
     "text": [
      " 28%|████████████████████▏                                                    | 4238/15315 [1:25:22<3:38:00,  1.18s/it]"
     ]
    },
    {
     "name": "stdout",
     "output_type": "stream",
     "text": [
      "588512번째 청원은 비공개된 청원입니다\n"
     ]
    },
    {
     "name": "stderr",
     "output_type": "stream",
     "text": [
      " 28%|████████████████████▍                                                    | 4295/15315 [1:26:32<4:02:56,  1.32s/it]"
     ]
    },
    {
     "name": "stdout",
     "output_type": "stream",
     "text": [
      "588569번째 청원은 비공개된 청원입니다\n"
     ]
    },
    {
     "name": "stderr",
     "output_type": "stream",
     "text": [
      " 29%|█████████████████████▏                                                   | 4437/15315 [1:29:52<3:32:51,  1.17s/it]"
     ]
    },
    {
     "name": "stdout",
     "output_type": "stream",
     "text": [
      "588711번째 청원은 비공개된 청원입니다\n"
     ]
    },
    {
     "name": "stderr",
     "output_type": "stream",
     "text": [
      " 29%|█████████████████████▎                                                   | 4483/15315 [1:30:47<3:33:28,  1.18s/it]"
     ]
    },
    {
     "name": "stdout",
     "output_type": "stream",
     "text": [
      "588757번째 청원은 비공개된 청원입니다\n"
     ]
    },
    {
     "name": "stderr",
     "output_type": "stream",
     "text": [
      " 30%|█████████████████████▌                                                   | 4525/15315 [1:31:48<4:21:09,  1.45s/it]"
     ]
    },
    {
     "name": "stdout",
     "output_type": "stream",
     "text": [
      "588799번째 청원은 비공개된 청원입니다\n"
     ]
    },
    {
     "name": "stderr",
     "output_type": "stream",
     "text": [
      " 30%|█████████████████████▌                                                   | 4533/15315 [1:32:10<7:10:18,  2.39s/it]"
     ]
    },
    {
     "name": "stdout",
     "output_type": "stream",
     "text": [
      "588807번째 청원은 비공개된 청원입니다\n"
     ]
    },
    {
     "name": "stderr",
     "output_type": "stream",
     "text": [
      " 34%|████████████████████████▌                                                | 5166/15315 [1:44:54<3:19:54,  1.18s/it]"
     ]
    },
    {
     "name": "stdout",
     "output_type": "stream",
     "text": [
      "589440번째 청원은 비공개된 청원입니다\n"
     ]
    },
    {
     "name": "stderr",
     "output_type": "stream",
     "text": [
      " 35%|█████████████████████████▌                                               | 5356/15315 [1:48:39<3:15:37,  1.18s/it]"
     ]
    },
    {
     "name": "stdout",
     "output_type": "stream",
     "text": [
      "589630번째 청원은 비공개된 청원입니다\n"
     ]
    },
    {
     "name": "stderr",
     "output_type": "stream",
     "text": [
      " 35%|█████████████████████████▉                                               | 5432/15315 [1:50:10<3:29:12,  1.27s/it]"
     ]
    },
    {
     "name": "stdout",
     "output_type": "stream",
     "text": [
      "589706번째 청원은 비공개된 청원입니다\n"
     ]
    },
    {
     "name": "stderr",
     "output_type": "stream",
     "text": [
      " 36%|██████████████████████████▏                                              | 5501/15315 [1:51:32<3:16:17,  1.20s/it]"
     ]
    },
    {
     "name": "stdout",
     "output_type": "stream",
     "text": [
      "589775번째 청원은 비공개된 청원입니다\n"
     ]
    },
    {
     "name": "stderr",
     "output_type": "stream",
     "text": [
      " 38%|███████████████████████████▍                                             | 5767/15315 [1:56:49<3:05:38,  1.17s/it]"
     ]
    },
    {
     "name": "stdout",
     "output_type": "stream",
     "text": [
      "590041번째 청원은 비공개된 청원입니다\n"
     ]
    },
    {
     "name": "stderr",
     "output_type": "stream",
     "text": [
      " 38%|████████████████████████████                                             | 5875/15315 [1:58:57<3:06:14,  1.18s/it]"
     ]
    },
    {
     "name": "stdout",
     "output_type": "stream",
     "text": [
      "590149번째 청원은 비공개된 청원입니다\n"
     ]
    },
    {
     "name": "stderr",
     "output_type": "stream",
     "text": [
      " 39%|████████████████████████████▏                                            | 5906/15315 [1:59:34<3:04:47,  1.18s/it]"
     ]
    },
    {
     "name": "stdout",
     "output_type": "stream",
     "text": [
      "590180번째 청원은 비공개된 청원입니다\n"
     ]
    },
    {
     "name": "stderr",
     "output_type": "stream",
     "text": [
      " 39%|████████████████████████████▌                                            | 6003/15315 [2:01:30<3:04:36,  1.19s/it]"
     ]
    },
    {
     "name": "stdout",
     "output_type": "stream",
     "text": [
      "590277번째 청원은 비공개된 청원입니다\n"
     ]
    },
    {
     "name": "stderr",
     "output_type": "stream",
     "text": [
      " 40%|█████████████████████████████▏                                           | 6121/15315 [2:03:51<3:03:05,  1.19s/it]"
     ]
    },
    {
     "name": "stdout",
     "output_type": "stream",
     "text": [
      "590395번째 청원은 비공개된 청원입니다\n"
     ]
    },
    {
     "name": "stderr",
     "output_type": "stream",
     "text": [
      " 40%|█████████████████████████████▌                                           | 6198/15315 [2:05:23<3:09:46,  1.25s/it]"
     ]
    },
    {
     "name": "stdout",
     "output_type": "stream",
     "text": [
      "590472번째 청원은 비공개된 청원입니다\n"
     ]
    },
    {
     "name": "stderr",
     "output_type": "stream",
     "text": [
      " 41%|█████████████████████████████▋                                           | 6236/15315 [2:06:08<3:04:31,  1.22s/it]"
     ]
    },
    {
     "name": "stdout",
     "output_type": "stream",
     "text": [
      "590510번째 청원은 비공개된 청원입니다\n"
     ]
    },
    {
     "name": "stderr",
     "output_type": "stream",
     "text": [
      " 41%|██████████████████████████████▎                                          | 6352/15315 [2:08:27<2:54:07,  1.17s/it]"
     ]
    },
    {
     "name": "stdout",
     "output_type": "stream",
     "text": [
      "590626번째 청원은 비공개된 청원입니다\n"
     ]
    },
    {
     "name": "stderr",
     "output_type": "stream",
     "text": [
      " 42%|██████████████████████████████▎                                          | 6372/15315 [2:08:51<2:58:01,  1.19s/it]"
     ]
    },
    {
     "name": "stdout",
     "output_type": "stream",
     "text": [
      "590646번째 청원은 비공개된 청원입니다\n"
     ]
    },
    {
     "name": "stderr",
     "output_type": "stream",
     "text": [
      " 43%|███████████████████████████████                                          | 6529/15315 [2:11:57<3:07:50,  1.28s/it]"
     ]
    },
    {
     "name": "stdout",
     "output_type": "stream",
     "text": [
      "590803번째 청원은 비공개된 청원입니다\n"
     ]
    },
    {
     "name": "stderr",
     "output_type": "stream",
     "text": [
      " 43%|███████████████████████████████▏                                         | 6548/15315 [2:12:20<2:54:58,  1.20s/it]"
     ]
    },
    {
     "name": "stdout",
     "output_type": "stream",
     "text": [
      "590822번째 청원은 비공개된 청원입니다\n"
     ]
    },
    {
     "name": "stderr",
     "output_type": "stream",
     "text": [
      " 45%|████████████████████████████████▉                                        | 6903/15315 [2:19:22<2:48:37,  1.20s/it]"
     ]
    },
    {
     "name": "stdout",
     "output_type": "stream",
     "text": [
      "591177번째 청원은 비공개된 청원입니다\n"
     ]
    },
    {
     "name": "stderr",
     "output_type": "stream",
     "text": [
      " 45%|████████████████████████████████▉                                        | 6917/15315 [2:19:39<2:45:36,  1.18s/it]"
     ]
    },
    {
     "name": "stdout",
     "output_type": "stream",
     "text": [
      "591191번째 청원은 비공개된 청원입니다\n"
     ]
    },
    {
     "name": "stderr",
     "output_type": "stream",
     "text": [
      " 46%|█████████████████████████████████▊                                       | 7095/15315 [2:23:11<2:44:28,  1.20s/it]"
     ]
    },
    {
     "name": "stdout",
     "output_type": "stream",
     "text": [
      "591369번째 청원은 비공개된 청원입니다\n"
     ]
    },
    {
     "name": "stderr",
     "output_type": "stream",
     "text": [
      " 50%|████████████████████████████████████▏                                    | 7589/15315 [2:32:59<2:35:48,  1.21s/it]"
     ]
    },
    {
     "name": "stdout",
     "output_type": "stream",
     "text": [
      "591863번째 청원은 비공개된 청원입니다\n"
     ]
    },
    {
     "name": "stderr",
     "output_type": "stream",
     "text": [
      " 50%|████████████████████████████████████▎                                    | 7616/15315 [2:33:31<2:30:16,  1.17s/it]"
     ]
    },
    {
     "name": "stdout",
     "output_type": "stream",
     "text": [
      "591890번째 청원은 비공개된 청원입니다\n"
     ]
    },
    {
     "name": "stderr",
     "output_type": "stream",
     "text": [
      " 50%|████████████████████████████████████▌                                    | 7660/15315 [2:34:24<2:32:53,  1.20s/it]"
     ]
    },
    {
     "name": "stdout",
     "output_type": "stream",
     "text": [
      "591934번째 청원은 비공개된 청원입니다\n"
     ]
    },
    {
     "name": "stderr",
     "output_type": "stream",
     "text": [
      " 50%|████████████████████████████████████▋                                    | 7687/15315 [2:34:56<2:30:10,  1.18s/it]"
     ]
    },
    {
     "name": "stdout",
     "output_type": "stream",
     "text": [
      "591961번째 청원은 비공개된 청원입니다\n"
     ]
    },
    {
     "name": "stderr",
     "output_type": "stream",
     "text": [
      " 51%|████████████████████████████████████▉                                    | 7738/15315 [2:35:56<2:33:22,  1.21s/it]"
     ]
    },
    {
     "name": "stdout",
     "output_type": "stream",
     "text": [
      "592012번째 청원은 비공개된 청원입니다\n"
     ]
    },
    {
     "name": "stderr",
     "output_type": "stream",
     "text": [
      " 51%|█████████████████████████████████████▎                                   | 7816/15315 [2:37:29<2:28:27,  1.19s/it]"
     ]
    },
    {
     "name": "stdout",
     "output_type": "stream",
     "text": [
      "592090번째 청원은 비공개된 청원입니다\n"
     ]
    },
    {
     "name": "stderr",
     "output_type": "stream",
     "text": [
      " 53%|██████████████████████████████████████▍                                  | 8074/15315 [2:42:36<2:22:23,  1.18s/it]"
     ]
    },
    {
     "name": "stdout",
     "output_type": "stream",
     "text": [
      "592348번째 청원은 비공개된 청원입니다\n"
     ]
    },
    {
     "name": "stderr",
     "output_type": "stream",
     "text": [
      " 54%|███████████████████████████████████████▍                                 | 8265/15315 [2:46:23<2:21:08,  1.20s/it]"
     ]
    },
    {
     "name": "stdout",
     "output_type": "stream",
     "text": [
      "592539번째 청원은 비공개된 청원입니다\n"
     ]
    },
    {
     "name": "stderr",
     "output_type": "stream",
     "text": [
      " 56%|█████████████████████████████████████████                                | 8625/15315 [2:53:31<2:12:26,  1.19s/it]"
     ]
    },
    {
     "name": "stdout",
     "output_type": "stream",
     "text": [
      "592899번째 청원은 비공개된 청원입니다\n"
     ]
    },
    {
     "name": "stderr",
     "output_type": "stream",
     "text": [
      " 57%|█████████████████████████████████████████▉                               | 8796/15315 [2:56:56<2:10:12,  1.20s/it]"
     ]
    },
    {
     "name": "stdout",
     "output_type": "stream",
     "text": [
      "593070번째 청원은 비공개된 청원입니다\n"
     ]
    },
    {
     "name": "stderr",
     "output_type": "stream",
     "text": [
      " 59%|███████████████████████████████████████████                              | 9032/15315 [3:01:38<2:03:54,  1.18s/it]"
     ]
    },
    {
     "name": "stdout",
     "output_type": "stream",
     "text": [
      "593306번째 청원은 비공개된 청원입니다\n"
     ]
    },
    {
     "name": "stderr",
     "output_type": "stream",
     "text": [
      " 63%|██████████████████████████████████████████████▏                          | 9688/15315 [3:14:40<1:51:11,  1.19s/it]"
     ]
    },
    {
     "name": "stdout",
     "output_type": "stream",
     "text": [
      "593962번째 청원은 비공개된 청원입니다\n"
     ]
    },
    {
     "name": "stderr",
     "output_type": "stream",
     "text": [
      " 65%|███████████████████████████████████████████████▎                         | 9924/15315 [3:19:24<1:46:25,  1.18s/it]"
     ]
    },
    {
     "name": "stdout",
     "output_type": "stream",
     "text": [
      "594198번째 청원은 비공개된 청원입니다\n"
     ]
    },
    {
     "name": "stderr",
     "output_type": "stream",
     "text": [
      " 66%|███████████████████████████████████████████████▍                        | 10101/15315 [3:22:55<1:44:49,  1.21s/it]"
     ]
    },
    {
     "name": "stdout",
     "output_type": "stream",
     "text": [
      "594375번째 청원은 비공개된 청원입니다\n"
     ]
    },
    {
     "name": "stderr",
     "output_type": "stream",
     "text": [
      " 69%|█████████████████████████████████████████████████▋                      | 10568/15315 [3:32:12<1:33:10,  1.18s/it]"
     ]
    },
    {
     "name": "stdout",
     "output_type": "stream",
     "text": [
      "594842번째 청원은 비공개된 청원입니다\n"
     ]
    },
    {
     "name": "stderr",
     "output_type": "stream",
     "text": [
      " 70%|██████████████████████████████████████████████████▍                     | 10731/15315 [3:35:26<1:30:00,  1.18s/it]"
     ]
    },
    {
     "name": "stdout",
     "output_type": "stream",
     "text": [
      "595005번째 청원은 비공개된 청원입니다\n"
     ]
    },
    {
     "name": "stderr",
     "output_type": "stream",
     "text": [
      " 71%|███████████████████████████████████████████████████                     | 10863/15315 [3:38:03<1:28:41,  1.20s/it]"
     ]
    },
    {
     "name": "stdout",
     "output_type": "stream",
     "text": [
      "595137번째 청원은 비공개된 청원입니다\n"
     ]
    },
    {
     "name": "stderr",
     "output_type": "stream",
     "text": [
      " 71%|███████████████████████████████████████████████████▎                    | 10912/15315 [3:39:02<1:27:26,  1.19s/it]"
     ]
    },
    {
     "name": "stdout",
     "output_type": "stream",
     "text": [
      "595186번째 청원은 비공개된 청원입니다\n"
     ]
    },
    {
     "name": "stderr",
     "output_type": "stream",
     "text": [
      " 74%|█████████████████████████████████████████████████████▍                  | 11373/15315 [3:48:10<1:18:54,  1.20s/it]"
     ]
    },
    {
     "name": "stdout",
     "output_type": "stream",
     "text": [
      "595647번째 청원은 비공개된 청원입니다\n"
     ]
    },
    {
     "name": "stderr",
     "output_type": "stream",
     "text": [
      " 75%|██████████████████████████████████████████████████████▎                 | 11556/15315 [3:51:49<1:14:07,  1.18s/it]"
     ]
    },
    {
     "name": "stdout",
     "output_type": "stream",
     "text": [
      "595830번째 청원은 비공개된 청원입니다\n"
     ]
    },
    {
     "name": "stderr",
     "output_type": "stream",
     "text": [
      " 76%|██████████████████████████████████████████████████████▋                 | 11644/15315 [3:53:34<1:15:13,  1.23s/it]"
     ]
    },
    {
     "name": "stdout",
     "output_type": "stream",
     "text": [
      "595918번째 청원은 비공개된 청원입니다\n"
     ]
    },
    {
     "name": "stderr",
     "output_type": "stream",
     "text": [
      " 76%|███████████████████████████████████████████████████████                 | 11702/15315 [3:54:43<1:11:10,  1.18s/it]"
     ]
    },
    {
     "name": "stdout",
     "output_type": "stream",
     "text": [
      "595976번째 청원은 비공개된 청원입니다\n"
     ]
    },
    {
     "name": "stderr",
     "output_type": "stream",
     "text": [
      " 77%|███████████████████████████████████████████████████████▏                | 11733/15315 [3:55:20<1:10:43,  1.18s/it]"
     ]
    },
    {
     "name": "stdout",
     "output_type": "stream",
     "text": [
      "596007번째 청원은 비공개된 청원입니다\n"
     ]
    },
    {
     "name": "stderr",
     "output_type": "stream",
     "text": [
      " 80%|█████████████████████████████████████████████████████████▍              | 12222/15315 [4:05:04<1:03:19,  1.23s/it]"
     ]
    },
    {
     "name": "stdout",
     "output_type": "stream",
     "text": [
      "596496번째 청원은 비공개된 청원입니다\n"
     ]
    },
    {
     "name": "stderr",
     "output_type": "stream",
     "text": [
      " 81%|████████████████████████████████████████████████████████████              | 12425/15315 [4:09:06<56:36,  1.18s/it]"
     ]
    },
    {
     "name": "stdout",
     "output_type": "stream",
     "text": [
      "596699번째 청원은 비공개된 청원입니다\n"
     ]
    },
    {
     "name": "stderr",
     "output_type": "stream",
     "text": [
      " 82%|████████████████████████████████████████████████████████████▎             | 12491/15315 [4:10:25<55:09,  1.17s/it]"
     ]
    },
    {
     "name": "stdout",
     "output_type": "stream",
     "text": [
      "596765번째 청원은 비공개된 청원입니다\n"
     ]
    },
    {
     "name": "stderr",
     "output_type": "stream",
     "text": [
      " 83%|█████████████████████████████████████████████████████████████▍            | 12722/15315 [4:15:00<51:26,  1.19s/it]"
     ]
    },
    {
     "name": "stdout",
     "output_type": "stream",
     "text": [
      "596996번째 청원은 비공개된 청원입니다\n"
     ]
    },
    {
     "name": "stderr",
     "output_type": "stream",
     "text": [
      " 83%|█████████████████████████████████████████████████████████████▌            | 12732/15315 [4:15:12<51:11,  1.19s/it]"
     ]
    },
    {
     "name": "stdout",
     "output_type": "stream",
     "text": [
      "597006번째 청원은 비공개된 청원입니다\n"
     ]
    },
    {
     "name": "stderr",
     "output_type": "stream",
     "text": [
      " 84%|██████████████████████████████████████████████████████████████▍           | 12916/15315 [4:18:53<46:55,  1.17s/it]"
     ]
    },
    {
     "name": "stdout",
     "output_type": "stream",
     "text": [
      "597190번째 청원은 비공개된 청원입니다\n"
     ]
    },
    {
     "name": "stderr",
     "output_type": "stream",
     "text": [
      " 85%|██████████████████████████████████████████████████████████████▉           | 13014/15315 [4:20:49<48:06,  1.25s/it]"
     ]
    },
    {
     "name": "stdout",
     "output_type": "stream",
     "text": [
      "597288번째 청원은 비공개된 청원입니다\n"
     ]
    },
    {
     "name": "stderr",
     "output_type": "stream",
     "text": [
      " 86%|███████████████████████████████████████████████████████████████▋          | 13173/15315 [4:24:01<42:50,  1.20s/it]"
     ]
    },
    {
     "name": "stdout",
     "output_type": "stream",
     "text": [
      "597447번째 청원은 비공개된 청원입니다\n"
     ]
    },
    {
     "name": "stderr",
     "output_type": "stream",
     "text": [
      " 87%|████████████████████████████████████████████████████████████████          | 13252/15315 [4:25:35<41:11,  1.20s/it]"
     ]
    },
    {
     "name": "stdout",
     "output_type": "stream",
     "text": [
      "597526번째 청원은 비공개된 청원입니다\n"
     ]
    },
    {
     "name": "stderr",
     "output_type": "stream",
     "text": [
      " 87%|████████████████████████████████████████████████████████████████▏         | 13287/15315 [4:26:17<39:57,  1.18s/it]"
     ]
    },
    {
     "name": "stdout",
     "output_type": "stream",
     "text": [
      "597561번째 청원은 비공개된 청원입니다\n"
     ]
    },
    {
     "name": "stderr",
     "output_type": "stream",
     "text": [
      " 88%|█████████████████████████████████████████████████████████████████▎        | 13509/15315 [4:30:49<36:00,  1.20s/it]"
     ]
    },
    {
     "name": "stdout",
     "output_type": "stream",
     "text": [
      "597783번째 청원은 비공개된 청원입니다\n"
     ]
    },
    {
     "name": "stderr",
     "output_type": "stream",
     "text": [
      " 94%|█████████████████████████████████████████████████████████████████████▌    | 14398/15315 [4:48:32<18:07,  1.19s/it]"
     ]
    },
    {
     "name": "stdout",
     "output_type": "stream",
     "text": [
      "598672번째 청원은 비공개된 청원입니다\n"
     ]
    },
    {
     "name": "stderr",
     "output_type": "stream",
     "text": [
      " 96%|██████████████████████████████████████████████████████████████████████▉   | 14670/15315 [4:53:56<12:39,  1.18s/it]"
     ]
    },
    {
     "name": "stdout",
     "output_type": "stream",
     "text": [
      "598944번째 청원은 비공개된 청원입니다\n"
     ]
    },
    {
     "name": "stderr",
     "output_type": "stream",
     "text": [
      " 99%|█████████████████████████████████████████████████████████████████████████▍| 15209/15315 [5:04:39<02:05,  1.19s/it]"
     ]
    },
    {
     "name": "stdout",
     "output_type": "stream",
     "text": [
      "599483번째 청원은 비공개된 청원입니다\n"
     ]
    },
    {
     "name": "stderr",
     "output_type": "stream",
     "text": [
      "100%|██████████████████████████████████████████████████████████████████████████| 15315/15315 [5:06:46<00:00,  1.20s/it]\n"
     ]
    }
   ],
   "source": [
    "for i in tqdm(range(584274, 599589)): # 2020.1.1일부터 584274  ~ 599589\n",
    "    url = create_url(i)\n",
    "    response = requests.get(url).text\n",
    "    soup = BeautifulSoup(response, 'html')\n",
    "    try: \n",
    "        content = get_content(soup)\n",
    "    except AttributeError:\n",
    "        print(f\"{i}번째 청원은 비공개된 청원입니다\")\n",
    "    clean = clean_contjent(content)\n",
    "    data.append(clean)\n",
    "    time.sleep(1)"
   ]
  },
  {
   "cell_type": "code",
   "execution_count": 25,
   "metadata": {},
   "outputs": [
    {
     "data": {
      "text/html": [
       "<div>\n",
       "<style scoped>\n",
       "    .dataframe tbody tr th:only-of-type {\n",
       "        vertical-align: middle;\n",
       "    }\n",
       "\n",
       "    .dataframe tbody tr th {\n",
       "        vertical-align: top;\n",
       "    }\n",
       "\n",
       "    .dataframe thead th {\n",
       "        text-align: right;\n",
       "    }\n",
       "</style>\n",
       "<table border=\"1\" class=\"dataframe\">\n",
       "  <thead>\n",
       "    <tr style=\"text-align: right;\">\n",
       "      <th></th>\n",
       "      <th>index</th>\n",
       "      <th>state</th>\n",
       "      <th>title</th>\n",
       "      <th>count</th>\n",
       "      <th>categ</th>\n",
       "      <th>start</th>\n",
       "      <th>end</th>\n",
       "      <th>text</th>\n",
       "    </tr>\n",
       "  </thead>\n",
       "  <tbody>\n",
       "    <tr>\n",
       "      <th>0</th>\n",
       "      <td>584274</td>\n",
       "      <td>청원종료</td>\n",
       "      <td>서울지방병무청 탈의실에 설치된 CCTV에 대한 진상규명을 요구한다. 또한 인권위의 ...</td>\n",
       "      <td>267</td>\n",
       "      <td>인권/성평등</td>\n",
       "      <td>2020-01-02</td>\n",
       "      <td>2020-02-01</td>\n",
       "      <td>본인은 2019년 8월 경 서울지방병무청 제1검사장 탈의실에서 믿을 수 없는 것을 ...</td>\n",
       "    </tr>\n",
       "    <tr>\n",
       "      <th>1</th>\n",
       "      <td>584275</td>\n",
       "      <td>청원종료</td>\n",
       "      <td>주식시장 활성화 및 소액(개미)투자자 보호</td>\n",
       "      <td>271</td>\n",
       "      <td>경제민주화</td>\n",
       "      <td>2020-01-02</td>\n",
       "      <td>2020-02-01</td>\n",
       "      <td>우리 나라 코스피 시총이 미국 애플보다 작다는 설이 돌 정도로 한국의 주식시장은 저...</td>\n",
       "    </tr>\n",
       "    <tr>\n",
       "      <th>2</th>\n",
       "      <td>584276</td>\n",
       "      <td>청원종료</td>\n",
       "      <td>교정기관의 민낮</td>\n",
       "      <td>198</td>\n",
       "      <td>행정</td>\n",
       "      <td>2020-01-02</td>\n",
       "      <td>2020-02-01</td>\n",
       "      <td>억울한 일로 국민청원을 신청합니다.    저는 **구치소 **교도관입니다.    2...</td>\n",
       "    </tr>\n",
       "    <tr>\n",
       "      <th>3</th>\n",
       "      <td>584277</td>\n",
       "      <td>청원종료</td>\n",
       "      <td>미세먼지 저감 대책</td>\n",
       "      <td>170</td>\n",
       "      <td>안전/환경</td>\n",
       "      <td>2020-01-02</td>\n",
       "      <td>2020-02-01</td>\n",
       "      <td>미세먼지의 심각성은 이제 적극적인 대안을 요구 하고 있습니다.  우리 일상에서 가장...</td>\n",
       "    </tr>\n",
       "    <tr>\n",
       "      <th>4</th>\n",
       "      <td>584278</td>\n",
       "      <td>청원종료</td>\n",
       "      <td>악질세입자 방지를 위한 세입자보호법을 재정해주세요.</td>\n",
       "      <td>2,127</td>\n",
       "      <td>교통/건축/국토</td>\n",
       "      <td>2020-01-02</td>\n",
       "      <td>2020-02-01</td>\n",
       "      <td>저는 우선 아이셋의 부모입니다.  식구가 많은편이고 아이들이 성장함에 따라 집이 좁...</td>\n",
       "    </tr>\n",
       "    <tr>\n",
       "      <th>...</th>\n",
       "      <td>...</td>\n",
       "      <td>...</td>\n",
       "      <td>...</td>\n",
       "      <td>...</td>\n",
       "      <td>...</td>\n",
       "      <td>...</td>\n",
       "      <td>...</td>\n",
       "      <td>...</td>\n",
       "    </tr>\n",
       "    <tr>\n",
       "      <th>15310</th>\n",
       "      <td>599584</td>\n",
       "      <td>청원진행중</td>\n",
       "      <td>충북 오창 사는 33살 동생이 신경외과에서 주사 한대로 심정지, 사망하였습니다</td>\n",
       "      <td>16,307</td>\n",
       "      <td>보건복지</td>\n",
       "      <td>2021-07-05</td>\n",
       "      <td>2021-08-04</td>\n",
       "      <td>충북 오창 ********에 사는 제 동생은 디스크와 목디스크로  집 가까이 신경외...</td>\n",
       "    </tr>\n",
       "    <tr>\n",
       "      <th>15311</th>\n",
       "      <td>599585</td>\n",
       "      <td>청원진행중</td>\n",
       "      <td>오직 코로나 백신을 위해 9평 응시 신청을 한 분들의 응시 권한을 재수생과 검정고시...</td>\n",
       "      <td>387</td>\n",
       "      <td>보건복지</td>\n",
       "      <td>2021-07-05</td>\n",
       "      <td>2021-08-04</td>\n",
       "      <td>안녕하세요? 저는 고등학교에 재학 중인 한 고등학생입니다.   여러 매체를 통해 이...</td>\n",
       "    </tr>\n",
       "    <tr>\n",
       "      <th>15312</th>\n",
       "      <td>599586</td>\n",
       "      <td>청원진행중</td>\n",
       "      <td>보이스피싱 피해자의 억울함을 호소합니다. 진화하고 있는 신종 보이스피싱에 대한 수사...</td>\n",
       "      <td>352</td>\n",
       "      <td>안전/환경</td>\n",
       "      <td>2021-07-05</td>\n",
       "      <td>2021-08-04</td>\n",
       "      <td>저는 대한민국의 20대의 사회 초년생이자 취업을 준비하고 있는 취준생 입니다.   ...</td>\n",
       "    </tr>\n",
       "    <tr>\n",
       "      <th>15313</th>\n",
       "      <td>599587</td>\n",
       "      <td>청원진행중</td>\n",
       "      <td>사기죄? 왜 아닙니까?</td>\n",
       "      <td>213</td>\n",
       "      <td>기타</td>\n",
       "      <td>2021-07-05</td>\n",
       "      <td>2021-08-04</td>\n",
       "      <td>안녕하세요. 저는 사기죄가 무엇인지 알고싶습니다.  저희 엄마께서 6년전에 LH를 ...</td>\n",
       "    </tr>\n",
       "    <tr>\n",
       "      <th>15314</th>\n",
       "      <td>599588</td>\n",
       "      <td>청원진행중</td>\n",
       "      <td>● 스푸트니크 적극 수용해야합니다. ●</td>\n",
       "      <td>1,182</td>\n",
       "      <td>보건복지</td>\n",
       "      <td>2021-07-05</td>\n",
       "      <td>2021-08-04</td>\n",
       "      <td>대통령님께 간곡히 제언 드립니다.   코로나가 16개월 이상 휩쓸고간 자리는 이토록...</td>\n",
       "    </tr>\n",
       "  </tbody>\n",
       "</table>\n",
       "<p>15315 rows × 8 columns</p>\n",
       "</div>"
      ],
      "text/plain": [
       "        index  state                                              title  \\\n",
       "0      584274   청원종료  서울지방병무청 탈의실에 설치된 CCTV에 대한 진상규명을 요구한다. 또한 인권위의 ...   \n",
       "1      584275   청원종료                            주식시장 활성화 및 소액(개미)투자자 보호   \n",
       "2      584276   청원종료                                           교정기관의 민낮   \n",
       "3      584277   청원종료                                         미세먼지 저감 대책   \n",
       "4      584278   청원종료                       악질세입자 방지를 위한 세입자보호법을 재정해주세요.   \n",
       "...       ...    ...                                                ...   \n",
       "15310  599584  청원진행중        충북 오창 사는 33살 동생이 신경외과에서 주사 한대로 심정지, 사망하였습니다   \n",
       "15311  599585  청원진행중  오직 코로나 백신을 위해 9평 응시 신청을 한 분들의 응시 권한을 재수생과 검정고시...   \n",
       "15312  599586  청원진행중  보이스피싱 피해자의 억울함을 호소합니다. 진화하고 있는 신종 보이스피싱에 대한 수사...   \n",
       "15313  599587  청원진행중                                       사기죄? 왜 아닙니까?   \n",
       "15314  599588  청원진행중                              ● 스푸트니크 적극 수용해야합니다. ●   \n",
       "\n",
       "        count     categ       start         end  \\\n",
       "0         267    인권/성평등  2020-01-02  2020-02-01   \n",
       "1         271     경제민주화  2020-01-02  2020-02-01   \n",
       "2         198        행정  2020-01-02  2020-02-01   \n",
       "3         170     안전/환경  2020-01-02  2020-02-01   \n",
       "4       2,127  교통/건축/국토  2020-01-02  2020-02-01   \n",
       "...       ...       ...         ...         ...   \n",
       "15310  16,307      보건복지  2021-07-05  2021-08-04   \n",
       "15311     387      보건복지  2021-07-05  2021-08-04   \n",
       "15312     352     안전/환경  2021-07-05  2021-08-04   \n",
       "15313     213        기타  2021-07-05  2021-08-04   \n",
       "15314   1,182      보건복지  2021-07-05  2021-08-04   \n",
       "\n",
       "                                                    text  \n",
       "0      본인은 2019년 8월 경 서울지방병무청 제1검사장 탈의실에서 믿을 수 없는 것을 ...  \n",
       "1      우리 나라 코스피 시총이 미국 애플보다 작다는 설이 돌 정도로 한국의 주식시장은 저...  \n",
       "2      억울한 일로 국민청원을 신청합니다.    저는 **구치소 **교도관입니다.    2...  \n",
       "3      미세먼지의 심각성은 이제 적극적인 대안을 요구 하고 있습니다.  우리 일상에서 가장...  \n",
       "4      저는 우선 아이셋의 부모입니다.  식구가 많은편이고 아이들이 성장함에 따라 집이 좁...  \n",
       "...                                                  ...  \n",
       "15310  충북 오창 ********에 사는 제 동생은 디스크와 목디스크로  집 가까이 신경외...  \n",
       "15311  안녕하세요? 저는 고등학교에 재학 중인 한 고등학생입니다.   여러 매체를 통해 이...  \n",
       "15312  저는 대한민국의 20대의 사회 초년생이자 취업을 준비하고 있는 취준생 입니다.   ...  \n",
       "15313  안녕하세요. 저는 사기죄가 무엇인지 알고싶습니다.  저희 엄마께서 6년전에 LH를 ...  \n",
       "15314  대통령님께 간곡히 제언 드립니다.   코로나가 16개월 이상 휩쓸고간 자리는 이토록...  \n",
       "\n",
       "[15315 rows x 8 columns]"
      ]
     },
     "execution_count": 25,
     "metadata": {},
     "output_type": "execute_result"
    }
   ],
   "source": [
    "df = pd.DataFrame(data, columns = [\"index\", \"state\", \"title\", \"count\", \"categ\", \"start\", \"end\", \"text\"]); df"
   ]
  },
  {
   "cell_type": "code",
   "execution_count": 29,
   "metadata": {},
   "outputs": [
    {
     "name": "stderr",
     "output_type": "stream",
     "text": [
      "Exception ignored in: <function ZipFile.__del__ at 0x000001C308B7BCA0>\n",
      "Traceback (most recent call last):\n",
      "  File \"c:\\users\\tianm\\appdata\\local\\programs\\python\\python38\\lib\\zipfile.py\", line 1821, in __del__\n",
      "    self.close()\n",
      "  File \"c:\\users\\tianm\\appdata\\local\\programs\\python\\python38\\lib\\zipfile.py\", line 1838, in close\n",
      "    self.fp.seek(self.start_dir)\n",
      "OSError: [Errno 22] Invalid argument\n"
     ]
    }
   ],
   "source": [
    "df.to_excel(\"D:\\Summer 2021\\청와대.xlsx\", index = False)"
   ]
  },
  {
   "cell_type": "code",
   "execution_count": null,
   "metadata": {},
   "outputs": [],
   "source": []
  }
 ],
 "metadata": {
  "kernelspec": {
   "display_name": "Python 3",
   "language": "python",
   "name": "python3"
  },
  "language_info": {
   "codemirror_mode": {
    "name": "ipython",
    "version": 3
   },
   "file_extension": ".py",
   "mimetype": "text/x-python",
   "name": "python",
   "nbconvert_exporter": "python",
   "pygments_lexer": "ipython3",
   "version": "3.8.7"
  }
 },
 "nbformat": 4,
 "nbformat_minor": 4
}
