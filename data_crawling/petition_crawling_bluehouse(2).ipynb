{
 "cells": [
  {
   "cell_type": "code",
   "execution_count": 109,
   "metadata": {},
   "outputs": [],
   "source": [
    "from urllib import request\n",
    "from urllib.request import urlopen\n",
    "from urllib.parse import urlencode, quote, unquote\n",
    "import requests\n",
    "from bs4 import BeautifulSoup\n",
    "import pandas as pd\n",
    "import time\n",
    "from tqdm import tqdm\n",
    "import os"
   ]
  },
  {
   "cell_type": "code",
   "execution_count": 83,
   "metadata": {},
   "outputs": [],
   "source": [
    "selector = {'state':\"#cont_view > div.cs_area > div.new_contents > div > div.petitionsView_left > div > div.petitionsView_progress > h4\", \n",
    "            'title':\"#cont_view > div.cs_area > div.new_contents > div > div.petitionsView_left > div > h3\", \n",
    "            'count':\"#cont_view > div.cs_area > div.new_contents > div > div.petitionsView_left > div > h2 > span\", \n",
    "            'info':\"#cont_view > div.cs_area > div.new_contents > div > div.petitionsView_left > div > div.petitionsView_info > ul\",\n",
    "            'text':\"#cont_view > div.cs_area > div.new_contents > div > div.petitionsView_left > div > div.petitionsView_write > div.View_write\"}"
   ]
  },
  {
   "cell_type": "code",
   "execution_count": 84,
   "metadata": {},
   "outputs": [],
   "source": [
    "def create_url(index):\n",
    "    base_url = \"https://www1.president.go.kr/petitions/\"\n",
    "    index = str(index)\n",
    "    url = base_url + index\n",
    "    return url"
   ]
  },
  {
   "cell_type": "code",
   "execution_count": 85,
   "metadata": {},
   "outputs": [],
   "source": [
    "def get_content(response):\n",
    "\n",
    "    state = soup.select_one(selector.get(\"state\")).text\n",
    "    title = soup.select_one(selector.get(\"title\")).text\n",
    "    count = soup.select_one(selector.get(\"count\")).text\n",
    "    text = soup.select_one(selector.get(\"text\")).text\n",
    "    info = soup.select_one(selector.get(\"info\")).text\n",
    "    \n",
    "    content = [state, title, count, info, text]\n",
    "    \n",
    "    return content"
   ]
  },
  {
   "cell_type": "code",
   "execution_count": 86,
   "metadata": {},
   "outputs": [],
   "source": [
    "def clean_content(content):    \n",
    "    info = content[3].strip(\"\\n\").split(\"\\n\") # 분리\n",
    "    categ = info[0].lstrip(\"카테고리\")\n",
    "    start = info[1].lstrip(\"청원시작\")\n",
    "    end = info[2].lstrip(\"청원마감\")\n",
    "    \n",
    "    text = content[4].replace(\"\\n\", ' ').replace(\"\\r\", ' ').replace(\"\\t\", ' ').strip() # 불필요한 문자열 제거\n",
    "        \n",
    "    clean = [i, content[0], content[1], content[2], categ, start, end, text]\n",
    "    return clean"
   ]
  },
  {
   "cell_type": "code",
   "execution_count": 87,
   "metadata": {},
   "outputs": [],
   "source": [
    "data = []"
   ]
  },
  {
   "cell_type": "code",
   "execution_count": 19,
   "metadata": {},
   "outputs": [
    {
     "name": "stderr",
     "output_type": "stream",
     "text": [
      "  0%|                                                                                        | 0/15315 [00:00<?, ?it/s]c:\\users\\tianm\\appdata\\local\\programs\\python\\python38\\lib\\site-packages\\bs4\\__init__.py:177: UserWarning: No parser was explicitly specified, so I'm using the best available HTML parser for this system (\"lxml\"). This usually isn't a problem, but if you run this code on another system, or in a different virtual environment, it may use a different parser and behave differently.\n",
      "\n",
      "The code that caused this warning is on line 194 of the file c:\\users\\tianm\\appdata\\local\\programs\\python\\python38\\lib\\runpy.py. To get rid of this warning, change code that looks like this:\n",
      "\n",
      " BeautifulSoup(YOUR_MARKUP})\n",
      "\n",
      "to this:\n",
      "\n",
      " BeautifulSoup(YOUR_MARKUP, \"lxml\")\n",
      "\n",
      "  warnings.warn(self.NO_PARSER_SPECIFIED_WARNING % dict(\n",
      "  2%|█▊                                                                          | 362/15315 [07:11<4:54:54,  1.18s/it]"
     ]
    },
    {
     "name": "stdout",
     "output_type": "stream",
     "text": [
      "584636번째 청원은 비공개된 청원입니다\n"
     ]
    },
    {
     "name": "stderr",
     "output_type": "stream",
     "text": [
      "  5%|███▉                                                                        | 786/15315 [15:34<4:45:32,  1.18s/it]"
     ]
    },
    {
     "name": "stdout",
     "output_type": "stream",
     "text": [
      "585060번째 청원은 비공개된 청원입니다\n"
     ]
    },
    {
     "name": "stderr",
     "output_type": "stream",
     "text": [
      "  6%|████▎                                                                       | 869/15315 [17:13<4:48:31,  1.20s/it]"
     ]
    },
    {
     "name": "stdout",
     "output_type": "stream",
     "text": [
      "585143번째 청원은 비공개된 청원입니다\n"
     ]
    },
    {
     "name": "stderr",
     "output_type": "stream",
     "text": [
      "  6%|████▎                                                                       | 872/15315 [17:17<4:52:50,  1.22s/it]"
     ]
    },
    {
     "name": "stdout",
     "output_type": "stream",
     "text": [
      "585146번째 청원은 비공개된 청원입니다\n"
     ]
    },
    {
     "name": "stderr",
     "output_type": "stream",
     "text": [
      " 10%|███████▎                                                                   | 1500/15315 [29:49<4:34:26,  1.19s/it]"
     ]
    },
    {
     "name": "stdout",
     "output_type": "stream",
     "text": [
      "585774번째 청원은 비공개된 청원입니다\n"
     ]
    },
    {
     "name": "stderr",
     "output_type": "stream",
     "text": [
      " 10%|███████▌                                                                   | 1552/15315 [30:50<4:28:53,  1.17s/it]"
     ]
    },
    {
     "name": "stdout",
     "output_type": "stream",
     "text": [
      "585826번째 청원은 비공개된 청원입니다\n"
     ]
    },
    {
     "name": "stderr",
     "output_type": "stream",
     "text": [
      " 11%|███████▉                                                                   | 1611/15315 [32:01<4:39:35,  1.22s/it]"
     ]
    },
    {
     "name": "stdout",
     "output_type": "stream",
     "text": [
      "585885번째 청원은 비공개된 청원입니다\n"
     ]
    },
    {
     "name": "stderr",
     "output_type": "stream",
     "text": [
      " 11%|████████                                                                   | 1647/15315 [32:44<4:46:55,  1.26s/it]"
     ]
    },
    {
     "name": "stdout",
     "output_type": "stream",
     "text": [
      "585921번째 청원은 비공개된 청원입니다\n"
     ]
    },
    {
     "name": "stderr",
     "output_type": "stream",
     "text": [
      " 11%|████████▏                                                                  | 1661/15315 [33:01<4:30:14,  1.19s/it]"
     ]
    },
    {
     "name": "stdout",
     "output_type": "stream",
     "text": [
      "585935번째 청원은 비공개된 청원입니다\n"
     ]
    },
    {
     "name": "stderr",
     "output_type": "stream",
     "text": [
      " 13%|█████████▊                                                                 | 2007/15315 [39:54<4:22:07,  1.18s/it]"
     ]
    },
    {
     "name": "stdout",
     "output_type": "stream",
     "text": [
      "586281번째 청원은 비공개된 청원입니다\n"
     ]
    },
    {
     "name": "stderr",
     "output_type": "stream",
     "text": [
      " 13%|█████████▉                                                                 | 2024/15315 [40:14<4:27:10,  1.21s/it]"
     ]
    },
    {
     "name": "stdout",
     "output_type": "stream",
     "text": [
      "586298번째 청원은 비공개된 청원입니다\n"
     ]
    },
    {
     "name": "stderr",
     "output_type": "stream",
     "text": [
      " 13%|█████████▉                                                                 | 2037/15315 [40:30<4:20:37,  1.18s/it]"
     ]
    },
    {
     "name": "stdout",
     "output_type": "stream",
     "text": [
      "586311번째 청원은 비공개된 청원입니다\n"
     ]
    },
    {
     "name": "stderr",
     "output_type": "stream",
     "text": [
      " 13%|█████████▉                                                                 | 2038/15315 [40:31<4:19:45,  1.17s/it]"
     ]
    },
    {
     "name": "stdout",
     "output_type": "stream",
     "text": [
      "586312번째 청원은 비공개된 청원입니다\n"
     ]
    },
    {
     "name": "stderr",
     "output_type": "stream",
     "text": [
      " 15%|██████████▉                                                                | 2225/15315 [44:14<4:18:54,  1.19s/it]"
     ]
    },
    {
     "name": "stdout",
     "output_type": "stream",
     "text": [
      "586499번째 청원은 비공개된 청원입니다\n"
     ]
    },
    {
     "name": "stderr",
     "output_type": "stream",
     "text": [
      " 15%|███████████                                                                | 2247/15315 [44:40<4:22:32,  1.21s/it]"
     ]
    },
    {
     "name": "stdout",
     "output_type": "stream",
     "text": [
      "586521번째 청원은 비공개된 청원입니다\n"
     ]
    },
    {
     "name": "stderr",
     "output_type": "stream",
     "text": [
      " 16%|████████████▎                                                              | 2516/15315 [50:00<4:12:58,  1.19s/it]"
     ]
    },
    {
     "name": "stdout",
     "output_type": "stream",
     "text": [
      "586790번째 청원은 비공개된 청원입니다\n"
     ]
    },
    {
     "name": "stderr",
     "output_type": "stream",
     "text": [
      " 17%|█████████████                                                              | 2680/15315 [53:15<4:11:22,  1.19s/it]"
     ]
    },
    {
     "name": "stdout",
     "output_type": "stream",
     "text": [
      "586954번째 청원은 비공개된 청원입니다\n"
     ]
    },
    {
     "name": "stderr",
     "output_type": "stream",
     "text": [
      " 18%|█████████████▎                                                             | 2727/15315 [54:10<4:08:52,  1.19s/it]"
     ]
    },
    {
     "name": "stdout",
     "output_type": "stream",
     "text": [
      "587001번째 청원은 비공개된 청원입니다\n"
     ]
    },
    {
     "name": "stderr",
     "output_type": "stream",
     "text": [
      " 19%|██████████████▏                                                            | 2907/15315 [57:45<4:10:00,  1.21s/it]"
     ]
    },
    {
     "name": "stdout",
     "output_type": "stream",
     "text": [
      "587181번째 청원은 비공개된 청원입니다\n"
     ]
    },
    {
     "name": "stderr",
     "output_type": "stream",
     "text": [
      " 20%|██████████████▋                                                            | 3007/15315 [59:44<4:00:39,  1.17s/it]"
     ]
    },
    {
     "name": "stdout",
     "output_type": "stream",
     "text": [
      "587281번째 청원은 비공개된 청원입니다\n"
     ]
    },
    {
     "name": "stderr",
     "output_type": "stream",
     "text": [
      " 24%|█████████████████▋                                                       | 3720/15315 [1:15:05<3:50:45,  1.19s/it]"
     ]
    },
    {
     "name": "stdout",
     "output_type": "stream",
     "text": [
      "587994번째 청원은 비공개된 청원입니다\n"
     ]
    },
    {
     "name": "stderr",
     "output_type": "stream",
     "text": [
      " 25%|██████████████████▎                                                      | 3833/15315 [1:17:20<4:07:07,  1.29s/it]"
     ]
    },
    {
     "name": "stdout",
     "output_type": "stream",
     "text": [
      "588107번째 청원은 비공개된 청원입니다\n"
     ]
    },
    {
     "name": "stderr",
     "output_type": "stream",
     "text": [
      " 26%|███████████████████                                                      | 4002/15315 [1:20:40<3:44:22,  1.19s/it]"
     ]
    },
    {
     "name": "stdout",
     "output_type": "stream",
     "text": [
      "588276번째 청원은 비공개된 청원입니다\n"
     ]
    },
    {
     "name": "stderr",
     "output_type": "stream",
     "text": [
      " 26%|███████████████████▎                                                     | 4043/15315 [1:21:29<3:44:23,  1.19s/it]"
     ]
    },
    {
     "name": "stdout",
     "output_type": "stream",
     "text": [
      "588317번째 청원은 비공개된 청원입니다\n"
     ]
    },
    {
     "name": "stderr",
     "output_type": "stream",
     "text": [
      " 28%|████████████████████▏                                                    | 4238/15315 [1:25:22<3:38:00,  1.18s/it]"
     ]
    },
    {
     "name": "stdout",
     "output_type": "stream",
     "text": [
      "588512번째 청원은 비공개된 청원입니다\n"
     ]
    },
    {
     "name": "stderr",
     "output_type": "stream",
     "text": [
      " 28%|████████████████████▍                                                    | 4295/15315 [1:26:32<4:02:56,  1.32s/it]"
     ]
    },
    {
     "name": "stdout",
     "output_type": "stream",
     "text": [
      "588569번째 청원은 비공개된 청원입니다\n"
     ]
    },
    {
     "name": "stderr",
     "output_type": "stream",
     "text": [
      " 29%|█████████████████████▏                                                   | 4437/15315 [1:29:52<3:32:51,  1.17s/it]"
     ]
    },
    {
     "name": "stdout",
     "output_type": "stream",
     "text": [
      "588711번째 청원은 비공개된 청원입니다\n"
     ]
    },
    {
     "name": "stderr",
     "output_type": "stream",
     "text": [
      " 29%|█████████████████████▎                                                   | 4483/15315 [1:30:47<3:33:28,  1.18s/it]"
     ]
    },
    {
     "name": "stdout",
     "output_type": "stream",
     "text": [
      "588757번째 청원은 비공개된 청원입니다\n"
     ]
    },
    {
     "name": "stderr",
     "output_type": "stream",
     "text": [
      " 30%|█████████████████████▌                                                   | 4525/15315 [1:31:48<4:21:09,  1.45s/it]"
     ]
    },
    {
     "name": "stdout",
     "output_type": "stream",
     "text": [
      "588799번째 청원은 비공개된 청원입니다\n"
     ]
    },
    {
     "name": "stderr",
     "output_type": "stream",
     "text": [
      " 30%|█████████████████████▌                                                   | 4533/15315 [1:32:10<7:10:18,  2.39s/it]"
     ]
    },
    {
     "name": "stdout",
     "output_type": "stream",
     "text": [
      "588807번째 청원은 비공개된 청원입니다\n"
     ]
    },
    {
     "name": "stderr",
     "output_type": "stream",
     "text": [
      " 34%|████████████████████████▌                                                | 5166/15315 [1:44:54<3:19:54,  1.18s/it]"
     ]
    },
    {
     "name": "stdout",
     "output_type": "stream",
     "text": [
      "589440번째 청원은 비공개된 청원입니다\n"
     ]
    },
    {
     "name": "stderr",
     "output_type": "stream",
     "text": [
      " 35%|█████████████████████████▌                                               | 5356/15315 [1:48:39<3:15:37,  1.18s/it]"
     ]
    },
    {
     "name": "stdout",
     "output_type": "stream",
     "text": [
      "589630번째 청원은 비공개된 청원입니다\n"
     ]
    },
    {
     "name": "stderr",
     "output_type": "stream",
     "text": [
      " 35%|█████████████████████████▉                                               | 5432/15315 [1:50:10<3:29:12,  1.27s/it]"
     ]
    },
    {
     "name": "stdout",
     "output_type": "stream",
     "text": [
      "589706번째 청원은 비공개된 청원입니다\n"
     ]
    },
    {
     "name": "stderr",
     "output_type": "stream",
     "text": [
      " 36%|██████████████████████████▏                                              | 5501/15315 [1:51:32<3:16:17,  1.20s/it]"
     ]
    },
    {
     "name": "stdout",
     "output_type": "stream",
     "text": [
      "589775번째 청원은 비공개된 청원입니다\n"
     ]
    },
    {
     "name": "stderr",
     "output_type": "stream",
     "text": [
      " 38%|███████████████████████████▍                                             | 5767/15315 [1:56:49<3:05:38,  1.17s/it]"
     ]
    },
    {
     "name": "stdout",
     "output_type": "stream",
     "text": [
      "590041번째 청원은 비공개된 청원입니다\n"
     ]
    },
    {
     "name": "stderr",
     "output_type": "stream",
     "text": [
      " 38%|████████████████████████████                                             | 5875/15315 [1:58:57<3:06:14,  1.18s/it]"
     ]
    },
    {
     "name": "stdout",
     "output_type": "stream",
     "text": [
      "590149번째 청원은 비공개된 청원입니다\n"
     ]
    },
    {
     "name": "stderr",
     "output_type": "stream",
     "text": [
      " 39%|████████████████████████████▏                                            | 5906/15315 [1:59:34<3:04:47,  1.18s/it]"
     ]
    },
    {
     "name": "stdout",
     "output_type": "stream",
     "text": [
      "590180번째 청원은 비공개된 청원입니다\n"
     ]
    },
    {
     "name": "stderr",
     "output_type": "stream",
     "text": [
      " 39%|████████████████████████████▌                                            | 6003/15315 [2:01:30<3:04:36,  1.19s/it]"
     ]
    },
    {
     "name": "stdout",
     "output_type": "stream",
     "text": [
      "590277번째 청원은 비공개된 청원입니다\n"
     ]
    },
    {
     "name": "stderr",
     "output_type": "stream",
     "text": [
      " 40%|█████████████████████████████▏                                           | 6121/15315 [2:03:51<3:03:05,  1.19s/it]"
     ]
    },
    {
     "name": "stdout",
     "output_type": "stream",
     "text": [
      "590395번째 청원은 비공개된 청원입니다\n"
     ]
    },
    {
     "name": "stderr",
     "output_type": "stream",
     "text": [
      " 40%|█████████████████████████████▌                                           | 6198/15315 [2:05:23<3:09:46,  1.25s/it]"
     ]
    },
    {
     "name": "stdout",
     "output_type": "stream",
     "text": [
      "590472번째 청원은 비공개된 청원입니다\n"
     ]
    },
    {
     "name": "stderr",
     "output_type": "stream",
     "text": [
      " 41%|█████████████████████████████▋                                           | 6236/15315 [2:06:08<3:04:31,  1.22s/it]"
     ]
    },
    {
     "name": "stdout",
     "output_type": "stream",
     "text": [
      "590510번째 청원은 비공개된 청원입니다\n"
     ]
    },
    {
     "name": "stderr",
     "output_type": "stream",
     "text": [
      " 41%|██████████████████████████████▎                                          | 6352/15315 [2:08:27<2:54:07,  1.17s/it]"
     ]
    },
    {
     "name": "stdout",
     "output_type": "stream",
     "text": [
      "590626번째 청원은 비공개된 청원입니다\n"
     ]
    },
    {
     "name": "stderr",
     "output_type": "stream",
     "text": [
      " 42%|██████████████████████████████▎                                          | 6372/15315 [2:08:51<2:58:01,  1.19s/it]"
     ]
    },
    {
     "name": "stdout",
     "output_type": "stream",
     "text": [
      "590646번째 청원은 비공개된 청원입니다\n"
     ]
    },
    {
     "name": "stderr",
     "output_type": "stream",
     "text": [
      " 43%|███████████████████████████████                                          | 6529/15315 [2:11:57<3:07:50,  1.28s/it]"
     ]
    },
    {
     "name": "stdout",
     "output_type": "stream",
     "text": [
      "590803번째 청원은 비공개된 청원입니다\n"
     ]
    },
    {
     "name": "stderr",
     "output_type": "stream",
     "text": [
      " 43%|███████████████████████████████▏                                         | 6548/15315 [2:12:20<2:54:58,  1.20s/it]"
     ]
    },
    {
     "name": "stdout",
     "output_type": "stream",
     "text": [
      "590822번째 청원은 비공개된 청원입니다\n"
     ]
    },
    {
     "name": "stderr",
     "output_type": "stream",
     "text": [
      " 45%|████████████████████████████████▉                                        | 6903/15315 [2:19:22<2:48:37,  1.20s/it]"
     ]
    },
    {
     "name": "stdout",
     "output_type": "stream",
     "text": [
      "591177번째 청원은 비공개된 청원입니다\n"
     ]
    },
    {
     "name": "stderr",
     "output_type": "stream",
     "text": [
      " 45%|████████████████████████████████▉                                        | 6917/15315 [2:19:39<2:45:36,  1.18s/it]"
     ]
    },
    {
     "name": "stdout",
     "output_type": "stream",
     "text": [
      "591191번째 청원은 비공개된 청원입니다\n"
     ]
    },
    {
     "name": "stderr",
     "output_type": "stream",
     "text": [
      " 46%|█████████████████████████████████▊                                       | 7095/15315 [2:23:11<2:44:28,  1.20s/it]"
     ]
    },
    {
     "name": "stdout",
     "output_type": "stream",
     "text": [
      "591369번째 청원은 비공개된 청원입니다\n"
     ]
    },
    {
     "name": "stderr",
     "output_type": "stream",
     "text": [
      " 50%|████████████████████████████████████▏                                    | 7589/15315 [2:32:59<2:35:48,  1.21s/it]"
     ]
    },
    {
     "name": "stdout",
     "output_type": "stream",
     "text": [
      "591863번째 청원은 비공개된 청원입니다\n"
     ]
    },
    {
     "name": "stderr",
     "output_type": "stream",
     "text": [
      " 50%|████████████████████████████████████▎                                    | 7616/15315 [2:33:31<2:30:16,  1.17s/it]"
     ]
    },
    {
     "name": "stdout",
     "output_type": "stream",
     "text": [
      "591890번째 청원은 비공개된 청원입니다\n"
     ]
    },
    {
     "name": "stderr",
     "output_type": "stream",
     "text": [
      " 50%|████████████████████████████████████▌                                    | 7660/15315 [2:34:24<2:32:53,  1.20s/it]"
     ]
    },
    {
     "name": "stdout",
     "output_type": "stream",
     "text": [
      "591934번째 청원은 비공개된 청원입니다\n"
     ]
    },
    {
     "name": "stderr",
     "output_type": "stream",
     "text": [
      " 50%|████████████████████████████████████▋                                    | 7687/15315 [2:34:56<2:30:10,  1.18s/it]"
     ]
    },
    {
     "name": "stdout",
     "output_type": "stream",
     "text": [
      "591961번째 청원은 비공개된 청원입니다\n"
     ]
    },
    {
     "name": "stderr",
     "output_type": "stream",
     "text": [
      " 51%|████████████████████████████████████▉                                    | 7738/15315 [2:35:56<2:33:22,  1.21s/it]"
     ]
    },
    {
     "name": "stdout",
     "output_type": "stream",
     "text": [
      "592012번째 청원은 비공개된 청원입니다\n"
     ]
    },
    {
     "name": "stderr",
     "output_type": "stream",
     "text": [
      " 51%|█████████████████████████████████████▎                                   | 7816/15315 [2:37:29<2:28:27,  1.19s/it]"
     ]
    },
    {
     "name": "stdout",
     "output_type": "stream",
     "text": [
      "592090번째 청원은 비공개된 청원입니다\n"
     ]
    },
    {
     "name": "stderr",
     "output_type": "stream",
     "text": [
      " 53%|██████████████████████████████████████▍                                  | 8074/15315 [2:42:36<2:22:23,  1.18s/it]"
     ]
    },
    {
     "name": "stdout",
     "output_type": "stream",
     "text": [
      "592348번째 청원은 비공개된 청원입니다\n"
     ]
    },
    {
     "name": "stderr",
     "output_type": "stream",
     "text": [
      " 54%|███████████████████████████████████████▍                                 | 8265/15315 [2:46:23<2:21:08,  1.20s/it]"
     ]
    },
    {
     "name": "stdout",
     "output_type": "stream",
     "text": [
      "592539번째 청원은 비공개된 청원입니다\n"
     ]
    },
    {
     "name": "stderr",
     "output_type": "stream",
     "text": [
      " 56%|█████████████████████████████████████████                                | 8625/15315 [2:53:31<2:12:26,  1.19s/it]"
     ]
    },
    {
     "name": "stdout",
     "output_type": "stream",
     "text": [
      "592899번째 청원은 비공개된 청원입니다\n"
     ]
    },
    {
     "name": "stderr",
     "output_type": "stream",
     "text": [
      " 57%|█████████████████████████████████████████▉                               | 8796/15315 [2:56:56<2:10:12,  1.20s/it]"
     ]
    },
    {
     "name": "stdout",
     "output_type": "stream",
     "text": [
      "593070번째 청원은 비공개된 청원입니다\n"
     ]
    },
    {
     "name": "stderr",
     "output_type": "stream",
     "text": [
      " 59%|███████████████████████████████████████████                              | 9032/15315 [3:01:38<2:03:54,  1.18s/it]"
     ]
    },
    {
     "name": "stdout",
     "output_type": "stream",
     "text": [
      "593306번째 청원은 비공개된 청원입니다\n"
     ]
    },
    {
     "name": "stderr",
     "output_type": "stream",
     "text": [
      " 63%|██████████████████████████████████████████████▏                          | 9688/15315 [3:14:40<1:51:11,  1.19s/it]"
     ]
    },
    {
     "name": "stdout",
     "output_type": "stream",
     "text": [
      "593962번째 청원은 비공개된 청원입니다\n"
     ]
    },
    {
     "name": "stderr",
     "output_type": "stream",
     "text": [
      " 65%|███████████████████████████████████████████████▎                         | 9924/15315 [3:19:24<1:46:25,  1.18s/it]"
     ]
    },
    {
     "name": "stdout",
     "output_type": "stream",
     "text": [
      "594198번째 청원은 비공개된 청원입니다\n"
     ]
    },
    {
     "name": "stderr",
     "output_type": "stream",
     "text": [
      " 66%|███████████████████████████████████████████████▍                        | 10101/15315 [3:22:55<1:44:49,  1.21s/it]"
     ]
    },
    {
     "name": "stdout",
     "output_type": "stream",
     "text": [
      "594375번째 청원은 비공개된 청원입니다\n"
     ]
    },
    {
     "name": "stderr",
     "output_type": "stream",
     "text": [
      " 69%|█████████████████████████████████████████████████▋                      | 10568/15315 [3:32:12<1:33:10,  1.18s/it]"
     ]
    },
    {
     "name": "stdout",
     "output_type": "stream",
     "text": [
      "594842번째 청원은 비공개된 청원입니다\n"
     ]
    },
    {
     "name": "stderr",
     "output_type": "stream",
     "text": [
      " 70%|██████████████████████████████████████████████████▍                     | 10731/15315 [3:35:26<1:30:00,  1.18s/it]"
     ]
    },
    {
     "name": "stdout",
     "output_type": "stream",
     "text": [
      "595005번째 청원은 비공개된 청원입니다\n"
     ]
    },
    {
     "name": "stderr",
     "output_type": "stream",
     "text": [
      " 71%|███████████████████████████████████████████████████                     | 10863/15315 [3:38:03<1:28:41,  1.20s/it]"
     ]
    },
    {
     "name": "stdout",
     "output_type": "stream",
     "text": [
      "595137번째 청원은 비공개된 청원입니다\n"
     ]
    },
    {
     "name": "stderr",
     "output_type": "stream",
     "text": [
      " 71%|███████████████████████████████████████████████████▎                    | 10912/15315 [3:39:02<1:27:26,  1.19s/it]"
     ]
    },
    {
     "name": "stdout",
     "output_type": "stream",
     "text": [
      "595186번째 청원은 비공개된 청원입니다\n"
     ]
    },
    {
     "name": "stderr",
     "output_type": "stream",
     "text": [
      " 74%|█████████████████████████████████████████████████████▍                  | 11373/15315 [3:48:10<1:18:54,  1.20s/it]"
     ]
    },
    {
     "name": "stdout",
     "output_type": "stream",
     "text": [
      "595647번째 청원은 비공개된 청원입니다\n"
     ]
    },
    {
     "name": "stderr",
     "output_type": "stream",
     "text": [
      " 75%|██████████████████████████████████████████████████████▎                 | 11556/15315 [3:51:49<1:14:07,  1.18s/it]"
     ]
    },
    {
     "name": "stdout",
     "output_type": "stream",
     "text": [
      "595830번째 청원은 비공개된 청원입니다\n"
     ]
    },
    {
     "name": "stderr",
     "output_type": "stream",
     "text": [
      " 76%|██████████████████████████████████████████████████████▋                 | 11644/15315 [3:53:34<1:15:13,  1.23s/it]"
     ]
    },
    {
     "name": "stdout",
     "output_type": "stream",
     "text": [
      "595918번째 청원은 비공개된 청원입니다\n"
     ]
    },
    {
     "name": "stderr",
     "output_type": "stream",
     "text": [
      " 76%|███████████████████████████████████████████████████████                 | 11702/15315 [3:54:43<1:11:10,  1.18s/it]"
     ]
    },
    {
     "name": "stdout",
     "output_type": "stream",
     "text": [
      "595976번째 청원은 비공개된 청원입니다\n"
     ]
    },
    {
     "name": "stderr",
     "output_type": "stream",
     "text": [
      " 77%|███████████████████████████████████████████████████████▏                | 11733/15315 [3:55:20<1:10:43,  1.18s/it]"
     ]
    },
    {
     "name": "stdout",
     "output_type": "stream",
     "text": [
      "596007번째 청원은 비공개된 청원입니다\n"
     ]
    },
    {
     "name": "stderr",
     "output_type": "stream",
     "text": [
      " 80%|█████████████████████████████████████████████████████████▍              | 12222/15315 [4:05:04<1:03:19,  1.23s/it]"
     ]
    },
    {
     "name": "stdout",
     "output_type": "stream",
     "text": [
      "596496번째 청원은 비공개된 청원입니다\n"
     ]
    },
    {
     "name": "stderr",
     "output_type": "stream",
     "text": [
      " 81%|████████████████████████████████████████████████████████████              | 12425/15315 [4:09:06<56:36,  1.18s/it]"
     ]
    },
    {
     "name": "stdout",
     "output_type": "stream",
     "text": [
      "596699번째 청원은 비공개된 청원입니다\n"
     ]
    },
    {
     "name": "stderr",
     "output_type": "stream",
     "text": [
      " 82%|████████████████████████████████████████████████████████████▎             | 12491/15315 [4:10:25<55:09,  1.17s/it]"
     ]
    },
    {
     "name": "stdout",
     "output_type": "stream",
     "text": [
      "596765번째 청원은 비공개된 청원입니다\n"
     ]
    },
    {
     "name": "stderr",
     "output_type": "stream",
     "text": [
      " 83%|█████████████████████████████████████████████████████████████▍            | 12722/15315 [4:15:00<51:26,  1.19s/it]"
     ]
    },
    {
     "name": "stdout",
     "output_type": "stream",
     "text": [
      "596996번째 청원은 비공개된 청원입니다\n"
     ]
    },
    {
     "name": "stderr",
     "output_type": "stream",
     "text": [
      " 83%|█████████████████████████████████████████████████████████████▌            | 12732/15315 [4:15:12<51:11,  1.19s/it]"
     ]
    },
    {
     "name": "stdout",
     "output_type": "stream",
     "text": [
      "597006번째 청원은 비공개된 청원입니다\n"
     ]
    },
    {
     "name": "stderr",
     "output_type": "stream",
     "text": [
      " 84%|██████████████████████████████████████████████████████████████▍           | 12916/15315 [4:18:53<46:55,  1.17s/it]"
     ]
    },
    {
     "name": "stdout",
     "output_type": "stream",
     "text": [
      "597190번째 청원은 비공개된 청원입니다\n"
     ]
    },
    {
     "name": "stderr",
     "output_type": "stream",
     "text": [
      " 85%|██████████████████████████████████████████████████████████████▉           | 13014/15315 [4:20:49<48:06,  1.25s/it]"
     ]
    },
    {
     "name": "stdout",
     "output_type": "stream",
     "text": [
      "597288번째 청원은 비공개된 청원입니다\n"
     ]
    },
    {
     "name": "stderr",
     "output_type": "stream",
     "text": [
      " 86%|███████████████████████████████████████████████████████████████▋          | 13173/15315 [4:24:01<42:50,  1.20s/it]"
     ]
    },
    {
     "name": "stdout",
     "output_type": "stream",
     "text": [
      "597447번째 청원은 비공개된 청원입니다\n"
     ]
    },
    {
     "name": "stderr",
     "output_type": "stream",
     "text": [
      " 87%|████████████████████████████████████████████████████████████████          | 13252/15315 [4:25:35<41:11,  1.20s/it]"
     ]
    },
    {
     "name": "stdout",
     "output_type": "stream",
     "text": [
      "597526번째 청원은 비공개된 청원입니다\n"
     ]
    },
    {
     "name": "stderr",
     "output_type": "stream",
     "text": [
      " 87%|████████████████████████████████████████████████████████████████▏         | 13287/15315 [4:26:17<39:57,  1.18s/it]"
     ]
    },
    {
     "name": "stdout",
     "output_type": "stream",
     "text": [
      "597561번째 청원은 비공개된 청원입니다\n"
     ]
    },
    {
     "name": "stderr",
     "output_type": "stream",
     "text": [
      " 88%|█████████████████████████████████████████████████████████████████▎        | 13509/15315 [4:30:49<36:00,  1.20s/it]"
     ]
    },
    {
     "name": "stdout",
     "output_type": "stream",
     "text": [
      "597783번째 청원은 비공개된 청원입니다\n"
     ]
    },
    {
     "name": "stderr",
     "output_type": "stream",
     "text": [
      " 94%|█████████████████████████████████████████████████████████████████████▌    | 14398/15315 [4:48:32<18:07,  1.19s/it]"
     ]
    },
    {
     "name": "stdout",
     "output_type": "stream",
     "text": [
      "598672번째 청원은 비공개된 청원입니다\n"
     ]
    },
    {
     "name": "stderr",
     "output_type": "stream",
     "text": [
      " 96%|██████████████████████████████████████████████████████████████████████▉   | 14670/15315 [4:53:56<12:39,  1.18s/it]"
     ]
    },
    {
     "name": "stdout",
     "output_type": "stream",
     "text": [
      "598944번째 청원은 비공개된 청원입니다\n"
     ]
    },
    {
     "name": "stderr",
     "output_type": "stream",
     "text": [
      " 99%|█████████████████████████████████████████████████████████████████████████▍| 15209/15315 [5:04:39<02:05,  1.19s/it]"
     ]
    },
    {
     "name": "stdout",
     "output_type": "stream",
     "text": [
      "599483번째 청원은 비공개된 청원입니다\n"
     ]
    },
    {
     "name": "stderr",
     "output_type": "stream",
     "text": [
      "100%|██████████████████████████████████████████████████████████████████████████| 15315/15315 [5:06:46<00:00,  1.20s/it]\n"
     ]
    }
   ],
   "source": [
    "for i in tqdm(range(584274, 599589)): # 2020.1.1일부터 584274  ~ 599589\n",
    "    url = create_url(i)\n",
    "    response = requests.get(url).text\n",
    "    soup = BeautifulSoup(response, 'html')\n",
    "    try: \n",
    "        content = get_content(soup)\n",
    "    except AttributeError:\n",
    "        print(f\"{i}번째 청원은 비공개된 청원입니다\")\n",
    "    clean = clean_content(content)\n",
    "    data.append(clean)\n",
    "    time.sleep(1)"
   ]
  },
  {
   "cell_type": "code",
   "execution_count": 99,
   "metadata": {
    "scrolled": true
   },
   "outputs": [],
   "source": [
    "# df = pd.DataFrame(data, columns = [\"index\", \"state\", \"title\", \"count\", \"categ\", \"start\", \"end\", \"text\"]); df\n",
    "df = pd.read_excel('D:/Summer 2021/교류학술제/data_crawling/청와대.xlsx')"
   ]
  },
  {
   "cell_type": "code",
   "execution_count": 101,
   "metadata": {},
   "outputs": [],
   "source": [
    "df2 = df.copy()"
   ]
  },
  {
   "cell_type": "code",
   "execution_count": 102,
   "metadata": {
    "scrolled": true
   },
   "outputs": [
    {
     "name": "stderr",
     "output_type": "stream",
     "text": [
      "  0%|                                                                                           | 0/83 [00:00<?, ?it/s]<ipython-input-102-4cf4bbafb4c5>:12: SettingWithCopyWarning: \n",
      "A value is trying to be set on a copy of a slice from a DataFrame\n",
      "\n",
      "See the caveats in the documentation: https://pandas.pydata.org/pandas-docs/stable/user_guide/indexing.html#returning-a-view-versus-a-copy\n",
      "  df2.text[df2['index'] == i] = text\n",
      "  1%|█                                                                                  | 1/83 [00:01<01:43,  1.26s/it]<ipython-input-102-4cf4bbafb4c5>:12: SettingWithCopyWarning: \n",
      "A value is trying to be set on a copy of a slice from a DataFrame\n",
      "\n",
      "See the caveats in the documentation: https://pandas.pydata.org/pandas-docs/stable/user_guide/indexing.html#returning-a-view-versus-a-copy\n",
      "  df2.text[df2['index'] == i] = text\n",
      "  2%|██                                                                                 | 2/83 [00:02<01:39,  1.23s/it]<ipython-input-102-4cf4bbafb4c5>:12: SettingWithCopyWarning: \n",
      "A value is trying to be set on a copy of a slice from a DataFrame\n",
      "\n",
      "See the caveats in the documentation: https://pandas.pydata.org/pandas-docs/stable/user_guide/indexing.html#returning-a-view-versus-a-copy\n",
      "  df2.text[df2['index'] == i] = text\n",
      "  4%|███                                                                                | 3/83 [00:03<01:41,  1.26s/it]<ipython-input-102-4cf4bbafb4c5>:12: SettingWithCopyWarning: \n",
      "A value is trying to be set on a copy of a slice from a DataFrame\n",
      "\n",
      "See the caveats in the documentation: https://pandas.pydata.org/pandas-docs/stable/user_guide/indexing.html#returning-a-view-versus-a-copy\n",
      "  df2.text[df2['index'] == i] = text\n",
      "  5%|████                                                                               | 4/83 [00:04<01:37,  1.24s/it]<ipython-input-102-4cf4bbafb4c5>:12: SettingWithCopyWarning: \n",
      "A value is trying to be set on a copy of a slice from a DataFrame\n",
      "\n",
      "See the caveats in the documentation: https://pandas.pydata.org/pandas-docs/stable/user_guide/indexing.html#returning-a-view-versus-a-copy\n",
      "  df2.text[df2['index'] == i] = text\n",
      "  6%|█████                                                                              | 5/83 [00:06<01:36,  1.23s/it]<ipython-input-102-4cf4bbafb4c5>:12: SettingWithCopyWarning: \n",
      "A value is trying to be set on a copy of a slice from a DataFrame\n",
      "\n",
      "See the caveats in the documentation: https://pandas.pydata.org/pandas-docs/stable/user_guide/indexing.html#returning-a-view-versus-a-copy\n",
      "  df2.text[df2['index'] == i] = text\n",
      "  7%|██████                                                                             | 6/83 [00:07<01:34,  1.22s/it]<ipython-input-102-4cf4bbafb4c5>:12: SettingWithCopyWarning: \n",
      "A value is trying to be set on a copy of a slice from a DataFrame\n",
      "\n",
      "See the caveats in the documentation: https://pandas.pydata.org/pandas-docs/stable/user_guide/indexing.html#returning-a-view-versus-a-copy\n",
      "  df2.text[df2['index'] == i] = text\n",
      "  8%|██████▉                                                                            | 7/83 [00:08<01:33,  1.24s/it]<ipython-input-102-4cf4bbafb4c5>:12: SettingWithCopyWarning: \n",
      "A value is trying to be set on a copy of a slice from a DataFrame\n",
      "\n",
      "See the caveats in the documentation: https://pandas.pydata.org/pandas-docs/stable/user_guide/indexing.html#returning-a-view-versus-a-copy\n",
      "  df2.text[df2['index'] == i] = text\n",
      " 10%|████████                                                                           | 8/83 [00:09<01:33,  1.24s/it]<ipython-input-102-4cf4bbafb4c5>:12: SettingWithCopyWarning: \n",
      "A value is trying to be set on a copy of a slice from a DataFrame\n",
      "\n",
      "See the caveats in the documentation: https://pandas.pydata.org/pandas-docs/stable/user_guide/indexing.html#returning-a-view-versus-a-copy\n",
      "  df2.text[df2['index'] == i] = text\n",
      " 11%|█████████                                                                          | 9/83 [00:11<01:31,  1.24s/it]<ipython-input-102-4cf4bbafb4c5>:12: SettingWithCopyWarning: \n",
      "A value is trying to be set on a copy of a slice from a DataFrame\n",
      "\n",
      "See the caveats in the documentation: https://pandas.pydata.org/pandas-docs/stable/user_guide/indexing.html#returning-a-view-versus-a-copy\n",
      "  df2.text[df2['index'] == i] = text\n",
      " 12%|█████████▉                                                                        | 10/83 [00:12<01:29,  1.23s/it]<ipython-input-102-4cf4bbafb4c5>:12: SettingWithCopyWarning: \n",
      "A value is trying to be set on a copy of a slice from a DataFrame\n",
      "\n",
      "See the caveats in the documentation: https://pandas.pydata.org/pandas-docs/stable/user_guide/indexing.html#returning-a-view-versus-a-copy\n",
      "  df2.text[df2['index'] == i] = text\n",
      " 13%|██████████▊                                                                       | 11/83 [00:13<01:27,  1.22s/it]<ipython-input-102-4cf4bbafb4c5>:12: SettingWithCopyWarning: \n",
      "A value is trying to be set on a copy of a slice from a DataFrame\n",
      "\n",
      "See the caveats in the documentation: https://pandas.pydata.org/pandas-docs/stable/user_guide/indexing.html#returning-a-view-versus-a-copy\n",
      "  df2.text[df2['index'] == i] = text\n",
      " 14%|███████████▊                                                                      | 12/83 [00:14<01:26,  1.22s/it]<ipython-input-102-4cf4bbafb4c5>:12: SettingWithCopyWarning: \n",
      "A value is trying to be set on a copy of a slice from a DataFrame\n",
      "\n",
      "See the caveats in the documentation: https://pandas.pydata.org/pandas-docs/stable/user_guide/indexing.html#returning-a-view-versus-a-copy\n",
      "  df2.text[df2['index'] == i] = text\n",
      " 16%|████████████▊                                                                     | 13/83 [00:16<01:30,  1.29s/it]<ipython-input-102-4cf4bbafb4c5>:12: SettingWithCopyWarning: \n",
      "A value is trying to be set on a copy of a slice from a DataFrame\n",
      "\n",
      "See the caveats in the documentation: https://pandas.pydata.org/pandas-docs/stable/user_guide/indexing.html#returning-a-view-versus-a-copy\n",
      "  df2.text[df2['index'] == i] = text\n",
      " 17%|█████████████▊                                                                    | 14/83 [00:17<01:33,  1.36s/it]<ipython-input-102-4cf4bbafb4c5>:12: SettingWithCopyWarning: \n",
      "A value is trying to be set on a copy of a slice from a DataFrame\n",
      "\n",
      "See the caveats in the documentation: https://pandas.pydata.org/pandas-docs/stable/user_guide/indexing.html#returning-a-view-versus-a-copy\n",
      "  df2.text[df2['index'] == i] = text\n",
      " 18%|██████████████▊                                                                   | 15/83 [00:19<01:30,  1.34s/it]<ipython-input-102-4cf4bbafb4c5>:12: SettingWithCopyWarning: \n",
      "A value is trying to be set on a copy of a slice from a DataFrame\n",
      "\n",
      "See the caveats in the documentation: https://pandas.pydata.org/pandas-docs/stable/user_guide/indexing.html#returning-a-view-versus-a-copy\n",
      "  df2.text[df2['index'] == i] = text\n",
      " 19%|███████████████▊                                                                  | 16/83 [00:20<01:27,  1.30s/it]Exception ignored in: <function ZipFile.__del__ at 0x0000016A3E93F430>\n",
      "Traceback (most recent call last):\n",
      "  File \"c:\\users\\tianm\\appdata\\local\\programs\\python\\python38\\lib\\zipfile.py\", line 1821, in __del__\n",
      "    self.close()\n",
      "  File \"c:\\users\\tianm\\appdata\\local\\programs\\python\\python38\\lib\\zipfile.py\", line 1838, in close\n",
      "    self.fp.seek(self.start_dir)\n",
      "OSError: [Errno 22] Invalid argument\n",
      "<ipython-input-102-4cf4bbafb4c5>:12: SettingWithCopyWarning: \n",
      "A value is trying to be set on a copy of a slice from a DataFrame\n",
      "\n",
      "See the caveats in the documentation: https://pandas.pydata.org/pandas-docs/stable/user_guide/indexing.html#returning-a-view-versus-a-copy\n",
      "  df2.text[df2['index'] == i] = text\n",
      " 20%|████████████████▊                                                                 | 17/83 [00:21<01:28,  1.34s/it]<ipython-input-102-4cf4bbafb4c5>:12: SettingWithCopyWarning: \n",
      "A value is trying to be set on a copy of a slice from a DataFrame\n",
      "\n",
      "See the caveats in the documentation: https://pandas.pydata.org/pandas-docs/stable/user_guide/indexing.html#returning-a-view-versus-a-copy\n",
      "  df2.text[df2['index'] == i] = text\n",
      " 22%|█████████████████▊                                                                | 18/83 [00:22<01:24,  1.30s/it]<ipython-input-102-4cf4bbafb4c5>:12: SettingWithCopyWarning: \n",
      "A value is trying to be set on a copy of a slice from a DataFrame\n",
      "\n",
      "See the caveats in the documentation: https://pandas.pydata.org/pandas-docs/stable/user_guide/indexing.html#returning-a-view-versus-a-copy\n",
      "  df2.text[df2['index'] == i] = text\n",
      " 23%|██████████████████▊                                                               | 19/83 [00:24<01:21,  1.27s/it]<ipython-input-102-4cf4bbafb4c5>:12: SettingWithCopyWarning: \n",
      "A value is trying to be set on a copy of a slice from a DataFrame\n",
      "\n",
      "See the caveats in the documentation: https://pandas.pydata.org/pandas-docs/stable/user_guide/indexing.html#returning-a-view-versus-a-copy\n",
      "  df2.text[df2['index'] == i] = text\n",
      " 24%|███████████████████▊                                                              | 20/83 [00:25<01:18,  1.25s/it]<ipython-input-102-4cf4bbafb4c5>:12: SettingWithCopyWarning: \n",
      "A value is trying to be set on a copy of a slice from a DataFrame\n",
      "\n",
      "See the caveats in the documentation: https://pandas.pydata.org/pandas-docs/stable/user_guide/indexing.html#returning-a-view-versus-a-copy\n",
      "  df2.text[df2['index'] == i] = text\n",
      " 25%|████████████████████▋                                                             | 21/83 [00:26<01:16,  1.23s/it]<ipython-input-102-4cf4bbafb4c5>:12: SettingWithCopyWarning: \n",
      "A value is trying to be set on a copy of a slice from a DataFrame\n",
      "\n",
      "See the caveats in the documentation: https://pandas.pydata.org/pandas-docs/stable/user_guide/indexing.html#returning-a-view-versus-a-copy\n",
      "  df2.text[df2['index'] == i] = text\n",
      " 27%|█████████████████████▋                                                            | 22/83 [00:27<01:14,  1.23s/it]<ipython-input-102-4cf4bbafb4c5>:12: SettingWithCopyWarning: \n",
      "A value is trying to be set on a copy of a slice from a DataFrame\n",
      "\n",
      "See the caveats in the documentation: https://pandas.pydata.org/pandas-docs/stable/user_guide/indexing.html#returning-a-view-versus-a-copy\n",
      "  df2.text[df2['index'] == i] = text\n",
      " 28%|██████████████████████▋                                                           | 23/83 [00:28<01:12,  1.21s/it]<ipython-input-102-4cf4bbafb4c5>:12: SettingWithCopyWarning: \n",
      "A value is trying to be set on a copy of a slice from a DataFrame\n",
      "\n",
      "See the caveats in the documentation: https://pandas.pydata.org/pandas-docs/stable/user_guide/indexing.html#returning-a-view-versus-a-copy\n",
      "  df2.text[df2['index'] == i] = text\n",
      " 29%|███████████████████████▋                                                          | 24/83 [00:30<01:11,  1.21s/it]<ipython-input-102-4cf4bbafb4c5>:12: SettingWithCopyWarning: \n",
      "A value is trying to be set on a copy of a slice from a DataFrame\n",
      "\n",
      "See the caveats in the documentation: https://pandas.pydata.org/pandas-docs/stable/user_guide/indexing.html#returning-a-view-versus-a-copy\n",
      "  df2.text[df2['index'] == i] = text\n",
      " 30%|████████████████████████▋                                                         | 25/83 [00:31<01:10,  1.22s/it]<ipython-input-102-4cf4bbafb4c5>:12: SettingWithCopyWarning: \n",
      "A value is trying to be set on a copy of a slice from a DataFrame\n",
      "\n",
      "See the caveats in the documentation: https://pandas.pydata.org/pandas-docs/stable/user_guide/indexing.html#returning-a-view-versus-a-copy\n",
      "  df2.text[df2['index'] == i] = text\n",
      " 31%|█████████████████████████▋                                                        | 26/83 [00:32<01:09,  1.22s/it]<ipython-input-102-4cf4bbafb4c5>:12: SettingWithCopyWarning: \n",
      "A value is trying to be set on a copy of a slice from a DataFrame\n",
      "\n",
      "See the caveats in the documentation: https://pandas.pydata.org/pandas-docs/stable/user_guide/indexing.html#returning-a-view-versus-a-copy\n",
      "  df2.text[df2['index'] == i] = text\n",
      " 33%|██████████████████████████▋                                                       | 27/83 [00:33<01:08,  1.23s/it]<ipython-input-102-4cf4bbafb4c5>:12: SettingWithCopyWarning: \n",
      "A value is trying to be set on a copy of a slice from a DataFrame\n",
      "\n",
      "See the caveats in the documentation: https://pandas.pydata.org/pandas-docs/stable/user_guide/indexing.html#returning-a-view-versus-a-copy\n",
      "  df2.text[df2['index'] == i] = text\n",
      " 34%|███████████████████████████▋                                                      | 28/83 [00:34<01:06,  1.21s/it]<ipython-input-102-4cf4bbafb4c5>:12: SettingWithCopyWarning: \n",
      "A value is trying to be set on a copy of a slice from a DataFrame\n",
      "\n",
      "See the caveats in the documentation: https://pandas.pydata.org/pandas-docs/stable/user_guide/indexing.html#returning-a-view-versus-a-copy\n",
      "  df2.text[df2['index'] == i] = text\n",
      " 35%|████████████████████████████▋                                                     | 29/83 [00:36<01:05,  1.21s/it]<ipython-input-102-4cf4bbafb4c5>:12: SettingWithCopyWarning: \n",
      "A value is trying to be set on a copy of a slice from a DataFrame\n",
      "\n",
      "See the caveats in the documentation: https://pandas.pydata.org/pandas-docs/stable/user_guide/indexing.html#returning-a-view-versus-a-copy\n",
      "  df2.text[df2['index'] == i] = text\n",
      " 36%|█████████████████████████████▋                                                    | 30/83 [00:37<01:04,  1.21s/it]<ipython-input-102-4cf4bbafb4c5>:12: SettingWithCopyWarning: \n",
      "A value is trying to be set on a copy of a slice from a DataFrame\n",
      "\n",
      "See the caveats in the documentation: https://pandas.pydata.org/pandas-docs/stable/user_guide/indexing.html#returning-a-view-versus-a-copy\n",
      "  df2.text[df2['index'] == i] = text\n",
      " 37%|██████████████████████████████▋                                                   | 31/83 [00:38<01:02,  1.20s/it]<ipython-input-102-4cf4bbafb4c5>:12: SettingWithCopyWarning: \n",
      "A value is trying to be set on a copy of a slice from a DataFrame\n",
      "\n",
      "See the caveats in the documentation: https://pandas.pydata.org/pandas-docs/stable/user_guide/indexing.html#returning-a-view-versus-a-copy\n",
      "  df2.text[df2['index'] == i] = text\n",
      " 39%|███████████████████████████████▌                                                  | 32/83 [00:39<01:01,  1.20s/it]<ipython-input-102-4cf4bbafb4c5>:12: SettingWithCopyWarning: \n",
      "A value is trying to be set on a copy of a slice from a DataFrame\n",
      "\n",
      "See the caveats in the documentation: https://pandas.pydata.org/pandas-docs/stable/user_guide/indexing.html#returning-a-view-versus-a-copy\n",
      "  df2.text[df2['index'] == i] = text\n",
      " 40%|████████████████████████████████▌                                                 | 33/83 [00:40<00:59,  1.20s/it]<ipython-input-102-4cf4bbafb4c5>:12: SettingWithCopyWarning: \n",
      "A value is trying to be set on a copy of a slice from a DataFrame\n",
      "\n",
      "See the caveats in the documentation: https://pandas.pydata.org/pandas-docs/stable/user_guide/indexing.html#returning-a-view-versus-a-copy\n",
      "  df2.text[df2['index'] == i] = text\n",
      " 41%|█████████████████████████████████▌                                                | 34/83 [00:42<01:00,  1.24s/it]<ipython-input-102-4cf4bbafb4c5>:12: SettingWithCopyWarning: \n",
      "A value is trying to be set on a copy of a slice from a DataFrame\n",
      "\n",
      "See the caveats in the documentation: https://pandas.pydata.org/pandas-docs/stable/user_guide/indexing.html#returning-a-view-versus-a-copy\n",
      "  df2.text[df2['index'] == i] = text\n",
      " 42%|██████████████████████████████████▌                                               | 35/83 [00:43<00:58,  1.22s/it]<ipython-input-102-4cf4bbafb4c5>:12: SettingWithCopyWarning: \n",
      "A value is trying to be set on a copy of a slice from a DataFrame\n",
      "\n",
      "See the caveats in the documentation: https://pandas.pydata.org/pandas-docs/stable/user_guide/indexing.html#returning-a-view-versus-a-copy\n",
      "  df2.text[df2['index'] == i] = text\n",
      " 43%|███████████████████████████████████▌                                              | 36/83 [00:44<00:56,  1.21s/it]<ipython-input-102-4cf4bbafb4c5>:12: SettingWithCopyWarning: \n",
      "A value is trying to be set on a copy of a slice from a DataFrame\n",
      "\n",
      "See the caveats in the documentation: https://pandas.pydata.org/pandas-docs/stable/user_guide/indexing.html#returning-a-view-versus-a-copy\n",
      "  df2.text[df2['index'] == i] = text\n",
      " 45%|████████████████████████████████████▌                                             | 37/83 [00:45<00:55,  1.21s/it]<ipython-input-102-4cf4bbafb4c5>:12: SettingWithCopyWarning: \n",
      "A value is trying to be set on a copy of a slice from a DataFrame\n",
      "\n",
      "See the caveats in the documentation: https://pandas.pydata.org/pandas-docs/stable/user_guide/indexing.html#returning-a-view-versus-a-copy\n",
      "  df2.text[df2['index'] == i] = text\n",
      " 46%|█████████████████████████████████████▌                                            | 38/83 [00:47<00:54,  1.21s/it]<ipython-input-102-4cf4bbafb4c5>:12: SettingWithCopyWarning: \n",
      "A value is trying to be set on a copy of a slice from a DataFrame\n",
      "\n",
      "See the caveats in the documentation: https://pandas.pydata.org/pandas-docs/stable/user_guide/indexing.html#returning-a-view-versus-a-copy\n",
      "  df2.text[df2['index'] == i] = text\n",
      " 47%|██████████████████████████████████████▌                                           | 39/83 [00:48<00:53,  1.22s/it]<ipython-input-102-4cf4bbafb4c5>:12: SettingWithCopyWarning: \n",
      "A value is trying to be set on a copy of a slice from a DataFrame\n",
      "\n",
      "See the caveats in the documentation: https://pandas.pydata.org/pandas-docs/stable/user_guide/indexing.html#returning-a-view-versus-a-copy\n",
      "  df2.text[df2['index'] == i] = text\n",
      " 48%|███████████████████████████████████████▌                                          | 40/83 [00:49<00:53,  1.25s/it]<ipython-input-102-4cf4bbafb4c5>:12: SettingWithCopyWarning: \n",
      "A value is trying to be set on a copy of a slice from a DataFrame\n",
      "\n",
      "See the caveats in the documentation: https://pandas.pydata.org/pandas-docs/stable/user_guide/indexing.html#returning-a-view-versus-a-copy\n",
      "  df2.text[df2['index'] == i] = text\n",
      " 49%|████████████████████████████████████████▌                                         | 41/83 [00:50<00:52,  1.26s/it]<ipython-input-102-4cf4bbafb4c5>:12: SettingWithCopyWarning: \n",
      "A value is trying to be set on a copy of a slice from a DataFrame\n",
      "\n",
      "See the caveats in the documentation: https://pandas.pydata.org/pandas-docs/stable/user_guide/indexing.html#returning-a-view-versus-a-copy\n",
      "  df2.text[df2['index'] == i] = text\n",
      " 51%|█████████████████████████████████████████▍                                        | 42/83 [00:52<00:53,  1.30s/it]<ipython-input-102-4cf4bbafb4c5>:12: SettingWithCopyWarning: \n",
      "A value is trying to be set on a copy of a slice from a DataFrame\n",
      "\n",
      "See the caveats in the documentation: https://pandas.pydata.org/pandas-docs/stable/user_guide/indexing.html#returning-a-view-versus-a-copy\n",
      "  df2.text[df2['index'] == i] = text\n",
      " 52%|██████████████████████████████████████████▍                                       | 43/83 [00:53<00:52,  1.30s/it]<ipython-input-102-4cf4bbafb4c5>:12: SettingWithCopyWarning: \n",
      "A value is trying to be set on a copy of a slice from a DataFrame\n",
      "\n",
      "See the caveats in the documentation: https://pandas.pydata.org/pandas-docs/stable/user_guide/indexing.html#returning-a-view-versus-a-copy\n",
      "  df2.text[df2['index'] == i] = text\n",
      " 53%|███████████████████████████████████████████▍                                      | 44/83 [00:54<00:51,  1.31s/it]<ipython-input-102-4cf4bbafb4c5>:12: SettingWithCopyWarning: \n",
      "A value is trying to be set on a copy of a slice from a DataFrame\n",
      "\n",
      "See the caveats in the documentation: https://pandas.pydata.org/pandas-docs/stable/user_guide/indexing.html#returning-a-view-versus-a-copy\n",
      "  df2.text[df2['index'] == i] = text\n",
      " 54%|████████████████████████████████████████████▍                                     | 45/83 [00:56<00:50,  1.33s/it]<ipython-input-102-4cf4bbafb4c5>:12: SettingWithCopyWarning: \n",
      "A value is trying to be set on a copy of a slice from a DataFrame\n",
      "\n",
      "See the caveats in the documentation: https://pandas.pydata.org/pandas-docs/stable/user_guide/indexing.html#returning-a-view-versus-a-copy\n",
      "  df2.text[df2['index'] == i] = text\n",
      " 55%|█████████████████████████████████████████████▍                                    | 46/83 [00:57<00:47,  1.29s/it]<ipython-input-102-4cf4bbafb4c5>:12: SettingWithCopyWarning: \n",
      "A value is trying to be set on a copy of a slice from a DataFrame\n",
      "\n",
      "See the caveats in the documentation: https://pandas.pydata.org/pandas-docs/stable/user_guide/indexing.html#returning-a-view-versus-a-copy\n",
      "  df2.text[df2['index'] == i] = text\n",
      " 57%|██████████████████████████████████████████████▍                                   | 47/83 [00:58<00:45,  1.26s/it]<ipython-input-102-4cf4bbafb4c5>:12: SettingWithCopyWarning: \n",
      "A value is trying to be set on a copy of a slice from a DataFrame\n",
      "\n",
      "See the caveats in the documentation: https://pandas.pydata.org/pandas-docs/stable/user_guide/indexing.html#returning-a-view-versus-a-copy\n",
      "  df2.text[df2['index'] == i] = text\n",
      " 58%|███████████████████████████████████████████████▍                                  | 48/83 [00:59<00:43,  1.24s/it]<ipython-input-102-4cf4bbafb4c5>:12: SettingWithCopyWarning: \n",
      "A value is trying to be set on a copy of a slice from a DataFrame\n",
      "\n",
      "See the caveats in the documentation: https://pandas.pydata.org/pandas-docs/stable/user_guide/indexing.html#returning-a-view-versus-a-copy\n",
      "  df2.text[df2['index'] == i] = text\n",
      " 59%|████████████████████████████████████████████████▍                                 | 49/83 [01:01<00:41,  1.23s/it]<ipython-input-102-4cf4bbafb4c5>:12: SettingWithCopyWarning: \n",
      "A value is trying to be set on a copy of a slice from a DataFrame\n",
      "\n",
      "See the caveats in the documentation: https://pandas.pydata.org/pandas-docs/stable/user_guide/indexing.html#returning-a-view-versus-a-copy\n",
      "  df2.text[df2['index'] == i] = text\n",
      " 60%|█████████████████████████████████████████████████▍                                | 50/83 [01:02<00:41,  1.25s/it]<ipython-input-102-4cf4bbafb4c5>:12: SettingWithCopyWarning: \n",
      "A value is trying to be set on a copy of a slice from a DataFrame\n",
      "\n",
      "See the caveats in the documentation: https://pandas.pydata.org/pandas-docs/stable/user_guide/indexing.html#returning-a-view-versus-a-copy\n",
      "  df2.text[df2['index'] == i] = text\n",
      " 61%|██████████████████████████████████████████████████▍                               | 51/83 [01:03<00:40,  1.27s/it]<ipython-input-102-4cf4bbafb4c5>:12: SettingWithCopyWarning: \n",
      "A value is trying to be set on a copy of a slice from a DataFrame\n",
      "\n",
      "See the caveats in the documentation: https://pandas.pydata.org/pandas-docs/stable/user_guide/indexing.html#returning-a-view-versus-a-copy\n",
      "  df2.text[df2['index'] == i] = text\n",
      " 63%|███████████████████████████████████████████████████▎                              | 52/83 [01:04<00:39,  1.26s/it]<ipython-input-102-4cf4bbafb4c5>:12: SettingWithCopyWarning: \n",
      "A value is trying to be set on a copy of a slice from a DataFrame\n",
      "\n",
      "See the caveats in the documentation: https://pandas.pydata.org/pandas-docs/stable/user_guide/indexing.html#returning-a-view-versus-a-copy\n",
      "  df2.text[df2['index'] == i] = text\n",
      " 64%|████████████████████████████████████████████████████▎                             | 53/83 [01:06<00:37,  1.25s/it]<ipython-input-102-4cf4bbafb4c5>:12: SettingWithCopyWarning: \n",
      "A value is trying to be set on a copy of a slice from a DataFrame\n",
      "\n",
      "See the caveats in the documentation: https://pandas.pydata.org/pandas-docs/stable/user_guide/indexing.html#returning-a-view-versus-a-copy\n",
      "  df2.text[df2['index'] == i] = text\n",
      " 65%|█████████████████████████████████████████████████████▎                            | 54/83 [01:07<00:35,  1.24s/it]<ipython-input-102-4cf4bbafb4c5>:12: SettingWithCopyWarning: \n",
      "A value is trying to be set on a copy of a slice from a DataFrame\n",
      "\n",
      "See the caveats in the documentation: https://pandas.pydata.org/pandas-docs/stable/user_guide/indexing.html#returning-a-view-versus-a-copy\n",
      "  df2.text[df2['index'] == i] = text\n",
      " 66%|██████████████████████████████████████████████████████▎                           | 55/83 [01:08<00:34,  1.25s/it]<ipython-input-102-4cf4bbafb4c5>:12: SettingWithCopyWarning: \n",
      "A value is trying to be set on a copy of a slice from a DataFrame\n",
      "\n",
      "See the caveats in the documentation: https://pandas.pydata.org/pandas-docs/stable/user_guide/indexing.html#returning-a-view-versus-a-copy\n",
      "  df2.text[df2['index'] == i] = text\n",
      " 67%|███████████████████████████████████████████████████████▎                          | 56/83 [01:09<00:33,  1.25s/it]<ipython-input-102-4cf4bbafb4c5>:12: SettingWithCopyWarning: \n",
      "A value is trying to be set on a copy of a slice from a DataFrame\n",
      "\n",
      "See the caveats in the documentation: https://pandas.pydata.org/pandas-docs/stable/user_guide/indexing.html#returning-a-view-versus-a-copy\n",
      "  df2.text[df2['index'] == i] = text\n",
      " 69%|████████████████████████████████████████████████████████▎                         | 57/83 [01:11<00:32,  1.25s/it]<ipython-input-102-4cf4bbafb4c5>:12: SettingWithCopyWarning: \n",
      "A value is trying to be set on a copy of a slice from a DataFrame\n",
      "\n",
      "See the caveats in the documentation: https://pandas.pydata.org/pandas-docs/stable/user_guide/indexing.html#returning-a-view-versus-a-copy\n",
      "  df2.text[df2['index'] == i] = text\n",
      " 70%|█████████████████████████████████████████████████████████▎                        | 58/83 [01:12<00:31,  1.26s/it]<ipython-input-102-4cf4bbafb4c5>:12: SettingWithCopyWarning: \n",
      "A value is trying to be set on a copy of a slice from a DataFrame\n",
      "\n",
      "See the caveats in the documentation: https://pandas.pydata.org/pandas-docs/stable/user_guide/indexing.html#returning-a-view-versus-a-copy\n",
      "  df2.text[df2['index'] == i] = text\n",
      " 71%|██████████████████████████████████████████████████████████▎                       | 59/83 [01:13<00:29,  1.25s/it]<ipython-input-102-4cf4bbafb4c5>:12: SettingWithCopyWarning: \n",
      "A value is trying to be set on a copy of a slice from a DataFrame\n",
      "\n",
      "See the caveats in the documentation: https://pandas.pydata.org/pandas-docs/stable/user_guide/indexing.html#returning-a-view-versus-a-copy\n",
      "  df2.text[df2['index'] == i] = text\n",
      " 72%|███████████████████████████████████████████████████████████▎                      | 60/83 [01:14<00:28,  1.25s/it]<ipython-input-102-4cf4bbafb4c5>:12: SettingWithCopyWarning: \n",
      "A value is trying to be set on a copy of a slice from a DataFrame\n",
      "\n",
      "See the caveats in the documentation: https://pandas.pydata.org/pandas-docs/stable/user_guide/indexing.html#returning-a-view-versus-a-copy\n",
      "  df2.text[df2['index'] == i] = text\n",
      " 73%|████████████████████████████████████████████████████████████▎                     | 61/83 [01:16<00:27,  1.23s/it]<ipython-input-102-4cf4bbafb4c5>:12: SettingWithCopyWarning: \n",
      "A value is trying to be set on a copy of a slice from a DataFrame\n",
      "\n",
      "See the caveats in the documentation: https://pandas.pydata.org/pandas-docs/stable/user_guide/indexing.html#returning-a-view-versus-a-copy\n",
      "  df2.text[df2['index'] == i] = text\n",
      " 75%|█████████████████████████████████████████████████████████████▎                    | 62/83 [01:17<00:25,  1.22s/it]<ipython-input-102-4cf4bbafb4c5>:12: SettingWithCopyWarning: \n",
      "A value is trying to be set on a copy of a slice from a DataFrame\n",
      "\n",
      "See the caveats in the documentation: https://pandas.pydata.org/pandas-docs/stable/user_guide/indexing.html#returning-a-view-versus-a-copy\n",
      "  df2.text[df2['index'] == i] = text\n",
      " 76%|██████████████████████████████████████████████████████████████▏                   | 63/83 [01:18<00:24,  1.22s/it]<ipython-input-102-4cf4bbafb4c5>:12: SettingWithCopyWarning: \n",
      "A value is trying to be set on a copy of a slice from a DataFrame\n",
      "\n",
      "See the caveats in the documentation: https://pandas.pydata.org/pandas-docs/stable/user_guide/indexing.html#returning-a-view-versus-a-copy\n",
      "  df2.text[df2['index'] == i] = text\n",
      " 77%|███████████████████████████████████████████████████████████████▏                  | 64/83 [01:19<00:23,  1.21s/it]<ipython-input-102-4cf4bbafb4c5>:12: SettingWithCopyWarning: \n",
      "A value is trying to be set on a copy of a slice from a DataFrame\n",
      "\n",
      "See the caveats in the documentation: https://pandas.pydata.org/pandas-docs/stable/user_guide/indexing.html#returning-a-view-versus-a-copy\n",
      "  df2.text[df2['index'] == i] = text\n",
      " 78%|████████████████████████████████████████████████████████████████▏                 | 65/83 [01:21<00:22,  1.25s/it]<ipython-input-102-4cf4bbafb4c5>:12: SettingWithCopyWarning: \n",
      "A value is trying to be set on a copy of a slice from a DataFrame\n",
      "\n",
      "See the caveats in the documentation: https://pandas.pydata.org/pandas-docs/stable/user_guide/indexing.html#returning-a-view-versus-a-copy\n",
      "  df2.text[df2['index'] == i] = text\n",
      " 80%|█████████████████████████████████████████████████████████████████▏                | 66/83 [01:22<00:21,  1.25s/it]<ipython-input-102-4cf4bbafb4c5>:12: SettingWithCopyWarning: \n",
      "A value is trying to be set on a copy of a slice from a DataFrame\n",
      "\n",
      "See the caveats in the documentation: https://pandas.pydata.org/pandas-docs/stable/user_guide/indexing.html#returning-a-view-versus-a-copy\n",
      "  df2.text[df2['index'] == i] = text\n",
      " 81%|██████████████████████████████████████████████████████████████████▏               | 67/83 [01:23<00:19,  1.23s/it]<ipython-input-102-4cf4bbafb4c5>:12: SettingWithCopyWarning: \n",
      "A value is trying to be set on a copy of a slice from a DataFrame\n",
      "\n",
      "See the caveats in the documentation: https://pandas.pydata.org/pandas-docs/stable/user_guide/indexing.html#returning-a-view-versus-a-copy\n",
      "  df2.text[df2['index'] == i] = text\n",
      " 82%|███████████████████████████████████████████████████████████████████▏              | 68/83 [01:24<00:18,  1.23s/it]<ipython-input-102-4cf4bbafb4c5>:12: SettingWithCopyWarning: \n",
      "A value is trying to be set on a copy of a slice from a DataFrame\n",
      "\n",
      "See the caveats in the documentation: https://pandas.pydata.org/pandas-docs/stable/user_guide/indexing.html#returning-a-view-versus-a-copy\n",
      "  df2.text[df2['index'] == i] = text\n",
      " 83%|████████████████████████████████████████████████████████████████████▏             | 69/83 [01:25<00:17,  1.25s/it]<ipython-input-102-4cf4bbafb4c5>:12: SettingWithCopyWarning: \n",
      "A value is trying to be set on a copy of a slice from a DataFrame\n",
      "\n",
      "See the caveats in the documentation: https://pandas.pydata.org/pandas-docs/stable/user_guide/indexing.html#returning-a-view-versus-a-copy\n",
      "  df2.text[df2['index'] == i] = text\n",
      " 84%|█████████████████████████████████████████████████████████████████████▏            | 70/83 [01:27<00:16,  1.24s/it]<ipython-input-102-4cf4bbafb4c5>:12: SettingWithCopyWarning: \n",
      "A value is trying to be set on a copy of a slice from a DataFrame\n",
      "\n",
      "See the caveats in the documentation: https://pandas.pydata.org/pandas-docs/stable/user_guide/indexing.html#returning-a-view-versus-a-copy\n",
      "  df2.text[df2['index'] == i] = text\n",
      " 86%|██████████████████████████████████████████████████████████████████████▏           | 71/83 [01:28<00:14,  1.23s/it]<ipython-input-102-4cf4bbafb4c5>:12: SettingWithCopyWarning: \n",
      "A value is trying to be set on a copy of a slice from a DataFrame\n",
      "\n",
      "See the caveats in the documentation: https://pandas.pydata.org/pandas-docs/stable/user_guide/indexing.html#returning-a-view-versus-a-copy\n",
      "  df2.text[df2['index'] == i] = text\n",
      " 87%|███████████████████████████████████████████████████████████████████████▏          | 72/83 [01:29<00:13,  1.22s/it]<ipython-input-102-4cf4bbafb4c5>:12: SettingWithCopyWarning: \n",
      "A value is trying to be set on a copy of a slice from a DataFrame\n",
      "\n",
      "See the caveats in the documentation: https://pandas.pydata.org/pandas-docs/stable/user_guide/indexing.html#returning-a-view-versus-a-copy\n",
      "  df2.text[df2['index'] == i] = text\n",
      " 88%|████████████████████████████████████████████████████████████████████████          | 73/83 [01:30<00:12,  1.22s/it]<ipython-input-102-4cf4bbafb4c5>:12: SettingWithCopyWarning: \n",
      "A value is trying to be set on a copy of a slice from a DataFrame\n",
      "\n",
      "See the caveats in the documentation: https://pandas.pydata.org/pandas-docs/stable/user_guide/indexing.html#returning-a-view-versus-a-copy\n",
      "  df2.text[df2['index'] == i] = text\n",
      " 89%|█████████████████████████████████████████████████████████████████████████         | 74/83 [01:32<00:10,  1.21s/it]<ipython-input-102-4cf4bbafb4c5>:12: SettingWithCopyWarning: \n",
      "A value is trying to be set on a copy of a slice from a DataFrame\n",
      "\n",
      "See the caveats in the documentation: https://pandas.pydata.org/pandas-docs/stable/user_guide/indexing.html#returning-a-view-versus-a-copy\n",
      "  df2.text[df2['index'] == i] = text\n",
      " 90%|██████████████████████████████████████████████████████████████████████████        | 75/83 [01:33<00:09,  1.21s/it]<ipython-input-102-4cf4bbafb4c5>:12: SettingWithCopyWarning: \n",
      "A value is trying to be set on a copy of a slice from a DataFrame\n",
      "\n",
      "See the caveats in the documentation: https://pandas.pydata.org/pandas-docs/stable/user_guide/indexing.html#returning-a-view-versus-a-copy\n",
      "  df2.text[df2['index'] == i] = text\n",
      " 92%|███████████████████████████████████████████████████████████████████████████       | 76/83 [01:34<00:08,  1.21s/it]<ipython-input-102-4cf4bbafb4c5>:12: SettingWithCopyWarning: \n",
      "A value is trying to be set on a copy of a slice from a DataFrame\n",
      "\n",
      "See the caveats in the documentation: https://pandas.pydata.org/pandas-docs/stable/user_guide/indexing.html#returning-a-view-versus-a-copy\n",
      "  df2.text[df2['index'] == i] = text\n",
      " 93%|████████████████████████████████████████████████████████████████████████████      | 77/83 [01:35<00:07,  1.22s/it]<ipython-input-102-4cf4bbafb4c5>:12: SettingWithCopyWarning: \n",
      "A value is trying to be set on a copy of a slice from a DataFrame\n",
      "\n",
      "See the caveats in the documentation: https://pandas.pydata.org/pandas-docs/stable/user_guide/indexing.html#returning-a-view-versus-a-copy\n",
      "  df2.text[df2['index'] == i] = text\n",
      " 94%|█████████████████████████████████████████████████████████████████████████████     | 78/83 [01:36<00:06,  1.22s/it]<ipython-input-102-4cf4bbafb4c5>:12: SettingWithCopyWarning: \n",
      "A value is trying to be set on a copy of a slice from a DataFrame\n",
      "\n",
      "See the caveats in the documentation: https://pandas.pydata.org/pandas-docs/stable/user_guide/indexing.html#returning-a-view-versus-a-copy\n",
      "  df2.text[df2['index'] == i] = text\n",
      " 95%|██████████████████████████████████████████████████████████████████████████████    | 79/83 [01:38<00:04,  1.21s/it]<ipython-input-102-4cf4bbafb4c5>:12: SettingWithCopyWarning: \n",
      "A value is trying to be set on a copy of a slice from a DataFrame\n",
      "\n",
      "See the caveats in the documentation: https://pandas.pydata.org/pandas-docs/stable/user_guide/indexing.html#returning-a-view-versus-a-copy\n",
      "  df2.text[df2['index'] == i] = text\n",
      " 96%|███████████████████████████████████████████████████████████████████████████████   | 80/83 [01:39<00:03,  1.24s/it]<ipython-input-102-4cf4bbafb4c5>:12: SettingWithCopyWarning: \n",
      "A value is trying to be set on a copy of a slice from a DataFrame\n",
      "\n",
      "See the caveats in the documentation: https://pandas.pydata.org/pandas-docs/stable/user_guide/indexing.html#returning-a-view-versus-a-copy\n",
      "  df2.text[df2['index'] == i] = text\n",
      " 98%|████████████████████████████████████████████████████████████████████████████████  | 81/83 [01:40<00:02,  1.23s/it]<ipython-input-102-4cf4bbafb4c5>:12: SettingWithCopyWarning: \n",
      "A value is trying to be set on a copy of a slice from a DataFrame\n",
      "\n",
      "See the caveats in the documentation: https://pandas.pydata.org/pandas-docs/stable/user_guide/indexing.html#returning-a-view-versus-a-copy\n",
      "  df2.text[df2['index'] == i] = text\n",
      " 99%|█████████████████████████████████████████████████████████████████████████████████ | 82/83 [01:41<00:01,  1.27s/it]<ipython-input-102-4cf4bbafb4c5>:12: SettingWithCopyWarning: \n",
      "A value is trying to be set on a copy of a slice from a DataFrame\n",
      "\n",
      "See the caveats in the documentation: https://pandas.pydata.org/pandas-docs/stable/user_guide/indexing.html#returning-a-view-versus-a-copy\n",
      "  df2.text[df2['index'] == i] = text\n",
      "100%|██████████████████████████████████████████████████████████████████████████████████| 83/83 [01:43<00:00,  1.24s/it]\n"
     ]
    }
   ],
   "source": [
    "# 동영상 답변이 게시된 경우, html 구성의 변화로 인해 청원 내용이 제대로 크롤링 되지 않는 문제가 발생함. \n",
    "# 이 문제를 보완하기 위한 과정\n",
    "\n",
    "index = df['index'][df.text.isnull()] \n",
    "\n",
    "for i in tqdm(index): \n",
    "    url = create_url(i)\n",
    "    response = requests.get(url).text\n",
    "    soup = BeautifulSoup(response, 'lxml')\n",
    "    text = soup.select_one('#cont_view > div.cs_area > div.new_contents > div > div.petitionsView_left > div > div.petitionsView_write > div:nth-of-type(4)').text\n",
    "    text = text.replace(\"<br/>\", ' ').replace(\"\\r\", ' ').replace(\"\\t\", ' ').strip() # 불필요한 문자열 제거\n",
    "    df2.text[df2['index'] == i] = text\n",
    "    time.sleep(1)"
   ]
  },
  {
   "cell_type": "code",
   "execution_count": 113,
   "metadata": {},
   "outputs": [
    {
     "name": "stdout",
     "output_type": "stream",
     "text": [
      "<class 'pandas.core.frame.DataFrame'>\n",
      "RangeIndex: 15315 entries, 0 to 15314\n",
      "Data columns (total 8 columns):\n",
      " #   Column  Non-Null Count  Dtype \n",
      "---  ------  --------------  ----- \n",
      " 0   index   15315 non-null  int64 \n",
      " 1   state   15315 non-null  object\n",
      " 2   title   15315 non-null  object\n",
      " 3   count   15315 non-null  object\n",
      " 4   categ   15315 non-null  object\n",
      " 5   start   15315 non-null  object\n",
      " 6   end     15315 non-null  object\n",
      " 7   text    15315 non-null  object\n",
      "dtypes: int64(1), object(7)\n",
      "memory usage: 957.3+ KB\n"
     ]
    }
   ],
   "source": [
    "df2.info() # null 값이 모두 보충되었다. "
   ]
  },
  {
   "cell_type": "code",
   "execution_count": 115,
   "metadata": {},
   "outputs": [],
   "source": [
    "df2.to_excel(\"C:\\\\Users\\\\tianm\\\\[주피터노트북]교류학술제\\\\청와대(2).xlsx\", index = False)"
   ]
  },
  {
   "cell_type": "code",
   "execution_count": null,
   "metadata": {},
   "outputs": [],
   "source": []
  }
 ],
 "metadata": {
  "kernelspec": {
   "display_name": "Python 3",
   "language": "python",
   "name": "python3"
  },
  "language_info": {
   "codemirror_mode": {
    "name": "ipython",
    "version": 3
   },
   "file_extension": ".py",
   "mimetype": "text/x-python",
   "name": "python",
   "nbconvert_exporter": "python",
   "pygments_lexer": "ipython3",
   "version": "3.8.7"
  }
 },
 "nbformat": 4,
 "nbformat_minor": 4
}
