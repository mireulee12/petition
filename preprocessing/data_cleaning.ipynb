{
 "cells": [
  {
   "cell_type": "code",
   "execution_count": 1,
   "metadata": {},
   "outputs": [],
   "source": [
    "import pandas as pd\n",
    "import numpy as np\n",
    "from konlpy.tag import Okt, Hannanum, Kkma\n",
    "import re\n",
    "import collections\n",
    "from tqdm import tqdm"
   ]
  },
  {
   "cell_type": "markdown",
   "metadata": {},
   "source": [
    "# 1. 데이터 불러오기"
   ]
  },
  {
   "cell_type": "code",
   "execution_count": 2,
   "metadata": {},
   "outputs": [],
   "source": [
    "path = 'D:/Summer 2021/교류학술제/data_crawling/'\n",
    "assembly_r = pd.read_excel(path + \"국회.xlsx\")\n",
    "blue_r = pd.read_excel(path + '청와대(2).xlsx', ) # 결측치 채워진 버전"
   ]
  },
  {
   "cell_type": "markdown",
   "metadata": {},
   "source": [
    "# 2. 불필요한 열 삭제"
   ]
  },
  {
   "cell_type": "code",
   "execution_count": 4,
   "metadata": {},
   "outputs": [],
   "source": [
    "blue = blue_r.drop(['index', 'end', 'state'], axis = 1).copy()\n",
    "assembly = assembly_r.drop(['state', 'end'], axis = 1).copy()"
   ]
  },
  {
   "cell_type": "markdown",
   "metadata": {},
   "source": [
    "# 3. 불필요한 문자열 제거"
   ]
  },
  {
   "cell_type": "code",
   "execution_count": 5,
   "metadata": {
    "scrolled": true
   },
   "outputs": [],
   "source": [
    "blue.text = blue.text.str.rstrip('[본 게시물의 일부 내용이 국민 청원 요건에 위배되어 관리자에 의해 수정되었습니다]')"
   ]
  },
  {
   "cell_type": "code",
   "execution_count": 6,
   "metadata": {},
   "outputs": [],
   "source": [
    "def remove_signs_from_text(df):\n",
    "    for i in range(len(df)):\n",
    "        df.iloc[i].text = re.sub('[^가-힝a-zA-Z\\\\s]', '', df.iloc[i].text)\n",
    "    return df"
   ]
  },
  {
   "cell_type": "code",
   "execution_count": 7,
   "metadata": {},
   "outputs": [],
   "source": [
    "assembly = remove_signs_from_text(assembly)\n",
    "blue = remove_signs_from_text(blue)"
   ]
  },
  {
   "cell_type": "code",
   "execution_count": 8,
   "metadata": {},
   "outputs": [],
   "source": [
    "def remove_comma_from_count(df):\n",
    "    df['count'] = df['count'].str.replace(',', '')\n",
    "    return df"
   ]
  },
  {
   "cell_type": "code",
   "execution_count": 9,
   "metadata": {},
   "outputs": [],
   "source": [
    "assembly = remove_comma_from_count(assembly)\n",
    "blue = remove_comma_from_count(blue)"
   ]
  },
  {
   "cell_type": "markdown",
   "metadata": {},
   "source": [
    "# 4. 행 삭제"
   ]
  },
  {
   "cell_type": "markdown",
   "metadata": {},
   "source": [
    "아래 토큰화 과정을 진행할 떄, 12386번째 행의 토큰화에서 지속적으로 문제가 발생함. \n",
    "확인해본 결과, 문자열에 문제가 있는 것으로 판단되어 불가피하게 12386번째 행을 삭제함. "
   ]
  },
  {
   "cell_type": "code",
   "execution_count": 17,
   "metadata": {},
   "outputs": [
    {
     "data": {
      "text/plain": [
       "12380    부동산 예비매수자들이 대거 몰려있는 국내 부동산 대형포털마다 신고가 얼마다 집값이 ...\n",
       "12381    주 가맹본부의 갑질 행위를 사회에 고발하오니 엄격히 심판하여 주십시요    지난해 ...\n",
       "12382    누구를 위한 국민재난지원금입니까 눈물로 호소합니다   존경하는 문재인 대통령님  저...\n",
       "12383    자극적인 제목 죄송합니다 저 또한 그 사건을 떠올릴 때 마다 정신적으로 너무 고통스...\n",
       "12384    학교폭력위원회에서 내려진 처벌규정이  호부터 호까지 있는데  호인 퇴학조치 이외의 ...\n",
       "12385    저는 소방공무원 가족입니다  이번 코로나 백신 접종에 선택권을 준다지만 강제적이고 ...\n",
       "12386                                                  ...\n",
       "12387    저는 자칭 국민기업이라는 XX에서 X년 X월부터 XXXX XX으로 X년간 일하며 직...\n",
       "12388    분양가를 시세의 로 한다니 이게 정상작인 나라인가요시세를 인위적으로 올리는곳도 많은...\n",
       "12389    년 월 일 우리는 예견되어 있던 사고로 두 남매와 할머니 아들과 딸 장모님을 잃었습...\n",
       "Name: text, dtype: object"
      ]
     },
     "execution_count": 17,
     "metadata": {},
     "output_type": "execute_result"
    }
   ],
   "source": [
    "blue.iloc[12380:12390].text"
   ]
  },
  {
   "cell_type": "code",
   "execution_count": 19,
   "metadata": {},
   "outputs": [
    {
     "data": {
      "text/plain": [
       "12380    부동산 예비매수자들이 대거 몰려있는 국내 부동산 대형포털마다 신고가 얼마다 집값이 ...\n",
       "12381    주 가맹본부의 갑질 행위를 사회에 고발하오니 엄격히 심판하여 주십시요    지난해 ...\n",
       "12382    누구를 위한 국민재난지원금입니까 눈물로 호소합니다   존경하는 문재인 대통령님  저...\n",
       "12383    자극적인 제목 죄송합니다 저 또한 그 사건을 떠올릴 때 마다 정신적으로 너무 고통스...\n",
       "12384    학교폭력위원회에서 내려진 처벌규정이  호부터 호까지 있는데  호인 퇴학조치 이외의 ...\n",
       "12385    저는 소방공무원 가족입니다  이번 코로나 백신 접종에 선택권을 준다지만 강제적이고 ...\n",
       "12387    저는 자칭 국민기업이라는 XX에서 X년 X월부터 XXXX XX으로 X년간 일하며 직...\n",
       "12388    분양가를 시세의 로 한다니 이게 정상작인 나라인가요시세를 인위적으로 올리는곳도 많은...\n",
       "12389    년 월 일 우리는 예견되어 있던 사고로 두 남매와 할머니 아들과 딸 장모님을 잃었습...\n",
       "12390    대통령님 보시기 바랍니다   코로나 로 사회가 부분 마비되고 경제가 어려운 가운데 ...\n",
       "Name: text, dtype: object"
      ]
     },
     "execution_count": 19,
     "metadata": {},
     "output_type": "execute_result"
    }
   ],
   "source": [
    "blue = blue.drop([12386])\n",
    "blue.iloc[12380:12390].text"
   ]
  },
  {
   "cell_type": "markdown",
   "metadata": {},
   "source": [
    "# 5. 토큰화"
   ]
  },
  {
   "cell_type": "code",
   "execution_count": 10,
   "metadata": {},
   "outputs": [],
   "source": [
    "def tokenize(df):\n",
    "    text = df['text']\n",
    "    kkm = Kkma()\n",
    "    clean_words = pd.Series(0, index = df.index)\n",
    "    for i in tqdm(range(len(text))):\n",
    "        nouns = kkm.morphs(text.iloc[i])                 # 토큰화\n",
    "        words = [w for w in nouns if len(w) >= 2]  # 분석을 위해 두글자 이상인 단어만 사용\n",
    "        clean_words.iloc[i] = words\n",
    "    clean_words = clean_words.astype(str)\n",
    "    return clean_words"
   ]
  },
  {
   "cell_type": "markdown",
   "metadata": {},
   "source": [
    "# 6. 불용어 제거"
   ]
  },
  {
   "cell_type": "code",
   "execution_count": 11,
   "metadata": {},
   "outputs": [],
   "source": [
    "with open('D:/Summer 2021/교류학술제/data_cleaning/stopwords.txt', 'r', encoding = 'utf-8') as f:\n",
    "    content = f.readlines()\n",
    "stopwords = list(set([x.rstrip(', \\n') for x in content]))"
   ]
  },
  {
   "cell_type": "code",
   "execution_count": 12,
   "metadata": {},
   "outputs": [],
   "source": [
    "def remove_stopwords(series, stopwords):\n",
    "    for word in stopwords:\n",
    "        stopword = \"'\" + word + \"', \"\n",
    "        series = series.str.replace(stopword, '')\n",
    "    return series"
   ]
  },
  {
   "cell_type": "markdown",
   "metadata": {},
   "source": [
    "# 국회 청원 (5. 토큰화 ~ 6. 불용어 제거 + 데이터 저장)"
   ]
  },
  {
   "cell_type": "code",
   "execution_count": 113,
   "metadata": {
    "scrolled": true
   },
   "outputs": [
    {
     "data": {
      "text/html": [
       "<div>\n",
       "<style scoped>\n",
       "    .dataframe tbody tr th:only-of-type {\n",
       "        vertical-align: middle;\n",
       "    }\n",
       "\n",
       "    .dataframe tbody tr th {\n",
       "        vertical-align: top;\n",
       "    }\n",
       "\n",
       "    .dataframe thead th {\n",
       "        text-align: right;\n",
       "    }\n",
       "</style>\n",
       "<table border=\"1\" class=\"dataframe\">\n",
       "  <thead>\n",
       "    <tr style=\"text-align: right;\">\n",
       "      <th></th>\n",
       "      <th>title</th>\n",
       "      <th>count</th>\n",
       "      <th>categ</th>\n",
       "      <th>start</th>\n",
       "      <th>text</th>\n",
       "    </tr>\n",
       "  </thead>\n",
       "  <tbody>\n",
       "    <tr>\n",
       "      <th>0</th>\n",
       "      <td>국가보안법 개정에 관한 청원</td>\n",
       "      <td>1761</td>\n",
       "      <td>수사/법무/사법제도</td>\n",
       "      <td>2021-06-16</td>\n",
       "      <td>['최근', '국가', '보안법', '폐지', '올라오', '자유', '대한민국',...</td>\n",
       "    </tr>\n",
       "    <tr>\n",
       "      <th>1</th>\n",
       "      <td>인공지능 윤리 및 고인의 AI구현 법안 제정에 관한 청원</td>\n",
       "      <td>223</td>\n",
       "      <td>과학기술/정보통신</td>\n",
       "      <td>2021-06-15</td>\n",
       "      <td>['동의', 'AI', '구현', '제재', '가하', '규정', '만들', '외의...</td>\n",
       "    </tr>\n",
       "    <tr>\n",
       "      <th>2</th>\n",
       "      <td>포괄적 차별금지법 법안 제정에 관한 동의 및 일부 내용 수정 요청에 관한 청원</td>\n",
       "      <td>14025</td>\n",
       "      <td>인권/성평등/노동</td>\n",
       "      <td>2021-06-15</td>\n",
       "      <td>['UN', '사회권', '위원회', '국가', '인권', '위원회', '포괄적',...</td>\n",
       "    </tr>\n",
       "    <tr>\n",
       "      <th>3</th>\n",
       "      <td>국민연금 수급 개시 연령과 연계한 정년연장에 관한 청원</td>\n",
       "      <td>19807</td>\n",
       "      <td>인권/성평등/노동</td>\n",
       "      <td>2021-06-14</td>\n",
       "      <td>['노동자', '정년', '기간', '국민', '연금', '수급', '개시', '연...</td>\n",
       "    </tr>\n",
       "    <tr>\n",
       "      <th>4</th>\n",
       "      <td>하수도법 일부개정법률안에 관한 청원</td>\n",
       "      <td>736</td>\n",
       "      <td>재난/안전/환경</td>\n",
       "      <td>2021-06-11</td>\n",
       "      <td>['하수도', '특정', '공산품', '주방', '오물', '분쇄', '기은', '...</td>\n",
       "    </tr>\n",
       "    <tr>\n",
       "      <th>...</th>\n",
       "      <td>...</td>\n",
       "      <td>...</td>\n",
       "      <td>...</td>\n",
       "      <td>...</td>\n",
       "      <td>...</td>\n",
       "    </tr>\n",
       "    <tr>\n",
       "      <th>215</th>\n",
       "      <td>심리상담서비스법 제정에 관한 청원</td>\n",
       "      <td>226</td>\n",
       "      <td>복지/보훈</td>\n",
       "      <td>2021-07-07</td>\n",
       "      <td>['최근', '한국', '심리', '학회', '상담', '심리', '학회', '임상...</td>\n",
       "    </tr>\n",
       "    <tr>\n",
       "      <th>216</th>\n",
       "      <td>온라인 플랫폼 중개거래의 공정화에 관한 법률안 제정에 관한 청원</td>\n",
       "      <td>169</td>\n",
       "      <td>소비자/공정거래</td>\n",
       "      <td>2021-06-25</td>\n",
       "      <td>['출판계', '플랫폼', '막아주', '한국', '출판계', '미래', '소설',...</td>\n",
       "    </tr>\n",
       "    <tr>\n",
       "      <th>217</th>\n",
       "      <td>대체휴일에 관한 청원</td>\n",
       "      <td>161</td>\n",
       "      <td>행정/지방자치</td>\n",
       "      <td>2021-07-14</td>\n",
       "      <td>['일요일', '공휴일', '대체', '휴일', '일괄적', '다음', '월요일',...</td>\n",
       "    </tr>\n",
       "    <tr>\n",
       "      <th>218</th>\n",
       "      <td>셧다운제 폐지를 위한 청소년 보호법 개정에 관한 청원</td>\n",
       "      <td>152</td>\n",
       "      <td>저출산/고령화/아동/청소년/가족</td>\n",
       "      <td>2021-07-07</td>\n",
       "      <td>['순기능', '제대로', '역효과', '일으키', '셧다', '운제', '청소년'...</td>\n",
       "    </tr>\n",
       "    <tr>\n",
       "      <th>219</th>\n",
       "      <td>배심원제의 행정재판 도입 입법에 관한 청원</td>\n",
       "      <td>132</td>\n",
       "      <td>수사/법무/사법제도</td>\n",
       "      <td>2021-07-14</td>\n",
       "      <td>['세계', '민주주의', '여러', '나라', '가운데', '배심', '원제', ...</td>\n",
       "    </tr>\n",
       "  </tbody>\n",
       "</table>\n",
       "<p>220 rows × 5 columns</p>\n",
       "</div>"
      ],
      "text/plain": [
       "                                           title        count  \\\n",
       "0                                국가보안법 개정에 관한 청원         1761   \n",
       "1                인공지능 윤리 및 고인의 AI구현 법안 제정에 관한 청원          223   \n",
       "2    포괄적 차별금지법 법안 제정에 관한 동의 및 일부 내용 수정 요청에 관한 청원        14025   \n",
       "3                 국민연금 수급 개시 연령과 연계한 정년연장에 관한 청원        19807   \n",
       "4                            하수도법 일부개정법률안에 관한 청원          736   \n",
       "..                                           ...          ...   \n",
       "215                           심리상담서비스법 제정에 관한 청원          226   \n",
       "216          온라인 플랫폼 중개거래의 공정화에 관한 법률안 제정에 관한 청원          169   \n",
       "217                                  대체휴일에 관한 청원          161   \n",
       "218                셧다운제 폐지를 위한 청소년 보호법 개정에 관한 청원          152   \n",
       "219                      배심원제의 행정재판 도입 입법에 관한 청원          132   \n",
       "\n",
       "                 categ       start  \\\n",
       "0           수사/법무/사법제도  2021-06-16   \n",
       "1            과학기술/정보통신  2021-06-15   \n",
       "2            인권/성평등/노동  2021-06-15   \n",
       "3            인권/성평등/노동  2021-06-14   \n",
       "4             재난/안전/환경  2021-06-11   \n",
       "..                 ...         ...   \n",
       "215              복지/보훈  2021-07-07   \n",
       "216           소비자/공정거래  2021-06-25   \n",
       "217            행정/지방자치  2021-07-14   \n",
       "218  저출산/고령화/아동/청소년/가족  2021-07-07   \n",
       "219         수사/법무/사법제도  2021-07-14   \n",
       "\n",
       "                                                  text  \n",
       "0    ['최근', '국가', '보안법', '폐지', '올라오', '자유', '대한민국',...  \n",
       "1    ['동의', 'AI', '구현', '제재', '가하', '규정', '만들', '외의...  \n",
       "2    ['UN', '사회권', '위원회', '국가', '인권', '위원회', '포괄적',...  \n",
       "3    ['노동자', '정년', '기간', '국민', '연금', '수급', '개시', '연...  \n",
       "4    ['하수도', '특정', '공산품', '주방', '오물', '분쇄', '기은', '...  \n",
       "..                                                 ...  \n",
       "215  ['최근', '한국', '심리', '학회', '상담', '심리', '학회', '임상...  \n",
       "216  ['출판계', '플랫폼', '막아주', '한국', '출판계', '미래', '소설',...  \n",
       "217  ['일요일', '공휴일', '대체', '휴일', '일괄적', '다음', '월요일',...  \n",
       "218  ['순기능', '제대로', '역효과', '일으키', '셧다', '운제', '청소년'...  \n",
       "219  ['세계', '민주주의', '여러', '나라', '가운데', '배심', '원제', ...  \n",
       "\n",
       "[220 rows x 5 columns]"
      ]
     },
     "execution_count": 113,
     "metadata": {},
     "output_type": "execute_result"
    }
   ],
   "source": [
    "assembly.text = assembly_clean_words\n",
    "assembly.to_excel(\"D:\\Summer 2021\\국회(전처리).xlsx\", index = False)\n",
    "assembly"
   ]
  },
  {
   "cell_type": "code",
   "execution_count": 111,
   "metadata": {},
   "outputs": [],
   "source": [
    "assembly_clean_words = remove_stopwords(assembly_words, stopwords)"
   ]
  },
  {
   "cell_type": "code",
   "execution_count": 24,
   "metadata": {},
   "outputs": [],
   "source": [
    "assembly_words = tokenize(assembly)\n",
    "assembly_words"
   ]
  },
  {
   "cell_type": "markdown",
   "metadata": {},
   "source": [
    "# 청와대 청원 (5. 토큰화 ~ 6. 불용어 제거 + 데이터 저장)"
   ]
  },
  {
   "cell_type": "markdown",
   "metadata": {},
   "source": [
    "청와대 청원의 경우, 데이터의 양이 너무 많아 토큰화에 시간이 오래 걸리고, 오류가 발생하면 데이터가 모두 날아가버리는 문제가 발생하기 때문에, 약 2000행 정도씩 묶어서 처리한 후 중간중간 저장할 수 있도록 했습니다. "
   ]
  },
  {
   "cell_type": "code",
   "execution_count": 13,
   "metadata": {},
   "outputs": [],
   "source": [
    "def tokenize_and_save(blue, j):\n",
    "    if j + 2000 <= 15315:\n",
    "        blue_words = tokenize(blue[j:j+2000])\n",
    "    else:\n",
    "        blue_words = tokenize(blue[j:])\n",
    "    blue_clean_words = remove_stopwords(blue_words, stopwords)\n",
    "    print('불용어 제거 완료')\n",
    "    file_name = f\"D:\\Summer 2021\\청와대(전처리)({j}).xlsx\"\n",
    "    blue_clean_words.to_excel(file_name, index = False)\n",
    "    print('파일 저장 완료')"
   ]
  },
  {
   "cell_type": "code",
   "execution_count": 38,
   "metadata": {},
   "outputs": [
    {
     "name": "stderr",
     "output_type": "stream",
     "text": [
      "100%|██████████████████████████████████████████████████████████████████████████████| 2000/2000 [35:09<00:00,  1.05s/it]\n"
     ]
    },
    {
     "name": "stdout",
     "output_type": "stream",
     "text": [
      "불용어 제거 완료\n",
      "파일 저장 완료\n"
     ]
    }
   ],
   "source": [
    "tokenize_and_save(blue, 0)"
   ]
  },
  {
   "cell_type": "code",
   "execution_count": 48,
   "metadata": {},
   "outputs": [
    {
     "name": "stderr",
     "output_type": "stream",
     "text": [
      "100%|██████████████████████████████████████████████████████████████████████████████| 2000/2000 [34:16<00:00,  1.03s/it]\n"
     ]
    },
    {
     "name": "stdout",
     "output_type": "stream",
     "text": [
      "불용어 제거 완료\n",
      "파일 저장 완료\n"
     ]
    }
   ],
   "source": [
    "tokenize_and_save(blue, 2000)"
   ]
  },
  {
   "cell_type": "code",
   "execution_count": 50,
   "metadata": {},
   "outputs": [
    {
     "name": "stderr",
     "output_type": "stream",
     "text": [
      "100%|██████████████████████████████████████████████████████████████████████████████| 2000/2000 [46:04<00:00,  1.38s/it]\n"
     ]
    },
    {
     "name": "stdout",
     "output_type": "stream",
     "text": [
      "불용어 제거 완료\n",
      "파일 저장 완료\n"
     ]
    }
   ],
   "source": [
    "tokenize_and_save(blue, 4000)"
   ]
  },
  {
   "cell_type": "code",
   "execution_count": 52,
   "metadata": {},
   "outputs": [
    {
     "name": "stderr",
     "output_type": "stream",
     "text": [
      "100%|██████████████████████████████████████████████████████████████████████████████| 2000/2000 [43:13<00:00,  1.30s/it]\n"
     ]
    },
    {
     "name": "stdout",
     "output_type": "stream",
     "text": [
      "불용어 제거 완료\n",
      "파일 저장 완료\n"
     ]
    }
   ],
   "source": [
    "tokenize_and_save(blue, 6000)"
   ]
  },
  {
   "cell_type": "code",
   "execution_count": 54,
   "metadata": {},
   "outputs": [
    {
     "name": "stderr",
     "output_type": "stream",
     "text": [
      "100%|██████████████████████████████████████████████████████████████████████████████| 2000/2000 [51:43<00:00,  1.55s/it]\n"
     ]
    },
    {
     "name": "stdout",
     "output_type": "stream",
     "text": [
      "불용어 제거 완료\n",
      "파일 저장 완료\n"
     ]
    }
   ],
   "source": [
    "tokenize_and_save(blue, 8000)"
   ]
  },
  {
   "cell_type": "code",
   "execution_count": 55,
   "metadata": {},
   "outputs": [
    {
     "name": "stderr",
     "output_type": "stream",
     "text": [
      "100%|██████████████████████████████████████████████████████████████████████████████| 2000/2000 [46:06<00:00,  1.38s/it]\n"
     ]
    },
    {
     "name": "stdout",
     "output_type": "stream",
     "text": [
      "불용어 제거 완료\n",
      "파일 저장 완료\n"
     ]
    }
   ],
   "source": [
    "tokenize_and_save(blue, 10000)"
   ]
  },
  {
   "cell_type": "code",
   "execution_count": 20,
   "metadata": {},
   "outputs": [
    {
     "name": "stderr",
     "output_type": "stream",
     "text": [
      "100%|██████████████████████████████████████████████████████████████████████████████| 2000/2000 [59:12<00:00,  1.78s/it]\n"
     ]
    },
    {
     "name": "stdout",
     "output_type": "stream",
     "text": [
      "불용어 제거 완료\n",
      "파일 저장 완료\n"
     ]
    }
   ],
   "source": [
    "tokenize_and_save(blue, 12000)"
   ]
  },
  {
   "cell_type": "code",
   "execution_count": 22,
   "metadata": {},
   "outputs": [
    {
     "name": "stderr",
     "output_type": "stream",
     "text": [
      "100%|██████████████████████████████████████████████████████████████████████████████| 1314/1314 [38:56<00:00,  1.78s/it]\n"
     ]
    },
    {
     "name": "stdout",
     "output_type": "stream",
     "text": [
      "불용어 제거 완료\n",
      "파일 저장 완료\n"
     ]
    }
   ],
   "source": [
    "tokenize_and_save(blue, 14000)"
   ]
  },
  {
   "cell_type": "code",
   "execution_count": 37,
   "metadata": {},
   "outputs": [],
   "source": [
    "a = pd.read_excel(\"D:\\Summer 2021\\청와대(전처리)(0).xlsx\")\n",
    "b = pd.read_excel(\"D:\\Summer 2021\\청와대(전처리)(2000).xlsx\")\n",
    "c = pd.read_excel(\"D:\\Summer 2021\\청와대(전처리)(4000).xlsx\")\n",
    "d = pd.read_excel(\"D:\\Summer 2021\\청와대(전처리)(6000).xlsx\")\n",
    "e = pd.read_excel(\"D:\\Summer 2021\\청와대(전처리)(8000).xlsx\")\n",
    "f = pd.read_excel(\"D:\\Summer 2021\\청와대(전처리)(10000).xlsx\")\n",
    "g = pd.read_excel(\"D:\\Summer 2021\\청와대(전처리)(12000).xlsx\")\n",
    "h = pd.read_excel(\"D:\\Summer 2021\\청와대(전처리)(14000).xlsx\")"
   ]
  },
  {
   "cell_type": "code",
   "execution_count": 38,
   "metadata": {},
   "outputs": [
    {
     "data": {
      "text/html": [
       "<div>\n",
       "<style scoped>\n",
       "    .dataframe tbody tr th:only-of-type {\n",
       "        vertical-align: middle;\n",
       "    }\n",
       "\n",
       "    .dataframe tbody tr th {\n",
       "        vertical-align: top;\n",
       "    }\n",
       "\n",
       "    .dataframe thead th {\n",
       "        text-align: right;\n",
       "    }\n",
       "</style>\n",
       "<table border=\"1\" class=\"dataframe\">\n",
       "  <thead>\n",
       "    <tr style=\"text-align: right;\">\n",
       "      <th></th>\n",
       "      <th>title</th>\n",
       "      <th>count</th>\n",
       "      <th>categ</th>\n",
       "      <th>start</th>\n",
       "      <th>text</th>\n",
       "    </tr>\n",
       "  </thead>\n",
       "  <tbody>\n",
       "    <tr>\n",
       "      <th>0</th>\n",
       "      <td>서울지방병무청 탈의실에 설치된 CCTV에 대한 진상규명을 요구한다. 또한 인권위의 ...</td>\n",
       "      <td>267</td>\n",
       "      <td>인권/성평등</td>\n",
       "      <td>2020-01-02</td>\n",
       "      <td>['본인', '서울', '지방', '병무청', '검사장', '탈의실', '발견', ...</td>\n",
       "    </tr>\n",
       "    <tr>\n",
       "      <th>1</th>\n",
       "      <td>주식시장 활성화 및 소액(개미)투자자 보호</td>\n",
       "      <td>271</td>\n",
       "      <td>경제민주화</td>\n",
       "      <td>2020-01-02</td>\n",
       "      <td>['우리', '나라', '코스', '미국', '애플', '한국', '주식', '시장...</td>\n",
       "    </tr>\n",
       "    <tr>\n",
       "      <th>2</th>\n",
       "      <td>교정기관의 민낮</td>\n",
       "      <td>198</td>\n",
       "      <td>행정</td>\n",
       "      <td>2020-01-02</td>\n",
       "      <td>['억울', '국민', '신청', '구치소', '교도관', '이주', '구치소', ...</td>\n",
       "    </tr>\n",
       "    <tr>\n",
       "      <th>3</th>\n",
       "      <td>미세먼지 저감 대책</td>\n",
       "      <td>170</td>\n",
       "      <td>안전/환경</td>\n",
       "      <td>2020-01-02</td>\n",
       "      <td>['미세', '먼지', '심각', '이제', '적극적', '대안', '요구', '우...</td>\n",
       "    </tr>\n",
       "    <tr>\n",
       "      <th>4</th>\n",
       "      <td>악질세입자 방지를 위한 세입자보호법을 재정해주세요.</td>\n",
       "      <td>2127</td>\n",
       "      <td>교통/건축/국토</td>\n",
       "      <td>2020-01-02</td>\n",
       "      <td>['우선', '아이', '부모', '식구', '아이', '성장', '나름', '단꿈...</td>\n",
       "    </tr>\n",
       "    <tr>\n",
       "      <th>...</th>\n",
       "      <td>...</td>\n",
       "      <td>...</td>\n",
       "      <td>...</td>\n",
       "      <td>...</td>\n",
       "      <td>...</td>\n",
       "    </tr>\n",
       "    <tr>\n",
       "      <th>15310</th>\n",
       "      <td>충북 오창 사는 33살 동생이 신경외과에서 주사 한대로 심정지, 사망하였습니다</td>\n",
       "      <td>16307</td>\n",
       "      <td>보건복지</td>\n",
       "      <td>2021-07-05</td>\n",
       "      <td>['안녕', '고등학교', '재학', '중인', '고등학생', '여러', '매체',...</td>\n",
       "    </tr>\n",
       "    <tr>\n",
       "      <th>15311</th>\n",
       "      <td>오직 코로나 백신을 위해 9평 응시 신청을 한 분들의 응시 권한을 재수생과 검정고시...</td>\n",
       "      <td>387</td>\n",
       "      <td>보건복지</td>\n",
       "      <td>2021-07-05</td>\n",
       "      <td>['대한민국', '대의', '사회', '초년', '이자', '취업', '준비', '...</td>\n",
       "    </tr>\n",
       "    <tr>\n",
       "      <th>15312</th>\n",
       "      <td>보이스피싱 피해자의 억울함을 호소합니다. 진화하고 있는 신종 보이스피싱에 대한 수사...</td>\n",
       "      <td>352</td>\n",
       "      <td>안전/환경</td>\n",
       "      <td>2021-07-05</td>\n",
       "      <td>['안녕', '사기죄', '무엇', '저희', '엄마', '께서', 'LH', '세...</td>\n",
       "    </tr>\n",
       "    <tr>\n",
       "      <th>15313</th>\n",
       "      <td>사기죄? 왜 아닙니까?</td>\n",
       "      <td>213</td>\n",
       "      <td>기타</td>\n",
       "      <td>2021-07-05</td>\n",
       "      <td>['대통령', '간곡히', '제언', '드리', '코로나', '이상', '휩쓸', ...</td>\n",
       "    </tr>\n",
       "    <tr>\n",
       "      <th>15314</th>\n",
       "      <td>● 스푸트니크 적극 수용해야합니다. ●</td>\n",
       "      <td>1182</td>\n",
       "      <td>보건복지</td>\n",
       "      <td>2021-07-05</td>\n",
       "      <td>NaN</td>\n",
       "    </tr>\n",
       "  </tbody>\n",
       "</table>\n",
       "<p>15314 rows × 5 columns</p>\n",
       "</div>"
      ],
      "text/plain": [
       "                                                   title  count     categ  \\\n",
       "0      서울지방병무청 탈의실에 설치된 CCTV에 대한 진상규명을 요구한다. 또한 인권위의 ...    267    인권/성평등   \n",
       "1                                주식시장 활성화 및 소액(개미)투자자 보호    271     경제민주화   \n",
       "2                                               교정기관의 민낮    198        행정   \n",
       "3                                             미세먼지 저감 대책    170     안전/환경   \n",
       "4                           악질세입자 방지를 위한 세입자보호법을 재정해주세요.   2127  교통/건축/국토   \n",
       "...                                                  ...    ...       ...   \n",
       "15310        충북 오창 사는 33살 동생이 신경외과에서 주사 한대로 심정지, 사망하였습니다  16307      보건복지   \n",
       "15311  오직 코로나 백신을 위해 9평 응시 신청을 한 분들의 응시 권한을 재수생과 검정고시...    387      보건복지   \n",
       "15312  보이스피싱 피해자의 억울함을 호소합니다. 진화하고 있는 신종 보이스피싱에 대한 수사...    352     안전/환경   \n",
       "15313                                       사기죄? 왜 아닙니까?    213        기타   \n",
       "15314                              ● 스푸트니크 적극 수용해야합니다. ●   1182      보건복지   \n",
       "\n",
       "            start                                               text  \n",
       "0      2020-01-02  ['본인', '서울', '지방', '병무청', '검사장', '탈의실', '발견', ...  \n",
       "1      2020-01-02  ['우리', '나라', '코스', '미국', '애플', '한국', '주식', '시장...  \n",
       "2      2020-01-02  ['억울', '국민', '신청', '구치소', '교도관', '이주', '구치소', ...  \n",
       "3      2020-01-02  ['미세', '먼지', '심각', '이제', '적극적', '대안', '요구', '우...  \n",
       "4      2020-01-02  ['우선', '아이', '부모', '식구', '아이', '성장', '나름', '단꿈...  \n",
       "...           ...                                                ...  \n",
       "15310  2021-07-05  ['안녕', '고등학교', '재학', '중인', '고등학생', '여러', '매체',...  \n",
       "15311  2021-07-05  ['대한민국', '대의', '사회', '초년', '이자', '취업', '준비', '...  \n",
       "15312  2021-07-05  ['안녕', '사기죄', '무엇', '저희', '엄마', '께서', 'LH', '세...  \n",
       "15313  2021-07-05  ['대통령', '간곡히', '제언', '드리', '코로나', '이상', '휩쓸', ...  \n",
       "15314  2021-07-05                                                NaN  \n",
       "\n",
       "[15314 rows x 5 columns]"
      ]
     },
     "execution_count": 38,
     "metadata": {},
     "output_type": "execute_result"
    }
   ],
   "source": [
    "blue_clean_words = pd.concat([a, b, c, d, e, f, g, h], ignore_index = True)\n",
    "blue.text = blue_clean_words\n",
    "blue.to_excel(\"D:\\Summer 2021\\교류학술제\\data_cleaning\\청와대(전처리).xlsx\", index = False)\n",
    "blue"
   ]
  }
 ],
 "metadata": {
  "kernelspec": {
   "display_name": "Python 3",
   "language": "python",
   "name": "python3"
  },
  "language_info": {
   "codemirror_mode": {
    "name": "ipython",
    "version": 3
   },
   "file_extension": ".py",
   "mimetype": "text/x-python",
   "name": "python",
   "nbconvert_exporter": "python",
   "pygments_lexer": "ipython3",
   "version": "3.8.7"
  }
 },
 "nbformat": 4,
 "nbformat_minor": 4
}
