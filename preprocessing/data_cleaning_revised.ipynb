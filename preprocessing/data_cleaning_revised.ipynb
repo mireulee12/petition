{
 "cells": [
  {
   "cell_type": "code",
   "execution_count": 1,
   "metadata": {},
   "outputs": [],
   "source": [
    "import pandas as pd\n",
    "import numpy as np\n",
    "from konlpy.tag import Okt, Hannanum, Kkma\n",
    "import re\n",
    "import collections\n",
    "from tqdm import tqdm"
   ]
  },
  {
   "cell_type": "markdown",
   "metadata": {},
   "source": [
    "# 1. 데이터 불러오기"
   ]
  },
  {
   "cell_type": "code",
   "execution_count": 2,
   "metadata": {},
   "outputs": [],
   "source": [
    "path = 'D:/Summer 2021/교류학술제/data_crawling/'\n",
    "assembly_r = pd.read_excel(path + \"국회.xlsx\")\n",
    "blue_r = pd.read_excel(path + '청와대(2).xlsx') # 결측치 채워진 버전"
   ]
  },
  {
   "cell_type": "markdown",
   "metadata": {},
   "source": [
    "# 2. 불필요한 열 삭제"
   ]
  },
  {
   "cell_type": "code",
   "execution_count": 3,
   "metadata": {},
   "outputs": [],
   "source": [
    "blue = blue_r.drop(['index', 'end', 'state'], axis = 1).copy()\n",
    "assembly = assembly_r.drop(['state', 'end'], axis = 1).copy()"
   ]
  },
  {
   "cell_type": "markdown",
   "metadata": {},
   "source": [
    "# 3. 불필요한 문자열 제거"
   ]
  },
  {
   "cell_type": "code",
   "execution_count": 4,
   "metadata": {
    "scrolled": true
   },
   "outputs": [],
   "source": [
    "blue.text = blue.text.str.rstrip('[본 게시물의 일부 내용이 국민 청원 요건에 위배되어 관리자에 의해 수정되었습니다]')"
   ]
  },
  {
   "cell_type": "code",
   "execution_count": 5,
   "metadata": {},
   "outputs": [],
   "source": [
    "def remove_signs_from_text(df):\n",
    "    for i in range(len(df)):\n",
    "        df.iloc[i].text = re.sub('[^가-힝\\\\s]', '', df.iloc[i].text)\n",
    "    return df"
   ]
  },
  {
   "cell_type": "code",
   "execution_count": 6,
   "metadata": {},
   "outputs": [],
   "source": [
    "assembly = remove_signs_from_text(assembly)\n",
    "blue = remove_signs_from_text(blue)"
   ]
  },
  {
   "cell_type": "code",
   "execution_count": 7,
   "metadata": {},
   "outputs": [],
   "source": [
    "def remove_comma_from_count(df):\n",
    "    df['count'] = df['count'].str.replace(',', '')\n",
    "    return df"
   ]
  },
  {
   "cell_type": "code",
   "execution_count": 8,
   "metadata": {},
   "outputs": [],
   "source": [
    "assembly = remove_comma_from_count(assembly)\n",
    "blue = remove_comma_from_count(blue)"
   ]
  },
  {
   "cell_type": "markdown",
   "metadata": {},
   "source": [
    "# 4. 행 삭제"
   ]
  },
  {
   "cell_type": "markdown",
   "metadata": {},
   "source": [
    "아래 토큰화 과정을 진행할 때, 아래의 행들의 토큰화에서 지속적으로 문제가 발생함. \n",
    "확인해본 결과, 문자열에 문제가 있는 것으로 판단되어 불가피하게 이 행들을 삭제함. "
   ]
  },
  {
   "cell_type": "code",
   "execution_count": 9,
   "metadata": {
    "scrolled": true
   },
   "outputs": [
    {
     "name": "stdout",
     "output_type": "stream",
     "text": [
      "title                                 외국인을위한 운전 면허 시험\n",
      "count                                             121\n",
      "categ                                              기타\n",
      "start                                      2020-03-02\n",
      "text                                                 \n",
      "Name: 1800, dtype: object\n",
      "title                                      제친구의 억울함을 들어주세요\n",
      "count                                                 1475\n",
      "categ                                               인권/성평등\n",
      "start                                           2020-07-03\n",
      "text                                                   ...\n",
      "Name: 6065, dtype: object\n",
      "title                            청소년 범죄, 그에 맞는 처벌을 내려주세요 !\n",
      "count                                                  358\n",
      "categ                                                   기타\n",
      "start                                           2020-07-14\n",
      "text                                                   ...\n",
      "Name: 6411, dtype: object\n",
      "title                          Spreading Malicious Rumours\n",
      "count                                                 7181\n",
      "categ                                          문화/예술/체육/언론\n",
      "start                                           2020-10-30\n",
      "text                                                   ...\n",
      "Name: 9427, dtype: object\n",
      "title    서울 양천구 중학교 등교 개학에 대하여 말...\n",
      "count                                                  281\n",
      "categ                                                육아/교육\n",
      "start                                           2020-12-08\n",
      "text                                                   ...\n",
      "Name: 10267, dtype: object\n",
      "title                    India-Korea Air bubble permission\n",
      "count                                                  537\n",
      "categ                                                   행정\n",
      "start                                           2020-12-21\n",
      "text                                                   ...\n",
      "Name: 10574, dtype: object\n",
      "title            다문화 가정이란 이유로 제 친구를 폭행한 가해자들을 엄격하게 처벌해주세요.\n",
      "count                                                  544\n",
      "categ                                                   기타\n",
      "start                                           2021-02-25\n",
      "text                                                   ...\n",
      "Name: 12386, dtype: object\n",
      "title    미얀마 NUG를 공식외교채널로 인정해주셔ᄉ...\n",
      "count                                                21701\n",
      "categ                                             외교/통일/국방\n",
      "start                                           2021-07-05\n",
      "text                                                   ...\n",
      "Name: 15304, dtype: object\n",
      "title             *********** drama is racist to Indonesia\n",
      "count                                                  122\n",
      "categ                                          문화/예술/체육/언론\n",
      "start                                           2021-06-28\n",
      "text                                                   ...\n",
      "Name: 15108, dtype: object\n"
     ]
    }
   ],
   "source": [
    "index_to_delete = [1800, 6065, 6411, 9427, 10267, 10574, 12386, 15304, 15108]\n",
    "for i in index_to_delete:\n",
    "    print(blue.iloc[i])"
   ]
  },
  {
   "cell_type": "code",
   "execution_count": 10,
   "metadata": {
    "scrolled": true
   },
   "outputs": [
    {
     "data": {
      "text/html": [
       "<div>\n",
       "<style scoped>\n",
       "    .dataframe tbody tr th:only-of-type {\n",
       "        vertical-align: middle;\n",
       "    }\n",
       "\n",
       "    .dataframe tbody tr th {\n",
       "        vertical-align: top;\n",
       "    }\n",
       "\n",
       "    .dataframe thead th {\n",
       "        text-align: right;\n",
       "    }\n",
       "</style>\n",
       "<table border=\"1\" class=\"dataframe\">\n",
       "  <thead>\n",
       "    <tr style=\"text-align: right;\">\n",
       "      <th></th>\n",
       "      <th>title</th>\n",
       "      <th>count</th>\n",
       "      <th>categ</th>\n",
       "      <th>start</th>\n",
       "      <th>text</th>\n",
       "    </tr>\n",
       "  </thead>\n",
       "  <tbody>\n",
       "    <tr>\n",
       "      <th>0</th>\n",
       "      <td>서울지방병무청 탈의실에 설치된 CCTV에 대한 진상규명을 요구한다. 또한 인권위의 ...</td>\n",
       "      <td>267</td>\n",
       "      <td>인권/성평등</td>\n",
       "      <td>2020-01-02</td>\n",
       "      <td>본인은 년 월 경 서울지방병무청 제검사장 탈의실에서 믿을 수 없는 것을 발견하였다 ...</td>\n",
       "    </tr>\n",
       "    <tr>\n",
       "      <th>1</th>\n",
       "      <td>주식시장 활성화 및 소액(개미)투자자 보호</td>\n",
       "      <td>271</td>\n",
       "      <td>경제민주화</td>\n",
       "      <td>2020-01-02</td>\n",
       "      <td>우리 나라 코스피 시총이 미국 애플보다 작다는 설이 돌 정도로 한국의 주식시장은 저...</td>\n",
       "    </tr>\n",
       "    <tr>\n",
       "      <th>2</th>\n",
       "      <td>교정기관의 민낮</td>\n",
       "      <td>198</td>\n",
       "      <td>행정</td>\n",
       "      <td>2020-01-02</td>\n",
       "      <td>억울한 일로 국민청원을 신청합니다    저는 구치소 교도관입니다      이주 전 ...</td>\n",
       "    </tr>\n",
       "    <tr>\n",
       "      <th>3</th>\n",
       "      <td>미세먼지 저감 대책</td>\n",
       "      <td>170</td>\n",
       "      <td>안전/환경</td>\n",
       "      <td>2020-01-02</td>\n",
       "      <td>미세먼지의 심각성은 이제 적극적인 대안을 요구 하고 있습니다  우리 일상에서 가장 ...</td>\n",
       "    </tr>\n",
       "    <tr>\n",
       "      <th>4</th>\n",
       "      <td>악질세입자 방지를 위한 세입자보호법을 재정해주세요.</td>\n",
       "      <td>2127</td>\n",
       "      <td>교통/건축/국토</td>\n",
       "      <td>2020-01-02</td>\n",
       "      <td>저는 우선 아이셋의 부모입니다  식구가 많은편이고 아이들이 성장함에 따라 집이 좁아...</td>\n",
       "    </tr>\n",
       "    <tr>\n",
       "      <th>...</th>\n",
       "      <td>...</td>\n",
       "      <td>...</td>\n",
       "      <td>...</td>\n",
       "      <td>...</td>\n",
       "      <td>...</td>\n",
       "    </tr>\n",
       "    <tr>\n",
       "      <th>15310</th>\n",
       "      <td>충북 오창 사는 33살 동생이 신경외과에서 주사 한대로 심정지, 사망하였습니다</td>\n",
       "      <td>16307</td>\n",
       "      <td>보건복지</td>\n",
       "      <td>2021-07-05</td>\n",
       "      <td>충북 오창 에 사는 제 동생은 디스크와 목디스크로  집 가까이 신경외과 신경차단술 ...</td>\n",
       "    </tr>\n",
       "    <tr>\n",
       "      <th>15311</th>\n",
       "      <td>오직 코로나 백신을 위해 9평 응시 신청을 한 분들의 응시 권한을 재수생과 검정고시...</td>\n",
       "      <td>387</td>\n",
       "      <td>보건복지</td>\n",
       "      <td>2021-07-05</td>\n",
       "      <td>안녕하세요 저는 고등학교에 재학 중인 한 고등학생입니다   여러 매체를 통해 이 이...</td>\n",
       "    </tr>\n",
       "    <tr>\n",
       "      <th>15312</th>\n",
       "      <td>보이스피싱 피해자의 억울함을 호소합니다. 진화하고 있는 신종 보이스피싱에 대한 수사...</td>\n",
       "      <td>352</td>\n",
       "      <td>안전/환경</td>\n",
       "      <td>2021-07-05</td>\n",
       "      <td>저는 대한민국의 대의 사회 초년생이자 취업을 준비하고 있는 취준생 입니다    이 ...</td>\n",
       "    </tr>\n",
       "    <tr>\n",
       "      <th>15313</th>\n",
       "      <td>사기죄? 왜 아닙니까?</td>\n",
       "      <td>213</td>\n",
       "      <td>기타</td>\n",
       "      <td>2021-07-05</td>\n",
       "      <td>안녕하세요 저는 사기죄가 무엇인지 알고싶습니다  저희 엄마께서 년전에 를 안고 세입...</td>\n",
       "    </tr>\n",
       "    <tr>\n",
       "      <th>15314</th>\n",
       "      <td>● 스푸트니크 적극 수용해야합니다. ●</td>\n",
       "      <td>1182</td>\n",
       "      <td>보건복지</td>\n",
       "      <td>2021-07-05</td>\n",
       "      <td>대통령님께 간곡히 제언 드립니다   코로나가 개월 이상 휩쓸고간 자리는 이토록 황량...</td>\n",
       "    </tr>\n",
       "  </tbody>\n",
       "</table>\n",
       "<p>15306 rows × 5 columns</p>\n",
       "</div>"
      ],
      "text/plain": [
       "                                                   title  count     categ  \\\n",
       "0      서울지방병무청 탈의실에 설치된 CCTV에 대한 진상규명을 요구한다. 또한 인권위의 ...    267    인권/성평등   \n",
       "1                                주식시장 활성화 및 소액(개미)투자자 보호    271     경제민주화   \n",
       "2                                               교정기관의 민낮    198        행정   \n",
       "3                                             미세먼지 저감 대책    170     안전/환경   \n",
       "4                           악질세입자 방지를 위한 세입자보호법을 재정해주세요.   2127  교통/건축/국토   \n",
       "...                                                  ...    ...       ...   \n",
       "15310        충북 오창 사는 33살 동생이 신경외과에서 주사 한대로 심정지, 사망하였습니다  16307      보건복지   \n",
       "15311  오직 코로나 백신을 위해 9평 응시 신청을 한 분들의 응시 권한을 재수생과 검정고시...    387      보건복지   \n",
       "15312  보이스피싱 피해자의 억울함을 호소합니다. 진화하고 있는 신종 보이스피싱에 대한 수사...    352     안전/환경   \n",
       "15313                                       사기죄? 왜 아닙니까?    213        기타   \n",
       "15314                              ● 스푸트니크 적극 수용해야합니다. ●   1182      보건복지   \n",
       "\n",
       "            start                                               text  \n",
       "0      2020-01-02  본인은 년 월 경 서울지방병무청 제검사장 탈의실에서 믿을 수 없는 것을 발견하였다 ...  \n",
       "1      2020-01-02  우리 나라 코스피 시총이 미국 애플보다 작다는 설이 돌 정도로 한국의 주식시장은 저...  \n",
       "2      2020-01-02  억울한 일로 국민청원을 신청합니다    저는 구치소 교도관입니다      이주 전 ...  \n",
       "3      2020-01-02  미세먼지의 심각성은 이제 적극적인 대안을 요구 하고 있습니다  우리 일상에서 가장 ...  \n",
       "4      2020-01-02  저는 우선 아이셋의 부모입니다  식구가 많은편이고 아이들이 성장함에 따라 집이 좁아...  \n",
       "...           ...                                                ...  \n",
       "15310  2021-07-05  충북 오창 에 사는 제 동생은 디스크와 목디스크로  집 가까이 신경외과 신경차단술 ...  \n",
       "15311  2021-07-05  안녕하세요 저는 고등학교에 재학 중인 한 고등학생입니다   여러 매체를 통해 이 이...  \n",
       "15312  2021-07-05  저는 대한민국의 대의 사회 초년생이자 취업을 준비하고 있는 취준생 입니다    이 ...  \n",
       "15313  2021-07-05  안녕하세요 저는 사기죄가 무엇인지 알고싶습니다  저희 엄마께서 년전에 를 안고 세입...  \n",
       "15314  2021-07-05  대통령님께 간곡히 제언 드립니다   코로나가 개월 이상 휩쓸고간 자리는 이토록 황량...  \n",
       "\n",
       "[15306 rows x 5 columns]"
      ]
     },
     "execution_count": 10,
     "metadata": {},
     "output_type": "execute_result"
    }
   ],
   "source": [
    "blue = blue.drop(index_to_delete); blue"
   ]
  },
  {
   "cell_type": "markdown",
   "metadata": {},
   "source": [
    "# 5. 토큰화"
   ]
  },
  {
   "cell_type": "code",
   "execution_count": 11,
   "metadata": {},
   "outputs": [],
   "source": [
    "def tokenize(df):\n",
    "    text = df['text']\n",
    "    kkm = Kkma()\n",
    "    clean_words = pd.Series(0, index = df.index)\n",
    "    for i in tqdm(range(len(text))):\n",
    "        nouns = kkm.morphs(text.iloc[i])                 # 토큰화\n",
    "        words = [w for w in nouns if len(w) >= 2]  # 분석을 위해 두글자 이상인 단어만 사용\n",
    "        clean_words.iloc[i] = words\n",
    "    clean_words = clean_words.astype(str)\n",
    "    return clean_words"
   ]
  },
  {
   "cell_type": "code",
   "execution_count": 49,
   "metadata": {},
   "outputs": [
    {
     "name": "stderr",
     "output_type": "stream",
     "text": [
      "100%|████████████████████████████████████████████████████████████████████████████████| 220/220 [04:45<00:00,  1.30s/it]\n"
     ]
    },
    {
     "data": {
      "text/plain": [
       "0      ['최근', '국가', '보안법', '폐지', '청원', '올라오', '으나', '...\n",
       "1      ['동의', '구현', '대하', '제재', '가하', '도록', '규정', '만들...\n",
       "2      ['사회권', '위원회', '에서', '국가', '인권', '위원회', '에서', ...\n",
       "3      ['노동자', '정년', '기간', '국민', '연금', '수급', '개시', '연...\n",
       "4      ['하수도', '의하', '특정', '공산품', '주방', '오물', '분쇄', '...\n",
       "                             ...                        \n",
       "215    ['최근', '한국', '심리', '학회', '상담', '심리', '학회', '임상...\n",
       "216    ['출판계', '플랫폼', '막아주', '세요', '한국', '출판계', '미래',...\n",
       "217    ['일요일', '공휴일', '대하', '대체', '휴일', '일괄적', '으로', ...\n",
       "218    ['순기능', '제대로', '못하', '역효과', '일으키', '셧다', '운제',...\n",
       "219    ['세계', '민주주의', '여러', '나라', '가운데', '배심', '원제', ...\n",
       "Length: 220, dtype: object"
      ]
     },
     "execution_count": 49,
     "metadata": {},
     "output_type": "execute_result"
    }
   ],
   "source": [
    "assembly_words = tokenize(assembly)\n",
    "assembly_words"
   ]
  },
  {
   "cell_type": "code",
   "execution_count": 12,
   "metadata": {},
   "outputs": [
    {
     "name": "stderr",
     "output_type": "stream",
     "text": [
      "100%|██████████████████████████████████████████████████████████████████████████| 15306/15306 [6:25:55<00:00,  1.51s/it]\n"
     ]
    }
   ],
   "source": [
    "blue_words = tokenize(blue)"
   ]
  },
  {
   "cell_type": "code",
   "execution_count": 13,
   "metadata": {},
   "outputs": [],
   "source": [
    "blue.text = blue_words\n",
    "blue.to_excel(\"D:\\Summer 2021\\교류학술제\\data_cleaning\\청와대(토큰화).xlsx\", index = False)"
   ]
  },
  {
   "cell_type": "markdown",
   "metadata": {},
   "source": [
    "# 6. 불용어 제거"
   ]
  },
  {
   "cell_type": "code",
   "execution_count": 14,
   "metadata": {},
   "outputs": [],
   "source": [
    "with open('D:/Summer 2021/교류학술제/data_cleaning/stopwords.txt', 'r', encoding = 'utf-8') as f:\n",
    "    content = f.readlines()\n",
    "stopwords = list(set([x.rstrip(', \\n') for x in content]))"
   ]
  },
  {
   "cell_type": "code",
   "execution_count": 15,
   "metadata": {},
   "outputs": [],
   "source": [
    "def remove_stopwords(series, stopwords):\n",
    "    for word in stopwords:\n",
    "        stopword = \"'\" + word + \"', \"\n",
    "        series = series.str.replace(stopword, '')\n",
    "        stopword = \"'\" + word + \"'\"\n",
    "        series = series.str.replace(stopword, '')\n",
    "    return series"
   ]
  },
  {
   "cell_type": "code",
   "execution_count": 15,
   "metadata": {},
   "outputs": [],
   "source": [
    "assembly_clean_words = remove_stopwords(assembly_words, stopwords)"
   ]
  },
  {
   "cell_type": "code",
   "execution_count": 16,
   "metadata": {},
   "outputs": [],
   "source": [
    "# 토큰화 과정이 6시간 가량 소요되기 때문에, 이를 생략하기 위해 토큰화가 완료된 데이터를 불러온다. \n",
    "blue_2 = pd.read_excel('D:/Summer 2021/교류학술제/data_cleaning/청와대(토큰화).xlsx' )\n",
    "blue_words = blue_2['text']"
   ]
  },
  {
   "cell_type": "code",
   "execution_count": 17,
   "metadata": {
    "scrolled": true
   },
   "outputs": [
    {
     "name": "stdout",
     "output_type": "stream",
     "text": [
      "0        ['본인', '서울', '지방', '병무청', '검사장', '탈의실', '에서', ...\n",
      "1        ['우리', '나라', '코스', '미국', '애플', '보다', '다는', '정도...\n",
      "2        ['억울', '국민', '청원', '신청', 'ㅂ니다', '구치소', '교도관', ...\n",
      "3        ['미세', '먼지', '심각', '이제', '적극적', '대안', '요구', '습...\n",
      "4        ['우선', '아이', '부모', 'ㅂ니다', '식구', '아이', '성장', '따...\n",
      "                               ...                        \n",
      "15301    ['충북', '동생', '디스크', '디스크', '가까이', '신경외과', '신경'...\n",
      "15302    ['안녕', '세요', '고등학교', '재학', '중인', '고등학생', 'ㅂ니다'...\n",
      "15303    ['대한민국', '대의', '사회', '초년', '이자', '취업', '준비', '...\n",
      "15304    ['안녕', '세요', '사기죄', '무엇', 'ㄴ지', '습니다', '저희', '...\n",
      "15305    ['대통령', '간곡히', '제언', '드리', 'ㅂ니다', '코로나', '이상',...\n",
      "Name: text, Length: 15306, dtype: object\n",
      "0        ['서울', '지방', '병무청', '검사장', '탈의실', '발견', '탈의실',...\n",
      "1        ['나라', '코스', '미국', '애플', '한국', '주식', '시장', '평가...\n",
      "2        ['억울', '국민', '신청', '구치소', '교도관', '이주', '구치소', ...\n",
      "3        ['미세', '먼지', '심각', '이제', '적극적', '대안', '요구', '일...\n",
      "4        ['아이', '부모', '식구', '아이', '성장', '나름', '단꿈', '가지...\n",
      "                               ...                        \n",
      "15301    ['충북', '동생', '디스크', '디스크', '가까이', '신경외과', '신경'...\n",
      "15302    ['고등학교', '재학', '고등학생', '매체', '이슈', '고민', '응시',...\n",
      "15303    ['대한민국', '대의', '사회', '초년', '취업', '준비', '쓰기', '...\n",
      "15304    ['사기죄', '무엇', '엄마', '세입자', '드리', '솔직히', '엄마', ...\n",
      "15305    ['대통령', '간곡히', '제언', '드리', '코로나', '휩쓸', '자리', ...\n",
      "Name: text, Length: 15306, dtype: object\n"
     ]
    }
   ],
   "source": [
    "blue_clean_words = remove_stopwords(blue_words, stopwords)\n",
    "print(blue_words)\n",
    "print(blue_clean_words)"
   ]
  },
  {
   "cell_type": "markdown",
   "metadata": {},
   "source": [
    "# 7. 데이터 저장"
   ]
  },
  {
   "cell_type": "code",
   "execution_count": 34,
   "metadata": {},
   "outputs": [
    {
     "data": {
      "text/html": [
       "<div>\n",
       "<style scoped>\n",
       "    .dataframe tbody tr th:only-of-type {\n",
       "        vertical-align: middle;\n",
       "    }\n",
       "\n",
       "    .dataframe tbody tr th {\n",
       "        vertical-align: top;\n",
       "    }\n",
       "\n",
       "    .dataframe thead th {\n",
       "        text-align: right;\n",
       "    }\n",
       "</style>\n",
       "<table border=\"1\" class=\"dataframe\">\n",
       "  <thead>\n",
       "    <tr style=\"text-align: right;\">\n",
       "      <th></th>\n",
       "      <th>title</th>\n",
       "      <th>count</th>\n",
       "      <th>categ</th>\n",
       "      <th>start</th>\n",
       "      <th>text</th>\n",
       "    </tr>\n",
       "  </thead>\n",
       "  <tbody>\n",
       "    <tr>\n",
       "      <th>0</th>\n",
       "      <td>국가보안법 개정에 관한 청원</td>\n",
       "      <td>1761</td>\n",
       "      <td>수사/법무/사법제도</td>\n",
       "      <td>2021-06-16</td>\n",
       "      <td>['국가', '보안법', '폐지', '올라오', '자유', '대한민국', '월남',...</td>\n",
       "    </tr>\n",
       "    <tr>\n",
       "      <th>1</th>\n",
       "      <td>인공지능 윤리 및 고인의 AI구현 법안 제정에 관한 청원</td>\n",
       "      <td>223</td>\n",
       "      <td>과학기술/정보통신</td>\n",
       "      <td>2021-06-15</td>\n",
       "      <td>['동의', '구현', '제재', '가하', '규정', '만들', '외의', '구현...</td>\n",
       "    </tr>\n",
       "    <tr>\n",
       "      <th>2</th>\n",
       "      <td>포괄적 차별금지법 법안 제정에 관한 동의 및 일부 내용 수정 요청에 관한 청원</td>\n",
       "      <td>14025</td>\n",
       "      <td>인권/성평등/노동</td>\n",
       "      <td>2021-06-15</td>\n",
       "      <td>['사회권', '위원회', '국가', '인권', '위원회', '포괄적', '차별',...</td>\n",
       "    </tr>\n",
       "    <tr>\n",
       "      <th>3</th>\n",
       "      <td>국민연금 수급 개시 연령과 연계한 정년연장에 관한 청원</td>\n",
       "      <td>19807</td>\n",
       "      <td>인권/성평등/노동</td>\n",
       "      <td>2021-06-14</td>\n",
       "      <td>['노동자', '정년', '기간', '국민', '연금', '수급', '개시', '연...</td>\n",
       "    </tr>\n",
       "    <tr>\n",
       "      <th>4</th>\n",
       "      <td>하수도법 일부개정법률안에 관한 청원</td>\n",
       "      <td>736</td>\n",
       "      <td>재난/안전/환경</td>\n",
       "      <td>2021-06-11</td>\n",
       "      <td>['하수도', '특정', '공산품', '주방', '오물', '분쇄', '기은', '...</td>\n",
       "    </tr>\n",
       "    <tr>\n",
       "      <th>...</th>\n",
       "      <td>...</td>\n",
       "      <td>...</td>\n",
       "      <td>...</td>\n",
       "      <td>...</td>\n",
       "      <td>...</td>\n",
       "    </tr>\n",
       "    <tr>\n",
       "      <th>215</th>\n",
       "      <td>심리상담서비스법 제정에 관한 청원</td>\n",
       "      <td>226</td>\n",
       "      <td>복지/보훈</td>\n",
       "      <td>2021-07-07</td>\n",
       "      <td>['한국', '심리', '학회', '상담', '심리', '학회', '임상', '심리...</td>\n",
       "    </tr>\n",
       "    <tr>\n",
       "      <th>216</th>\n",
       "      <td>온라인 플랫폼 중개거래의 공정화에 관한 법률안 제정에 관한 청원</td>\n",
       "      <td>169</td>\n",
       "      <td>소비자/공정거래</td>\n",
       "      <td>2021-06-25</td>\n",
       "      <td>['출판계', '플랫폼', '막아주', '한국', '출판계', '미래', '소설',...</td>\n",
       "    </tr>\n",
       "    <tr>\n",
       "      <th>217</th>\n",
       "      <td>대체휴일에 관한 청원</td>\n",
       "      <td>161</td>\n",
       "      <td>행정/지방자치</td>\n",
       "      <td>2021-07-14</td>\n",
       "      <td>['일요일', '공휴일', '휴일', '일괄적', '월요일', '정하', '의견',...</td>\n",
       "    </tr>\n",
       "    <tr>\n",
       "      <th>218</th>\n",
       "      <td>셧다운제 폐지를 위한 청소년 보호법 개정에 관한 청원</td>\n",
       "      <td>152</td>\n",
       "      <td>저출산/고령화/아동/청소년/가족</td>\n",
       "      <td>2021-07-07</td>\n",
       "      <td>['순기능', '역효과', '일으키', '셧다', '운제', '청소년', '보호법'...</td>\n",
       "    </tr>\n",
       "    <tr>\n",
       "      <th>219</th>\n",
       "      <td>배심원제의 행정재판 도입 입법에 관한 청원</td>\n",
       "      <td>132</td>\n",
       "      <td>수사/법무/사법제도</td>\n",
       "      <td>2021-07-14</td>\n",
       "      <td>['세계', '민주주의', '나라', '가운데', '배심', '원제', '국민', ...</td>\n",
       "    </tr>\n",
       "  </tbody>\n",
       "</table>\n",
       "<p>220 rows × 5 columns</p>\n",
       "</div>"
      ],
      "text/plain": [
       "                                           title        count  \\\n",
       "0                                국가보안법 개정에 관한 청원         1761   \n",
       "1                인공지능 윤리 및 고인의 AI구현 법안 제정에 관한 청원          223   \n",
       "2    포괄적 차별금지법 법안 제정에 관한 동의 및 일부 내용 수정 요청에 관한 청원        14025   \n",
       "3                 국민연금 수급 개시 연령과 연계한 정년연장에 관한 청원        19807   \n",
       "4                            하수도법 일부개정법률안에 관한 청원          736   \n",
       "..                                           ...          ...   \n",
       "215                           심리상담서비스법 제정에 관한 청원          226   \n",
       "216          온라인 플랫폼 중개거래의 공정화에 관한 법률안 제정에 관한 청원          169   \n",
       "217                                  대체휴일에 관한 청원          161   \n",
       "218                셧다운제 폐지를 위한 청소년 보호법 개정에 관한 청원          152   \n",
       "219                      배심원제의 행정재판 도입 입법에 관한 청원          132   \n",
       "\n",
       "                 categ       start  \\\n",
       "0           수사/법무/사법제도  2021-06-16   \n",
       "1            과학기술/정보통신  2021-06-15   \n",
       "2            인권/성평등/노동  2021-06-15   \n",
       "3            인권/성평등/노동  2021-06-14   \n",
       "4             재난/안전/환경  2021-06-11   \n",
       "..                 ...         ...   \n",
       "215              복지/보훈  2021-07-07   \n",
       "216           소비자/공정거래  2021-06-25   \n",
       "217            행정/지방자치  2021-07-14   \n",
       "218  저출산/고령화/아동/청소년/가족  2021-07-07   \n",
       "219         수사/법무/사법제도  2021-07-14   \n",
       "\n",
       "                                                  text  \n",
       "0    ['국가', '보안법', '폐지', '올라오', '자유', '대한민국', '월남',...  \n",
       "1    ['동의', '구현', '제재', '가하', '규정', '만들', '외의', '구현...  \n",
       "2    ['사회권', '위원회', '국가', '인권', '위원회', '포괄적', '차별',...  \n",
       "3    ['노동자', '정년', '기간', '국민', '연금', '수급', '개시', '연...  \n",
       "4    ['하수도', '특정', '공산품', '주방', '오물', '분쇄', '기은', '...  \n",
       "..                                                 ...  \n",
       "215  ['한국', '심리', '학회', '상담', '심리', '학회', '임상', '심리...  \n",
       "216  ['출판계', '플랫폼', '막아주', '한국', '출판계', '미래', '소설',...  \n",
       "217  ['일요일', '공휴일', '휴일', '일괄적', '월요일', '정하', '의견',...  \n",
       "218  ['순기능', '역효과', '일으키', '셧다', '운제', '청소년', '보호법'...  \n",
       "219  ['세계', '민주주의', '나라', '가운데', '배심', '원제', '국민', ...  \n",
       "\n",
       "[220 rows x 5 columns]"
      ]
     },
     "execution_count": 34,
     "metadata": {},
     "output_type": "execute_result"
    }
   ],
   "source": [
    "assembly.text = assembly_clean_words\n",
    "assembly.to_excel(\"D:\\Summer 2021\\교류학술제\\data_cleaning\\국회(전처리)(2).xlsx\", index = False)\n",
    "assembly"
   ]
  },
  {
   "cell_type": "code",
   "execution_count": 18,
   "metadata": {},
   "outputs": [
    {
     "data": {
      "text/html": [
       "<div>\n",
       "<style scoped>\n",
       "    .dataframe tbody tr th:only-of-type {\n",
       "        vertical-align: middle;\n",
       "    }\n",
       "\n",
       "    .dataframe tbody tr th {\n",
       "        vertical-align: top;\n",
       "    }\n",
       "\n",
       "    .dataframe thead th {\n",
       "        text-align: right;\n",
       "    }\n",
       "</style>\n",
       "<table border=\"1\" class=\"dataframe\">\n",
       "  <thead>\n",
       "    <tr style=\"text-align: right;\">\n",
       "      <th></th>\n",
       "      <th>title</th>\n",
       "      <th>count</th>\n",
       "      <th>categ</th>\n",
       "      <th>start</th>\n",
       "      <th>text</th>\n",
       "    </tr>\n",
       "  </thead>\n",
       "  <tbody>\n",
       "    <tr>\n",
       "      <th>0</th>\n",
       "      <td>서울지방병무청 탈의실에 설치된 CCTV에 대한 진상규명을 요구한다. 또한 인권위의 ...</td>\n",
       "      <td>267</td>\n",
       "      <td>인권/성평등</td>\n",
       "      <td>2020-01-02</td>\n",
       "      <td>['서울', '지방', '병무청', '검사장', '탈의실', '발견', '탈의실',...</td>\n",
       "    </tr>\n",
       "    <tr>\n",
       "      <th>1</th>\n",
       "      <td>주식시장 활성화 및 소액(개미)투자자 보호</td>\n",
       "      <td>271</td>\n",
       "      <td>경제민주화</td>\n",
       "      <td>2020-01-02</td>\n",
       "      <td>['나라', '코스', '미국', '애플', '한국', '주식', '시장', '평가...</td>\n",
       "    </tr>\n",
       "    <tr>\n",
       "      <th>2</th>\n",
       "      <td>교정기관의 민낮</td>\n",
       "      <td>198</td>\n",
       "      <td>행정</td>\n",
       "      <td>2020-01-02</td>\n",
       "      <td>['억울', '국민', '신청', '구치소', '교도관', '이주', '구치소', ...</td>\n",
       "    </tr>\n",
       "    <tr>\n",
       "      <th>3</th>\n",
       "      <td>미세먼지 저감 대책</td>\n",
       "      <td>170</td>\n",
       "      <td>안전/환경</td>\n",
       "      <td>2020-01-02</td>\n",
       "      <td>['미세', '먼지', '심각', '이제', '적극적', '대안', '요구', '일...</td>\n",
       "    </tr>\n",
       "    <tr>\n",
       "      <th>4</th>\n",
       "      <td>악질세입자 방지를 위한 세입자보호법을 재정해주세요.</td>\n",
       "      <td>2127</td>\n",
       "      <td>교통/건축/국토</td>\n",
       "      <td>2020-01-02</td>\n",
       "      <td>['아이', '부모', '식구', '아이', '성장', '나름', '단꿈', '가지...</td>\n",
       "    </tr>\n",
       "    <tr>\n",
       "      <th>...</th>\n",
       "      <td>...</td>\n",
       "      <td>...</td>\n",
       "      <td>...</td>\n",
       "      <td>...</td>\n",
       "      <td>...</td>\n",
       "    </tr>\n",
       "    <tr>\n",
       "      <th>15310</th>\n",
       "      <td>충북 오창 사는 33살 동생이 신경외과에서 주사 한대로 심정지, 사망하였습니다</td>\n",
       "      <td>16307</td>\n",
       "      <td>보건복지</td>\n",
       "      <td>2021-07-05</td>\n",
       "      <td>NaN</td>\n",
       "    </tr>\n",
       "    <tr>\n",
       "      <th>15311</th>\n",
       "      <td>오직 코로나 백신을 위해 9평 응시 신청을 한 분들의 응시 권한을 재수생과 검정고시...</td>\n",
       "      <td>387</td>\n",
       "      <td>보건복지</td>\n",
       "      <td>2021-07-05</td>\n",
       "      <td>NaN</td>\n",
       "    </tr>\n",
       "    <tr>\n",
       "      <th>15312</th>\n",
       "      <td>보이스피싱 피해자의 억울함을 호소합니다. 진화하고 있는 신종 보이스피싱에 대한 수사...</td>\n",
       "      <td>352</td>\n",
       "      <td>안전/환경</td>\n",
       "      <td>2021-07-05</td>\n",
       "      <td>NaN</td>\n",
       "    </tr>\n",
       "    <tr>\n",
       "      <th>15313</th>\n",
       "      <td>사기죄? 왜 아닙니까?</td>\n",
       "      <td>213</td>\n",
       "      <td>기타</td>\n",
       "      <td>2021-07-05</td>\n",
       "      <td>NaN</td>\n",
       "    </tr>\n",
       "    <tr>\n",
       "      <th>15314</th>\n",
       "      <td>● 스푸트니크 적극 수용해야합니다. ●</td>\n",
       "      <td>1182</td>\n",
       "      <td>보건복지</td>\n",
       "      <td>2021-07-05</td>\n",
       "      <td>NaN</td>\n",
       "    </tr>\n",
       "  </tbody>\n",
       "</table>\n",
       "<p>15306 rows × 5 columns</p>\n",
       "</div>"
      ],
      "text/plain": [
       "                                                   title  count     categ  \\\n",
       "0      서울지방병무청 탈의실에 설치된 CCTV에 대한 진상규명을 요구한다. 또한 인권위의 ...    267    인권/성평등   \n",
       "1                                주식시장 활성화 및 소액(개미)투자자 보호    271     경제민주화   \n",
       "2                                               교정기관의 민낮    198        행정   \n",
       "3                                             미세먼지 저감 대책    170     안전/환경   \n",
       "4                           악질세입자 방지를 위한 세입자보호법을 재정해주세요.   2127  교통/건축/국토   \n",
       "...                                                  ...    ...       ...   \n",
       "15310        충북 오창 사는 33살 동생이 신경외과에서 주사 한대로 심정지, 사망하였습니다  16307      보건복지   \n",
       "15311  오직 코로나 백신을 위해 9평 응시 신청을 한 분들의 응시 권한을 재수생과 검정고시...    387      보건복지   \n",
       "15312  보이스피싱 피해자의 억울함을 호소합니다. 진화하고 있는 신종 보이스피싱에 대한 수사...    352     안전/환경   \n",
       "15313                                       사기죄? 왜 아닙니까?    213        기타   \n",
       "15314                              ● 스푸트니크 적극 수용해야합니다. ●   1182      보건복지   \n",
       "\n",
       "            start                                               text  \n",
       "0      2020-01-02  ['서울', '지방', '병무청', '검사장', '탈의실', '발견', '탈의실',...  \n",
       "1      2020-01-02  ['나라', '코스', '미국', '애플', '한국', '주식', '시장', '평가...  \n",
       "2      2020-01-02  ['억울', '국민', '신청', '구치소', '교도관', '이주', '구치소', ...  \n",
       "3      2020-01-02  ['미세', '먼지', '심각', '이제', '적극적', '대안', '요구', '일...  \n",
       "4      2020-01-02  ['아이', '부모', '식구', '아이', '성장', '나름', '단꿈', '가지...  \n",
       "...           ...                                                ...  \n",
       "15310  2021-07-05                                                NaN  \n",
       "15311  2021-07-05                                                NaN  \n",
       "15312  2021-07-05                                                NaN  \n",
       "15313  2021-07-05                                                NaN  \n",
       "15314  2021-07-05                                                NaN  \n",
       "\n",
       "[15306 rows x 5 columns]"
      ]
     },
     "execution_count": 18,
     "metadata": {},
     "output_type": "execute_result"
    }
   ],
   "source": [
    "blue.text = blue_clean_words\n",
    "blue.to_excel(\"D:\\Summer 2021\\교류학술제\\data_cleaning\\청와대(전처리)(2).xlsx\", index = False)\n",
    "blue"
   ]
  }
 ],
 "metadata": {
  "kernelspec": {
   "display_name": "Python 3",
   "language": "python",
   "name": "python3"
  },
  "language_info": {
   "codemirror_mode": {
    "name": "ipython",
    "version": 3
   },
   "file_extension": ".py",
   "mimetype": "text/x-python",
   "name": "python",
   "nbconvert_exporter": "python",
   "pygments_lexer": "ipython3",
   "version": "3.8.7"
  }
 },
 "nbformat": 4,
 "nbformat_minor": 4
}
