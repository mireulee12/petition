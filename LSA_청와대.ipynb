{
  "nbformat": 4,
  "nbformat_minor": 0,
  "metadata": {
    "colab": {
      "name": "LSA_청와대.ipynb",
      "provenance": [],
      "collapsed_sections": [],
      "authorship_tag": "ABX9TyOTRZvStAgyPV46Lw/40drd"
    },
    "kernelspec": {
      "name": "python3",
      "display_name": "Python 3"
    },
    "language_info": {
      "name": "python"
    }
  },
  "cells": [
    {
      "cell_type": "markdown",
      "metadata": {
        "id": "UOEs1LfKQejm"
      },
      "source": [
        "# 파일 불러오기"
      ]
    },
    {
      "cell_type": "code",
      "metadata": {
        "colab": {
          "resources": {
            "http://localhost:8080/nbextensions/google.colab/files.js": {
              "data": "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",
              "ok": true,
              "headers": [
                [
                  "content-type",
                  "application/javascript"
                ]
              ],
              "status": 200,
              "status_text": ""
            }
          },
          "base_uri": "https://localhost:8080/",
          "height": 93
        },
        "id": "e-78l-_SnWXV",
        "outputId": "ee620c31-7488-4190-d50f-1df6964a9850"
      },
      "source": [
        "from google.colab import files\n",
        "myfile = files.upload()"
      ],
      "execution_count": 3,
      "outputs": [
        {
          "output_type": "display_data",
          "data": {
            "text/html": [
              "\n",
              "     <input type=\"file\" id=\"files-cd217c42-6538-4ea8-98b9-524f2d087c09\" name=\"files[]\" multiple disabled\n",
              "        style=\"border:none\" />\n",
              "     <output id=\"result-cd217c42-6538-4ea8-98b9-524f2d087c09\">\n",
              "      Upload widget is only available when the cell has been executed in the\n",
              "      current browser session. Please rerun this cell to enable.\n",
              "      </output>\n",
              "      <script src=\"/nbextensions/google.colab/files.js\"></script> "
            ],
            "text/plain": [
              "<IPython.core.display.HTML object>"
            ]
          },
          "metadata": {
            "tags": []
          }
        },
        {
          "output_type": "stream",
          "text": [
            "Saving 청와대(전처리).csv to 청와대(전처리).csv\n"
          ],
          "name": "stdout"
        }
      ]
    },
    {
      "cell_type": "code",
      "metadata": {
        "id": "CLKTNfIIoGVl"
      },
      "source": [
        "import io\n",
        "import pandas as pd"
      ],
      "execution_count": 4,
      "outputs": []
    },
    {
      "cell_type": "code",
      "metadata": {
        "colab": {
          "base_uri": "https://localhost:8080/",
          "height": 371
        },
        "id": "Qol1wUbFqCFZ",
        "outputId": "81f1ec25-724a-46d2-cd51-3e7501dba8a6"
      },
      "source": [
        "data = pd.read_csv(io.BytesIO(myfile['청와대(전처리).csv']))\n",
        "data.head()"
      ],
      "execution_count": 5,
      "outputs": [
        {
          "output_type": "execute_result",
          "data": {
            "text/html": [
              "<div>\n",
              "<style scoped>\n",
              "    .dataframe tbody tr th:only-of-type {\n",
              "        vertical-align: middle;\n",
              "    }\n",
              "\n",
              "    .dataframe tbody tr th {\n",
              "        vertical-align: top;\n",
              "    }\n",
              "\n",
              "    .dataframe thead th {\n",
              "        text-align: right;\n",
              "    }\n",
              "</style>\n",
              "<table border=\"1\" class=\"dataframe\">\n",
              "  <thead>\n",
              "    <tr style=\"text-align: right;\">\n",
              "      <th></th>\n",
              "      <th>title</th>\n",
              "      <th>count</th>\n",
              "      <th>categ</th>\n",
              "      <th>start</th>\n",
              "      <th>text</th>\n",
              "    </tr>\n",
              "  </thead>\n",
              "  <tbody>\n",
              "    <tr>\n",
              "      <th>0</th>\n",
              "      <td>서울지방병무청 탈의실에 설치된 CCTV에 대한 진상규명을 요구한다. 또한 인권위의 ...</td>\n",
              "      <td>267</td>\n",
              "      <td>인권/성평등</td>\n",
              "      <td>2020-01-02</td>\n",
              "      <td>['본인', '서울', '지방', '병무청', '검사장', '탈의실', '발견', ...</td>\n",
              "    </tr>\n",
              "    <tr>\n",
              "      <th>1</th>\n",
              "      <td>주식시장 활성화 및 소액(개미)투자자 보호</td>\n",
              "      <td>271</td>\n",
              "      <td>경제민주화</td>\n",
              "      <td>2020-01-02</td>\n",
              "      <td>['우리', '나라', '코스', '미국', '애플', '한국', '주식', '시장...</td>\n",
              "    </tr>\n",
              "    <tr>\n",
              "      <th>2</th>\n",
              "      <td>교정기관의 민낮</td>\n",
              "      <td>198</td>\n",
              "      <td>행정</td>\n",
              "      <td>2020-01-02</td>\n",
              "      <td>['억울', '국민', '신청', '구치소', '교도관', '이주', '구치소', ...</td>\n",
              "    </tr>\n",
              "    <tr>\n",
              "      <th>3</th>\n",
              "      <td>미세먼지 저감 대책</td>\n",
              "      <td>170</td>\n",
              "      <td>안전/환경</td>\n",
              "      <td>2020-01-02</td>\n",
              "      <td>['미세', '먼지', '심각', '이제', '적극적', '대안', '요구', '우...</td>\n",
              "    </tr>\n",
              "    <tr>\n",
              "      <th>4</th>\n",
              "      <td>악질세입자 방지를 위한 세입자보호법을 재정해주세요.</td>\n",
              "      <td>2127</td>\n",
              "      <td>교통/건축/국토</td>\n",
              "      <td>2020-01-02</td>\n",
              "      <td>['우선', '아이', '부모', '식구', '아이', '성장', '나름', '단꿈...</td>\n",
              "    </tr>\n",
              "  </tbody>\n",
              "</table>\n",
              "</div>"
            ],
            "text/plain": [
              "                                               title  ...                                               text\n",
              "0  서울지방병무청 탈의실에 설치된 CCTV에 대한 진상규명을 요구한다. 또한 인권위의 ...  ...  ['본인', '서울', '지방', '병무청', '검사장', '탈의실', '발견', ...\n",
              "1                            주식시장 활성화 및 소액(개미)투자자 보호  ...  ['우리', '나라', '코스', '미국', '애플', '한국', '주식', '시장...\n",
              "2                                           교정기관의 민낮  ...  ['억울', '국민', '신청', '구치소', '교도관', '이주', '구치소', ...\n",
              "3                                         미세먼지 저감 대책  ...  ['미세', '먼지', '심각', '이제', '적극적', '대안', '요구', '우...\n",
              "4                       악질세입자 방지를 위한 세입자보호법을 재정해주세요.  ...  ['우선', '아이', '부모', '식구', '아이', '성장', '나름', '단꿈...\n",
              "\n",
              "[5 rows x 5 columns]"
            ]
          },
          "metadata": {
            "tags": []
          },
          "execution_count": 5
        }
      ]
    },
    {
      "cell_type": "code",
      "metadata": {
        "colab": {
          "base_uri": "https://localhost:8080/"
        },
        "id": "P3Z5R7dSsFcj",
        "outputId": "9a126bc0-37de-4c6e-a092-0b4fe02bfcab"
      },
      "source": [
        "# 'text'부분만 추출\n",
        "president_df = data.loc[:15312, ['text']]\n",
        "print(president_df)"
      ],
      "execution_count": 37,
      "outputs": [
        {
          "output_type": "stream",
          "text": [
            "                                                    text\n",
            "0      ['본인', '서울', '지방', '병무청', '검사장', '탈의실', '발견', ...\n",
            "1      ['우리', '나라', '코스', '미국', '애플', '한국', '주식', '시장...\n",
            "2      ['억울', '국민', '신청', '구치소', '교도관', '이주', '구치소', ...\n",
            "3      ['미세', '먼지', '심각', '이제', '적극적', '대안', '요구', '우...\n",
            "4      ['우선', '아이', '부모', '식구', '아이', '성장', '나름', '단꿈...\n",
            "...                                                  ...\n",
            "15308  ['충북', '동생', '디스크', '디스크', '가까이', '신경외과', '신경'...\n",
            "15309  ['안녕', '고등학교', '재학', '중인', '고등학생', '여러', '매체',...\n",
            "15310  ['대한민국', '대의', '사회', '초년', '이자', '취업', '준비', '...\n",
            "15311  ['안녕', '사기죄', '무엇', '저희', '엄마', '께서', 'LH', '세...\n",
            "15312  ['대통령', '간곡히', '제언', '드리', '코로나', '이상', '휩쓸', ...\n",
            "\n",
            "[15313 rows x 1 columns]\n"
          ],
          "name": "stdout"
        }
      ]
    },
    {
      "cell_type": "markdown",
      "metadata": {
        "id": "2WYEcSQoRVUZ"
      },
      "source": [
        "# 역토큰화"
      ]
    },
    {
      "cell_type": "code",
      "metadata": {
        "colab": {
          "base_uri": "https://localhost:8080/"
        },
        "id": "3xnqBv-2sUOZ",
        "outputId": "171fb126-5d5f-4259-acb8-fa0e219a9022"
      },
      "source": [
        "president_df.text = president_df.text.str.lstrip(\"['\").str.rstrip(\"']\").str.split(\"', '\").str.join(\" \")\n",
        "print(president_df.text)"
      ],
      "execution_count": 44,
      "outputs": [
        {
          "output_type": "stream",
          "text": [
            "0        본인 서울 지방 병무청 검사장 탈의실 발견 탈의실 천장 CCTV 발견 본인 경악 탈...\n",
            "1        우리 나라 코스 미국 애플 한국 주식 시장 평가 시장 하지만 투자 매력 없다 이렇게...\n",
            "2        억울 국민 신청 구치소 교도관 이주 구치소 거실 성북구 종암동 구역 편입 정신 보건...\n",
            "3        미세 먼지 심각 이제 적극적 대안 요구 우리 일상 가장 적극적 모든 건축물 외부 스...\n",
            "4        우선 아이 부모 식구 아이 성장 나름 단꿈 가지 좀더 분양 하지만 아이 학교 문제 ...\n",
            "                               ...                        \n",
            "15308    충북 동생 디스크 디스크 가까이 신경외과 신경 차단 주사 대로 정지 이틀 사망 신경...\n",
            "15309    안녕 고등학교 재학 중인 고등학생 여러 매체 이슈 고민 응시 신청 이자 백신 그리 ...\n",
            "15310    대한민국 대의 사회 초년 이자 취업 준비 쓰기 정말 생각 고민 공감 직접 으시 피해...\n",
            "15311    안녕 사기죄 무엇 저희 엄마 께서 LH 세입자 드리 솔직히 엄마 혼자 키우 하나 키...\n",
            "15312    대통령 간곡히 제언 드리 코로나 이상 휩쓸 자리 이토록 황량 현재 코로나 대한민국 ...\n",
            "Name: text, Length: 15313, dtype: object\n"
          ],
          "name": "stdout"
        }
      ]
    },
    {
      "cell_type": "markdown",
      "metadata": {
        "id": "4wHMMwkxRQnE"
      },
      "source": [
        "# TF-IDF 행렬 만들기"
      ]
    },
    {
      "cell_type": "code",
      "metadata": {
        "colab": {
          "base_uri": "https://localhost:8080/"
        },
        "id": "wfaF0_vP6tBN",
        "outputId": "eac0dc68-771a-41d2-999d-7dab131188d1"
      },
      "source": [
        "from sklearn.feature_extraction.text import TfidfVectorizer\n",
        "vectorizer = TfidfVectorizer()\n",
        "\n",
        "X = vectorizer.fit_transform(president_df.text.values.astype('U'))\n",
        "X.shape"
      ],
      "execution_count": 43,
      "outputs": [
        {
          "output_type": "execute_result",
          "data": {
            "text/plain": [
              "(15313, 54255)"
            ]
          },
          "metadata": {
            "tags": []
          },
          "execution_count": 43
        }
      ]
    },
    {
      "cell_type": "markdown",
      "metadata": {
        "id": "AcX6E2CSReLi"
      },
      "source": [
        "# 토픽 모델링"
      ]
    },
    {
      "cell_type": "code",
      "metadata": {
        "colab": {
          "base_uri": "https://localhost:8080/"
        },
        "id": "UToe9iPZOftj",
        "outputId": "48843c3b-620c-4ac0-e9e4-d51cb09554c5"
      },
      "source": [
        "from sklearn.decomposition import TruncatedSVD\n",
        "svd_model = TruncatedSVD(n_components = 28)\n",
        "svd_model.fit(X)\n",
        "len(svd_model.components_)"
      ],
      "execution_count": 40,
      "outputs": [
        {
          "output_type": "execute_result",
          "data": {
            "text/plain": [
              "28"
            ]
          },
          "metadata": {
            "tags": []
          },
          "execution_count": 40
        }
      ]
    },
    {
      "cell_type": "code",
      "metadata": {
        "colab": {
          "base_uri": "https://localhost:8080/"
        },
        "id": "Ds9Y7ieWPHnk",
        "outputId": "c00b3e18-df68-477c-9585-921f513060a6"
      },
      "source": [
        "terms = vectorizer.get_feature_names()\n",
        "\n",
        "def get_topics(components, feature_names, n = 10):\n",
        "  for idx, topic in enumerate(components):\n",
        "    print(\"Topic %d:\" % (idx+1), [(feature_names[i], topic[i].round(10)) for i in topic.argsort()[:-n-1:-1]])\n",
        "get_topics(svd_model.components_, terms)"
      ],
      "execution_count": 46,
      "outputs": [
        {
          "output_type": "stream",
          "text": [
            "Topic 1: [('아이', 0.1982737485), ('국민', 0.1516341358), ('코로나', 0.1516323105), ('사람', 0.125037675), ('생각', 0.1222740749), ('저희', 0.1144022227), ('정부', 0.1068780626), ('학교', 0.1054812639), ('상황', 0.1050932834), ('마스크', 0.103766564)]\n",
            "Topic 2: [('아이', 0.5232621456), ('학교', 0.2325944914), ('교사', 0.1799450256), ('학생', 0.1680275087), ('수업', 0.1333038345), ('어린이집', 0.1305604668), ('개학', 0.1241957048), ('아동', 0.1133167121), ('학대', 0.1122968346), ('보육', 0.0998859253)]\n",
            "Topic 3: [('마스크', 0.3368037892), ('코로나', 0.2570020868), ('학생', 0.1869113138), ('진자', 0.1627400841), ('학교', 0.1554650847), ('개학', 0.151537441), ('수업', 0.1268458682), ('감염', 0.1262364714), ('시험', 0.1184354031), ('등교', 0.099374174)]\n",
            "Topic 4: [('주택', 0.322252703), ('아이', 0.245375851), ('임대', 0.1949581558), ('학교', 0.177082082), ('아파트', 0.1466020869), ('대출', 0.1446504512), ('분양', 0.1442604218), ('부동산', 0.1413149787), ('학생', 0.127471521), ('수업', 0.1200355804)]\n",
            "Topic 5: [('학생', 0.3373208476), ('학교', 0.2785987503), ('시험', 0.2269307779), ('수업', 0.1680519684), ('개학', 0.1402286288), ('사건', 0.1090083457), ('등교', 0.1073493742), ('검찰', 0.1050131701), ('교육', 0.101292386), ('피해자', 0.0963160756)]\n",
            "Topic 6: [('병원', 0.413374334), ('환자', 0.2166576662), ('의사', 0.1538376551), ('저희', 0.1439739484), ('치료', 0.1392907815), ('수술', 0.138993078), ('간호사', 0.1330304925), ('의료', 0.1190830858), ('주택', 0.1164947675), ('시험', 0.0924903697)]\n",
            "Topic 7: [('마스크', 0.6010093275), ('주택', 0.1532067618), ('병원', 0.1202787943), ('학생', 0.1184742029), ('가격', 0.1096644674), ('학교', 0.1036919875), ('구매', 0.1018983252), ('공급', 0.0994995305), ('판매', 0.0930267419), ('아파트', 0.0929068385)]\n",
            "Topic 8: [('저희', 0.1710603931), ('영업', 0.1669220762), ('마스크', 0.158959458), ('매출', 0.1559366864), ('회사', 0.1299063849), ('지원금', 0.1297160847), ('지급', 0.1233643811), ('상공인', 0.1168649629), ('업체', 0.115698675), ('직원', 0.1061532108)]\n",
            "Topic 9: [('공매도', 0.4004184386), ('주식', 0.2720220301), ('투자자', 0.1935824617), ('시장', 0.1822234328), ('투자', 0.1360510188), ('금융', 0.1297889309), ('마스크', 0.1281011886), ('병원', 0.1246720983), ('기업', 0.1041846403), ('개인', 0.0952293798)]\n",
            "Topic 10: [('시험', 0.6563697579), ('교사', 0.1538880746), ('수험생', 0.1525577253), ('보육', 0.1438105463), ('어린이집', 0.136868736), ('응시', 0.11816278), ('마스크', 0.108394293), ('아동', 0.0836692893), ('공무원', 0.0793941569), ('주민', 0.0776598132)]\n",
            "Topic 11: [('시험', 0.4391694157), ('공매도', 0.1823324125), ('아이', 0.1474164291), ('주식', 0.1227215826), ('수험생', 0.1055861231), ('사람', 0.0965822889), ('투자자', 0.083016142), ('대출', 0.0777176488), ('응시', 0.0744607984), ('저희', 0.0735604355)]\n",
            "Topic 12: [('공매도', 0.2384770369), ('신천지', 0.1779824343), ('진자', 0.1673614972), ('주민', 0.1664747327), ('공사', 0.1575629163), ('지역', 0.1431736202), ('주식', 0.1343813733), ('대구', 0.1206323749), ('시장', 0.1126767088), ('투자자', 0.1040661295)]\n",
            "Topic 13: [('신천지', 0.2818167938), ('공매도', 0.2067024531), ('교사', 0.1960065856), ('보육', 0.1553819267), ('진자', 0.1470630246), ('대구', 0.1420755931), ('검찰', 0.1259420168), ('주식', 0.1224606104), ('검사', 0.1203708976), ('어린이집', 0.1199664194)]\n",
            "Topic 14: [('백신', 0.4339619956), ('접종', 0.3304899676), ('교사', 0.2338940854), ('보육', 0.1844547357), ('어린이집', 0.1261657479), ('중국', 0.1155727306), ('입국', 0.1033862786), ('회사', 0.0989904829), ('저희', 0.0980616594), ('검사', 0.0961475363)]\n",
            "Topic 15: [('동물', 0.5518313544), ('백신', 0.2815496103), ('반려', 0.2505425639), ('접종', 0.2218903535), ('학대', 0.1832151847), ('아동', 0.1590035498), ('임대', 0.1127888347), ('교사', 0.1029141219), ('주택', 0.0967365843), ('강아지', 0.0920621457)]\n",
            "Topic 16: [('백신', 0.3747034255), ('접종', 0.2848420057), ('검찰', 0.2339971455), ('아이', 0.1731400908), ('동물', 0.1111804359), ('총장', 0.1010680412), ('수사', 0.0951243187), ('주민', 0.0884114664), ('신천지', 0.0781706961), ('대통령', 0.0775532321)]\n",
            "Topic 17: [('동물', 0.4437139572), ('검찰', 0.2253890802), ('반려', 0.211686694), ('교사', 0.2066039085), ('보육', 0.1462415073), ('저희', 0.1370387734), ('대통령', 0.1293554654), ('중국', 0.1059107116), ('총장', 0.0990998314), ('어린이집', 0.0920814687)]\n",
            "Topic 18: [('임대', 0.2897282935), ('아이', 0.1964239354), ('검찰', 0.1921129105), ('중국', 0.1849830288), ('입국', 0.165499386), ('사업자', 0.1519259166), ('수사', 0.1294537989), ('아동', 0.1230090337), ('주택', 0.1175502732), ('검사', 0.1095206551)]\n",
            "Topic 19: [('신천지', 0.3807118028), ('대구', 0.1820945293), ('보험', 0.1689623692), ('회사', 0.1674266653), ('지급', 0.1535830237), ('동물', 0.1233001332), ('임대', 0.1158832433), ('소득', 0.1001018298), ('교회', 0.0998733326), ('지원', 0.0961789918)]\n",
            "Topic 20: [('임대', 0.3415111393), ('주택', 0.1589348376), ('사업자', 0.1528035151), ('여성', 0.1112898936), ('시설', 0.1031148465), ('저희', 0.0918470929), ('교회', 0.089763848), ('등록', 0.0816054312), ('영업', 0.0779824128), ('방역', 0.0749024383)]\n",
            "Topic 21: [('지원금', 0.233263807), ('재난', 0.2327688415), ('주민', 0.1660434796), ('지급', 0.1567773631), ('소득', 0.139771373), ('지원', 0.1339249696), ('지역', 0.1290381391), ('대구', 0.1266653184), ('임대', 0.1190063228), ('가해자', 0.1124171004)]\n",
            "Topic 22: [('여성', 0.4582003689), ('남성', 0.2153199595), ('검찰', 0.1609644733), ('검사', 0.1485441093), ('아이', 0.1396372704), ('진자', 0.1363282635), ('개학', 0.1197768373), ('수업', 0.0891052499), ('격리', 0.0854115074), ('동선', 0.0828133483)]\n",
            "Topic 23: [('여성', 0.3051149513), ('신천지', 0.2781815741), ('지원', 0.1883037754), ('검찰', 0.167889297), ('저희', 0.1601140449), ('중국', 0.1578339405), ('학교', 0.1540408488), ('남성', 0.1450076533), ('교육', 0.1259703737), ('공매도', 0.1108282823)]\n",
            "Topic 24: [('아동', 0.2713963463), ('간호사', 0.2550067508), ('학대', 0.215952184), ('간호', 0.2082736355), ('근무', 0.1560723058), ('진자', 0.1502503978), ('대구', 0.1439419438), ('회사', 0.1310959949), ('저희', 0.1229959502), ('직원', 0.1142174923)]\n",
            "Topic 25: [('장애인', 0.3092219295), ('아동', 0.2924631384), ('보험', 0.1750748492), ('학대', 0.162321793), ('시설', 0.1460985949), ('아버지', 0.1078984215), ('차량', 0.0992753681), ('장애', 0.0965432782), ('사고', 0.0946524918), ('센터', 0.0879623467)]\n",
            "Topic 26: [('분양', 0.2431017503), ('공사', 0.1922214558), ('저희', 0.184326605), ('아동', 0.1839890862), ('조합원', 0.1816026836), ('조합', 0.1607789687), ('여성', 0.1600035895), ('공매도', 0.1329805628), ('학대', 0.1208973157), ('아파트', 0.1180538854)]\n",
            "Topic 27: [('격리', 0.1925497252), ('간호사', 0.1904856826), ('간호', 0.1773689549), ('입국', 0.1469923545), ('국민', 0.1451631839), ('학교', 0.1315817901), ('장애인', 0.1310733958), ('외국인', 0.1146226067), ('검사', 0.1120975598), ('자가', 0.1027612359)]\n",
            "Topic 28: [('조합원', 0.1906582566), ('조합', 0.1837329458), ('주택', 0.1562407306), ('개학', 0.1404918171), ('회사', 0.1311161559), ('보험', 0.1191160122), ('사고', 0.116689212), ('아버지', 0.1048907555), ('저희', 0.1048541753), ('검찰', 0.1025199384)]\n"
          ],
          "name": "stdout"
        }
      ]
    }
  ]
}