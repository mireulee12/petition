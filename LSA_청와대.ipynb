{
  "nbformat": 4,
  "nbformat_minor": 0,
  "metadata": {
    "colab": {
      "name": "LSA_청와대.ipynb",
      "provenance": [],
      "collapsed_sections": [],
      "authorship_tag": "ABX9TyPUUOBJU09BqrVQxWchog5a"
    },
    "kernelspec": {
      "name": "python3",
      "display_name": "Python 3"
    },
    "language_info": {
      "name": "python"
    }
  },
  "cells": [
    {
      "cell_type": "markdown",
      "metadata": {
        "id": "UOEs1LfKQejm"
      },
      "source": [
        "# 파일 불러오기"
      ]
    },
    {
      "cell_type": "code",
      "metadata": {
        "colab": {
          "resources": {
            "http://localhost:8080/nbextensions/google.colab/files.js": {
              "data": "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",
              "ok": true,
              "headers": [
                [
                  "content-type",
                  "application/javascript"
                ]
              ],
              "status": 200,
              "status_text": ""
            }
          },
          "base_uri": "https://localhost:8080/",
          "height": 93
        },
        "id": "e-78l-_SnWXV",
        "outputId": "ee620c31-7488-4190-d50f-1df6964a9850"
      },
      "source": [
        "from google.colab import files\n",
        "myfile = files.upload()"
      ],
      "execution_count": 3,
      "outputs": [
        {
          "output_type": "display_data",
          "data": {
            "text/html": [
              "\n",
              "     <input type=\"file\" id=\"files-cd217c42-6538-4ea8-98b9-524f2d087c09\" name=\"files[]\" multiple disabled\n",
              "        style=\"border:none\" />\n",
              "     <output id=\"result-cd217c42-6538-4ea8-98b9-524f2d087c09\">\n",
              "      Upload widget is only available when the cell has been executed in the\n",
              "      current browser session. Please rerun this cell to enable.\n",
              "      </output>\n",
              "      <script src=\"/nbextensions/google.colab/files.js\"></script> "
            ],
            "text/plain": [
              "<IPython.core.display.HTML object>"
            ]
          },
          "metadata": {
            "tags": []
          }
        },
        {
          "output_type": "stream",
          "text": [
            "Saving 청와대(전처리).csv to 청와대(전처리).csv\n"
          ],
          "name": "stdout"
        }
      ]
    },
    {
      "cell_type": "code",
      "metadata": {
        "id": "CLKTNfIIoGVl"
      },
      "source": [
        "import io\n",
        "import pandas as pd"
      ],
      "execution_count": 4,
      "outputs": []
    },
    {
      "cell_type": "code",
      "metadata": {
        "colab": {
          "base_uri": "https://localhost:8080/",
          "height": 371
        },
        "id": "Qol1wUbFqCFZ",
        "outputId": "81f1ec25-724a-46d2-cd51-3e7501dba8a6"
      },
      "source": [
        "data = pd.read_csv(io.BytesIO(myfile['청와대(전처리).csv']))\n",
        "data.head()"
      ],
      "execution_count": 5,
      "outputs": [
        {
          "output_type": "execute_result",
          "data": {
            "text/html": [
              "<div>\n",
              "<style scoped>\n",
              "    .dataframe tbody tr th:only-of-type {\n",
              "        vertical-align: middle;\n",
              "    }\n",
              "\n",
              "    .dataframe tbody tr th {\n",
              "        vertical-align: top;\n",
              "    }\n",
              "\n",
              "    .dataframe thead th {\n",
              "        text-align: right;\n",
              "    }\n",
              "</style>\n",
              "<table border=\"1\" class=\"dataframe\">\n",
              "  <thead>\n",
              "    <tr style=\"text-align: right;\">\n",
              "      <th></th>\n",
              "      <th>title</th>\n",
              "      <th>count</th>\n",
              "      <th>categ</th>\n",
              "      <th>start</th>\n",
              "      <th>text</th>\n",
              "    </tr>\n",
              "  </thead>\n",
              "  <tbody>\n",
              "    <tr>\n",
              "      <th>0</th>\n",
              "      <td>서울지방병무청 탈의실에 설치된 CCTV에 대한 진상규명을 요구한다. 또한 인권위의 ...</td>\n",
              "      <td>267</td>\n",
              "      <td>인권/성평등</td>\n",
              "      <td>2020-01-02</td>\n",
              "      <td>['본인', '서울', '지방', '병무청', '검사장', '탈의실', '발견', ...</td>\n",
              "    </tr>\n",
              "    <tr>\n",
              "      <th>1</th>\n",
              "      <td>주식시장 활성화 및 소액(개미)투자자 보호</td>\n",
              "      <td>271</td>\n",
              "      <td>경제민주화</td>\n",
              "      <td>2020-01-02</td>\n",
              "      <td>['우리', '나라', '코스', '미국', '애플', '한국', '주식', '시장...</td>\n",
              "    </tr>\n",
              "    <tr>\n",
              "      <th>2</th>\n",
              "      <td>교정기관의 민낮</td>\n",
              "      <td>198</td>\n",
              "      <td>행정</td>\n",
              "      <td>2020-01-02</td>\n",
              "      <td>['억울', '국민', '신청', '구치소', '교도관', '이주', '구치소', ...</td>\n",
              "    </tr>\n",
              "    <tr>\n",
              "      <th>3</th>\n",
              "      <td>미세먼지 저감 대책</td>\n",
              "      <td>170</td>\n",
              "      <td>안전/환경</td>\n",
              "      <td>2020-01-02</td>\n",
              "      <td>['미세', '먼지', '심각', '이제', '적극적', '대안', '요구', '우...</td>\n",
              "    </tr>\n",
              "    <tr>\n",
              "      <th>4</th>\n",
              "      <td>악질세입자 방지를 위한 세입자보호법을 재정해주세요.</td>\n",
              "      <td>2127</td>\n",
              "      <td>교통/건축/국토</td>\n",
              "      <td>2020-01-02</td>\n",
              "      <td>['우선', '아이', '부모', '식구', '아이', '성장', '나름', '단꿈...</td>\n",
              "    </tr>\n",
              "  </tbody>\n",
              "</table>\n",
              "</div>"
            ],
            "text/plain": [
              "                                               title  ...                                               text\n",
              "0  서울지방병무청 탈의실에 설치된 CCTV에 대한 진상규명을 요구한다. 또한 인권위의 ...  ...  ['본인', '서울', '지방', '병무청', '검사장', '탈의실', '발견', ...\n",
              "1                            주식시장 활성화 및 소액(개미)투자자 보호  ...  ['우리', '나라', '코스', '미국', '애플', '한국', '주식', '시장...\n",
              "2                                           교정기관의 민낮  ...  ['억울', '국민', '신청', '구치소', '교도관', '이주', '구치소', ...\n",
              "3                                         미세먼지 저감 대책  ...  ['미세', '먼지', '심각', '이제', '적극적', '대안', '요구', '우...\n",
              "4                       악질세입자 방지를 위한 세입자보호법을 재정해주세요.  ...  ['우선', '아이', '부모', '식구', '아이', '성장', '나름', '단꿈...\n",
              "\n",
              "[5 rows x 5 columns]"
            ]
          },
          "metadata": {
            "tags": []
          },
          "execution_count": 5
        }
      ]
    },
    {
      "cell_type": "code",
      "metadata": {
        "colab": {
          "base_uri": "https://localhost:8080/"
        },
        "id": "P3Z5R7dSsFcj",
        "outputId": "9a126bc0-37de-4c6e-a092-0b4fe02bfcab"
      },
      "source": [
        "# 'text'부분만 추출\n",
        "president_df = data.loc[:15312, ['text']]\n",
        "print(president_df)"
      ],
      "execution_count": 37,
      "outputs": [
        {
          "output_type": "stream",
          "text": [
            "                                                    text\n",
            "0      ['본인', '서울', '지방', '병무청', '검사장', '탈의실', '발견', ...\n",
            "1      ['우리', '나라', '코스', '미국', '애플', '한국', '주식', '시장...\n",
            "2      ['억울', '국민', '신청', '구치소', '교도관', '이주', '구치소', ...\n",
            "3      ['미세', '먼지', '심각', '이제', '적극적', '대안', '요구', '우...\n",
            "4      ['우선', '아이', '부모', '식구', '아이', '성장', '나름', '단꿈...\n",
            "...                                                  ...\n",
            "15308  ['충북', '동생', '디스크', '디스크', '가까이', '신경외과', '신경'...\n",
            "15309  ['안녕', '고등학교', '재학', '중인', '고등학생', '여러', '매체',...\n",
            "15310  ['대한민국', '대의', '사회', '초년', '이자', '취업', '준비', '...\n",
            "15311  ['안녕', '사기죄', '무엇', '저희', '엄마', '께서', 'LH', '세...\n",
            "15312  ['대통령', '간곡히', '제언', '드리', '코로나', '이상', '휩쓸', ...\n",
            "\n",
            "[15313 rows x 1 columns]\n"
          ],
          "name": "stdout"
        }
      ]
    },
    {
      "cell_type": "markdown",
      "metadata": {
        "id": "2WYEcSQoRVUZ"
      },
      "source": [
        "# 역토큰화"
      ]
    },
    {
      "cell_type": "code",
      "metadata": {
        "colab": {
          "base_uri": "https://localhost:8080/"
        },
        "id": "3xnqBv-2sUOZ",
        "outputId": "171fb126-5d5f-4259-acb8-fa0e219a9022"
      },
      "source": [
        "president_df.text = president_df.text.str.lstrip(\"['\").str.rstrip(\"']\").str.split(\"', '\").str.join(\" \")\n",
        "print(president_df.text)"
      ],
      "execution_count": 44,
      "outputs": [
        {
          "output_type": "stream",
          "text": [
            "0        본인 서울 지방 병무청 검사장 탈의실 발견 탈의실 천장 CCTV 발견 본인 경악 탈...\n",
            "1        우리 나라 코스 미국 애플 한국 주식 시장 평가 시장 하지만 투자 매력 없다 이렇게...\n",
            "2        억울 국민 신청 구치소 교도관 이주 구치소 거실 성북구 종암동 구역 편입 정신 보건...\n",
            "3        미세 먼지 심각 이제 적극적 대안 요구 우리 일상 가장 적극적 모든 건축물 외부 스...\n",
            "4        우선 아이 부모 식구 아이 성장 나름 단꿈 가지 좀더 분양 하지만 아이 학교 문제 ...\n",
            "                               ...                        \n",
            "15308    충북 동생 디스크 디스크 가까이 신경외과 신경 차단 주사 대로 정지 이틀 사망 신경...\n",
            "15309    안녕 고등학교 재학 중인 고등학생 여러 매체 이슈 고민 응시 신청 이자 백신 그리 ...\n",
            "15310    대한민국 대의 사회 초년 이자 취업 준비 쓰기 정말 생각 고민 공감 직접 으시 피해...\n",
            "15311    안녕 사기죄 무엇 저희 엄마 께서 LH 세입자 드리 솔직히 엄마 혼자 키우 하나 키...\n",
            "15312    대통령 간곡히 제언 드리 코로나 이상 휩쓸 자리 이토록 황량 현재 코로나 대한민국 ...\n",
            "Name: text, Length: 15313, dtype: object\n"
          ],
          "name": "stdout"
        }
      ]
    },
    {
      "cell_type": "markdown",
      "metadata": {
        "id": "4wHMMwkxRQnE"
      },
      "source": [
        "# TF-IDF 행렬 만들기"
      ]
    },
    {
      "cell_type": "code",
      "metadata": {
        "colab": {
          "base_uri": "https://localhost:8080/"
        },
        "id": "wfaF0_vP6tBN",
        "outputId": "eac0dc68-771a-41d2-999d-7dab131188d1"
      },
      "source": [
        "from sklearn.feature_extraction.text import TfidfVectorizer\n",
        "vectorizer = TfidfVectorizer()\n",
        "\n",
        "X = vectorizer.fit_transform(president_df.text.values.astype('U'))\n",
        "X.shape"
      ],
      "execution_count": 43,
      "outputs": [
        {
          "output_type": "execute_result",
          "data": {
            "text/plain": [
              "(15313, 54255)"
            ]
          },
          "metadata": {
            "tags": []
          },
          "execution_count": 43
        }
      ]
    },
    {
      "cell_type": "markdown",
      "metadata": {
        "id": "AcX6E2CSReLi"
      },
      "source": [
        "# 토픽 모델링"
      ]
    },
    {
      "cell_type": "code",
      "metadata": {
        "colab": {
          "base_uri": "https://localhost:8080/"
        },
        "id": "UToe9iPZOftj",
        "outputId": "48843c3b-620c-4ac0-e9e4-d51cb09554c5"
      },
      "source": [
        "from sklearn.decomposition import TruncatedSVD\n",
        "svd_model = TruncatedSVD(n_components = 28)\n",
        "svd_model.fit(X)\n",
        "len(svd_model.components_)"
      ],
      "execution_count": 40,
      "outputs": [
        {
          "output_type": "execute_result",
          "data": {
            "text/plain": [
              "28"
            ]
          },
          "metadata": {
            "tags": []
          },
          "execution_count": 40
        }
      ]
    },
    {
      "cell_type": "code",
      "metadata": {
        "colab": {
          "base_uri": "https://localhost:8080/"
        },
        "id": "Ds9Y7ieWPHnk",
        "outputId": "fb362dfc-cec1-4572-9fa2-8fb353c180cc"
      },
      "source": [
        "terms = vectorizer.get_feature_names()\n",
        "\n",
        "def get_topics(components, feature_names, n = 20):\n",
        "  for idx, topic in enumerate(components):\n",
        "    print(\"Topic %d:\" % (idx+1), [(feature_names[i], topic[i].round(20)) for i in topic.argsort()[:-n-1:-1]])\n",
        "get_topics(svd_model.components_, terms)"
      ],
      "execution_count": 45,
      "outputs": [
        {
          "output_type": "stream",
          "text": [
            "Topic 1: [('아이', 0.19827374847986914), ('국민', 0.151634135844196), ('코로나', 0.1516323104559895), ('사람', 0.1250376750471031), ('생각', 0.12227407487657621), ('저희', 0.11440222268544468), ('정부', 0.10687806262929107), ('학교', 0.10548126390685415), ('상황', 0.10509328340596513), ('마스크', 0.10376656400910664), ('우리', 0.08831166085820998), ('병원', 0.08822295984703885), ('학생', 0.08708702247264294), ('지금', 0.08645163721604411), ('시간', 0.07620267475110405), ('지원', 0.07547561322037073), ('지역', 0.07397634823572403), ('현재', 0.07261068124476774), ('대한민국', 0.07152137795026711), ('정책', 0.06942393553842352)]\n",
            "Topic 2: [('아이', 0.5232621456126487), ('학교', 0.23259449141641925), ('교사', 0.17994502564708278), ('학생', 0.1680275087451672), ('수업', 0.13330383446073335), ('어린이집', 0.13056046680785677), ('개학', 0.1241957048048664), ('아동', 0.11331671209806832), ('학대', 0.11229683459765764), ('보육', 0.09988592526537435), ('선생님', 0.09615112162158275), ('등교', 0.09410281065473336), ('부모', 0.0868357375951224), ('엄마', 0.07761172803307648), ('교육', 0.07676745399248798), ('유치원', 0.0675685201641517), ('온라인', 0.06490721336815022), ('가정', 0.06039864930582623), ('원장', 0.059449493332574446), ('학부모', 0.05289912358363024)]\n",
            "Topic 3: [('마스크', 0.33680378916792214), ('코로나', 0.257002086801027), ('학생', 0.18691131381181658), ('진자', 0.16274008413705052), ('학교', 0.1554650846649693), ('개학', 0.15153744104743852), ('수업', 0.12684586820093607), ('감염', 0.1262364713726875), ('시험', 0.11843540311806104), ('등교', 0.09937417396027783), ('방역', 0.09617147706377312), ('중국', 0.09549906929067149), ('입국', 0.08969170175357687), ('바이러스', 0.08840855524989344), ('확산', 0.08273877340986999), ('정부', 0.08211874289455032), ('신천지', 0.08074018963279525), ('대구', 0.08034456176384609), ('온라인', 0.07905274947842458), ('연기', 0.07422715852926909)]\n",
            "Topic 4: [('주택', 0.3222527029936293), ('아이', 0.24537585102681694), ('임대', 0.19495815580515952), ('학교', 0.17708208200897496), ('아파트', 0.14660208686400203), ('대출', 0.1446504512006023), ('분양', 0.1442604217756292), ('부동산', 0.14131497865552164), ('학생', 0.1274715209574973), ('수업', 0.12003558041701706), ('교사', 0.11509487089790568), ('주택자', 0.11454263183440522), ('정책', 0.11274589059029413), ('개학', 0.10484243258702564), ('규제', 0.0838863398042471), ('전세', 0.08378036654689977), ('투기', 0.08283319609757524), ('지역', 0.08194754334994282), ('등교', 0.077014828719071), ('사업자', 0.07665283908046587)]\n",
            "Topic 5: [('학생', 0.33732084757393777), ('학교', 0.2785987503154372), ('시험', 0.22693077793425254), ('수업', 0.16805196843552933), ('개학', 0.14022862884780224), ('사건', 0.10900834570297296), ('등교', 0.10734937423343004), ('검찰', 0.10501317008353175), ('교육', 0.10129238601808992), ('피해자', 0.09631607563413874), ('온라인', 0.09436771922624458), ('수사', 0.0926285075767748), ('교육부', 0.06830545374446588), ('연기', 0.0675086223455885), ('가해자', 0.06749222559217745), ('범죄', 0.06029476128737535), ('수험생', 0.05278933701281662), ('학년', 0.05209833053042183), ('대학', 0.05136763381385057), ('강의', 0.05000910156350858)]\n",
            "Topic 6: [('병원', 0.4133743339504987), ('환자', 0.2166576662002186), ('의사', 0.1538376550712755), ('저희', 0.1439739484421767), ('치료', 0.13929078153047045), ('수술', 0.1389930780270334), ('간호사', 0.13303049250548674), ('의료', 0.11908308583569545), ('주택', 0.11649476754202363), ('시험', 0.09249036968012667), ('요양', 0.09039187300269856), ('입원', 0.08820188505278553), ('간호', 0.08674527729453588), ('아버지', 0.08197256442857932), ('임대', 0.08183508948420262), ('진료', 0.07997693496993918), ('보험', 0.07808618091979773), ('백신', 0.07446852059438548), ('대출', 0.07184227699132144), ('어머니', 0.06945322353012953)]\n",
            "Topic 7: [('마스크', 0.601009327464963), ('주택', 0.15320676183226384), ('병원', 0.12027879434340555), ('학생', 0.11847420293490238), ('가격', 0.10966446738124203), ('학교', 0.10369198746896018), ('구매', 0.10189832520399121), ('공급', 0.09949953051794082), ('판매', 0.09302674185550132), ('아파트', 0.09290683849794314), ('피해자', 0.08162125484543997), ('분양', 0.07961820389248281), ('약국', 0.07619356401573801), ('가해자', 0.07598051459168612), ('주민', 0.07422195074695222), ('사건', 0.07260307465628554), ('임대', 0.07236689038398181), ('구입', 0.06499977580549077), ('착용', 0.06333096050749984), ('공적', 0.058614059673702305)]\n",
            "Topic 8: [('저희', 0.17106039308668597), ('영업', 0.16692207615185875), ('마스크', 0.15895945804287226), ('매출', 0.155936686357147), ('회사', 0.12990638488456674), ('지원금', 0.12971608469571644), ('지급', 0.12336438106605026), ('상공인', 0.11686496289632325), ('업체', 0.11569867499891746), ('직원', 0.10615321078640604), ('지원', 0.09786412284283967), ('운영', 0.08866657676360512), ('재난', 0.08513814236473531), ('만원', 0.08391729865066898), ('업종', 0.0818030874959905), ('계약', 0.07420694397043098), ('자영업자', 0.07180708564409616), ('집합', 0.06867047780552774), ('카페', 0.06861655230888704), ('피해자', 0.06763451447578654)]\n",
            "Topic 9: [('공매도', 0.40041843858184833), ('주식', 0.2720220300538598), ('투자자', 0.19358246169438748), ('시장', 0.18222343275100356), ('투자', 0.13605101880340198), ('금융', 0.12978893085359797), ('마스크', 0.12810118861716838), ('병원', 0.12467209832109846), ('기업', 0.10418464033079462), ('개인', 0.09522937979489533), ('의사', 0.08696641653313351), ('간호사', 0.08362832909603865), ('회사', 0.08326592846685406), ('거래', 0.08094115859592989), ('학교', 0.07988403038556545), ('학생', 0.07979850578983887), ('수업', 0.0776019075669704), ('양도', 0.07582162271546354), ('의료', 0.07530282903689163), ('제도', 0.07245155751358097)]\n",
            "Topic 10: [('시험', 0.6563697579373675), ('교사', 0.15388807457464013), ('수험생', 0.15255772529379577), ('보육', 0.1438105463463556), ('어린이집', 0.13686873604513583), ('응시', 0.11816277995900734), ('마스크', 0.10839429304947956), ('아동', 0.08366928931394679), ('공무원', 0.07939415688100206), ('주민', 0.07765981324422003), ('채용', 0.07060320725516642), ('학대', 0.0693427818626216), ('공사', 0.06798229409388747), ('기관', 0.062140877226029505), ('준비', 0.05849203308470804), ('지역', 0.0561562703397087), ('근무', 0.05599049117851209), ('자격증', 0.05376483551253189), ('연기', 0.05369524400038836), ('임용', 0.05160182678464256)]\n",
            "Topic 11: [('시험', 0.43916941568357526), ('공매도', 0.1823324124617582), ('아이', 0.14741642908870356), ('주식', 0.12272158259899117), ('수험생', 0.10558612306151886), ('사람', 0.09658228887758402), ('투자자', 0.08301614201532598), ('대출', 0.07771764879770673), ('응시', 0.074460798356244), ('저희', 0.07356043548307539), ('시장', 0.0705511881702611), ('입국', 0.06643841791850454), ('투자', 0.06377024566875866), ('진자', 0.06294024458393573), ('가해자', 0.06290002076552331), ('엄마', 0.05920107956108447), ('생각', 0.05914243327053225), ('너무', 0.05718389049492178), ('연기', 0.05619241878958031), ('중국', 0.05595229835758399)]\n",
            "Topic 12: [('공매도', 0.2384770368805212), ('신천지', 0.17798243428573168), ('진자', 0.16736149721992807), ('주민', 0.16647473271975438), ('공사', 0.157562916280578), ('지역', 0.14317362021549326), ('주식', 0.13438137331041544), ('대구', 0.12063237485452039), ('시장', 0.112676708836593), ('투자자', 0.10406612949113578), ('격리', 0.09680824802267701), ('아파트', 0.08723134837184583), ('회사', 0.08550851181110909), ('교회', 0.08175869284797987), ('입국', 0.08099423773123364), ('중국', 0.0808478388175797), ('동선', 0.07971590118801353), ('시민', 0.07912865224715394), ('저희', 0.07824356078876658), ('사업', 0.07814612085457422)]\n",
            "Topic 13: [('신천지', 0.281816793841031), ('공매도', 0.20670245305371165), ('교사', 0.19600658560487347), ('보육', 0.1553819267295536), ('진자', 0.14706302458274834), ('대구', 0.14207559311410684), ('검찰', 0.12594201675930028), ('주식', 0.12246061038235784), ('검사', 0.12037089764696353), ('어린이집', 0.11996641941402122), ('수사', 0.11583815394643951), ('병원', 0.10924116907873974), ('코로나', 0.10920601287254808), ('교회', 0.10456695134277738), ('시장', 0.09767800590572086), ('주택', 0.0965030953217845), ('피해자', 0.09424467056825739), ('투자자', 0.09328234822763626), ('환자', 0.08515157517248513), ('사건', 0.08409356373896974)]\n",
            "Topic 14: [('백신', 0.43396199564732135), ('접종', 0.3304899675693528), ('교사', 0.23389408535103676), ('보육', 0.18445473569066823), ('어린이집', 0.12616574793616), ('중국', 0.11557273060196717), ('입국', 0.10338627862928858), ('회사', 0.09899048290585903), ('저희', 0.09806165935867038), ('검사', 0.09614753634765787), ('아버지', 0.08253728746909204), ('검찰', 0.07049674108769334), ('계약', 0.06677721446407833), ('수사', 0.06341438245279964), ('주택', 0.060735355951953354), ('한국', 0.05988202295658177), ('직원', 0.059744557453891955), ('코로나', 0.05413637446868812), ('격리', 0.05407899883565476), ('부작용', 0.051838483414548366)]\n",
            "Topic 15: [('동물', 0.551831354409964), ('백신', 0.2815496103144636), ('반려', 0.250542563943485), ('접종', 0.2218903534612071), ('학대', 0.18321518468289938), ('아동', 0.15900354981612946), ('임대', 0.11278883472280206), ('교사', 0.10291412187483674), ('주택', 0.09673658432558915), ('강아지', 0.09206214565075853), ('처벌', 0.0915947495190923), ('고양이', 0.08519803540448356), ('피해자', 0.08351314043600185), ('보육', 0.07990649015887567), ('보호', 0.07722733844528527), ('사건', 0.076909745661916), ('유기', 0.07662561231334451), ('가해자', 0.06626488289334527), ('어린이집', 0.06537530027243417), ('보호소', 0.06320454189015026)]\n",
            "Topic 16: [('백신', 0.3747034254725266), ('접종', 0.28484200569522655), ('검찰', 0.2339971455275965), ('아이', 0.17314009084892903), ('동물', 0.1111804359468197), ('총장', 0.10106804115324713), ('수사', 0.09512431867509456), ('주민', 0.08841146639930794), ('신천지', 0.07817069606044603), ('대통령', 0.07755323213746612), ('개혁', 0.07298711663318216), ('공매도', 0.06504709351145023), ('장관', 0.05876319864875752), ('반려', 0.05614150067046366), ('영업', 0.05500332660136266), ('검사', 0.054173702346444655), ('시민', 0.052307447416671454), ('부작용', 0.051644205218336396), ('지역', 0.050026253634585474), ('등교', 0.04811632708275398)]\n",
            "Topic 17: [('동물', 0.443713957215624), ('검찰', 0.22538908020580856), ('반려', 0.2116866939924814), ('교사', 0.20660390852347157), ('보육', 0.1462415072565641), ('저희', 0.13703877336954357), ('대통령', 0.12935546537818793), ('중국', 0.10591071162862152), ('총장', 0.09909983143722059), ('어린이집', 0.09208146872234524), ('장관', 0.08942294440870838), ('검사', 0.08494051760231362), ('강아지', 0.08094742706217317), ('수사', 0.07489333352048752), ('개혁', 0.07018241688454599), ('입국', 0.06680687102626327), ('고양이', 0.06344383708642617), ('회사', 0.06335171435155323), ('유기', 0.0622405282272642), ('사람', 0.06135151074327179)]\n",
            "Topic 18: [('임대', 0.28972829346171175), ('아이', 0.19642393542632686), ('검찰', 0.19211291045882656), ('중국', 0.18498302875763883), ('입국', 0.16549938597074604), ('사업자', 0.15192591664327093), ('수사', 0.1294537988970998), ('아동', 0.1230090336769043), ('주택', 0.11755027317675809), ('검사', 0.10952065507605481), ('학대', 0.10012431874212452), ('금지', 0.08869544792687406), ('임차인', 0.08713107275537886), ('계약', 0.08366078679248459), ('등록', 0.08223185775150402), ('보험', 0.0812329737101497), ('임대인', 0.08004679095356997), ('임대료', 0.07895569584511225), ('영업', 0.07788297079505105), ('학원', 0.07640535644912233)]\n",
            "Topic 19: [('신천지', 0.3807118027674965), ('대구', 0.18209452928652495), ('보험', 0.16896236919269036), ('회사', 0.16742666529489791), ('지급', 0.15358302374339125), ('동물', 0.12330013319780371), ('임대', 0.11588324325022775), ('소득', 0.10010182980412977), ('교회', 0.09987333256511924), ('지원', 0.09617899182229578), ('교인', 0.08163385750638184), ('국민', 0.08040232535793329), ('종교', 0.07566573680562276), ('재난', 0.07478821525327674), ('만원', 0.07085515198628774), ('백신', 0.0692417480366236), ('세금', 0.0667252715894014), ('직원', 0.06671393429787448), ('반려', 0.059018024930699346), ('계약', 0.05759783794320207)]\n",
            "Topic 20: [('임대', 0.3415111393211982), ('주택', 0.158934837601393), ('사업자', 0.15280351514801557), ('여성', 0.11128989360221778), ('시설', 0.10311484649888837), ('저희', 0.09184709293083915), ('교회', 0.08976384799442602), ('등록', 0.08160543124281293), ('영업', 0.07798241281832188), ('방역', 0.07490243830729533), ('대통령', 0.06285497762239588), ('체육', 0.05951170297123307), ('공매도', 0.05794700409913616), ('거리', 0.05750436221729645), ('남성', 0.05700514032738074), ('집합', 0.05634591175289519), ('교사', 0.056296203476173076), ('아버지', 0.05609680693872168), ('단계', 0.05433916492845307), ('임차인', 0.05304385387727862)]\n",
            "Topic 21: [('지원금', 0.23326380703078886), ('재난', 0.2327688415080548), ('주민', 0.16604347959283391), ('지급', 0.15677736312592438), ('소득', 0.13977137295432282), ('지원', 0.13392496961584105), ('지역', 0.1290381391135308), ('대구', 0.12666531843229933), ('임대', 0.11900632277442139), ('가해자', 0.11241710037881204), ('공매도', 0.1105423088263941), ('검찰', 0.10924085655957069), ('시민', 0.10766302538003351), ('주택', 0.10418794965872596), ('장애인', 0.103929002633399), ('격리', 0.09648194973147683), ('입국', 0.09639857695145451), ('긴급', 0.09023424332218567), ('사업자', 0.08504577460992736), ('시장', 0.07928354983826177)]\n",
            "Topic 22: [('여성', 0.45820036888141896), ('남성', 0.21531995954918204), ('검찰', 0.16096447330951008), ('검사', 0.14854410929061834), ('아이', 0.1396372703681826), ('진자', 0.13632826354304614), ('개학', 0.11977683733050148), ('수업', 0.08910524992999501), ('격리', 0.08541150738472422), ('동선', 0.08281334834450423), ('회사', 0.08205654215579486), ('온라인', 0.08174517021131868), ('등교', 0.07689096388913509), ('공개', 0.07471676040149787), ('가족', 0.06379410718424096), ('총장', 0.0637910242809657), ('코로나', 0.05562634535565559), ('자가', 0.054767394192699076), ('출산', 0.052592581606902264), ('평등', 0.05102897097213517)]\n",
            "Topic 23: [('여성', 0.3051149512910865), ('신천지', 0.2781815741157309), ('지원', 0.1883037754122351), ('검찰', 0.16788929696238622), ('저희', 0.16011404492966513), ('중국', 0.15783394052168015), ('학교', 0.154040848846241), ('남성', 0.14500765332710067), ('교육', 0.1259703737335096), ('공매도', 0.11082828231203162), ('분양', 0.10779076300432178), ('한국', 0.10318404333005589), ('교회', 0.10224751540918532), ('장애인', 0.10106662471586926), ('대출', 0.09762757909859508), ('아버지', 0.09189865208409974), ('가족', 0.08235714466189131), ('총장', 0.0752095224622592), ('병원', 0.0750572177709922), ('수사', 0.06997674323538422)]\n",
            "Topic 24: [('아동', 0.2713963463448642), ('간호사', 0.2550067508279159), ('학대', 0.2159521839807179), ('간호', 0.20827363552410305), ('근무', 0.15607230582890774), ('진자', 0.15025039777657154), ('대구', 0.14394194377831074), ('회사', 0.1310959948710496), ('저희', 0.122995950192899), ('직원', 0.11421749228618613), ('동선', 0.11372201236258667), ('공개', 0.1121883968754749), ('업무', 0.09884838914630846), ('시민', 0.09672394441887239), ('검찰', 0.08884373695028247), ('사람', 0.07883792345885703), ('정인', 0.07493397404139361), ('신고', 0.07264900820188147), ('격리', 0.07074460367851965), ('교육', 0.06776236117476084)]\n",
            "Topic 25: [('장애인', 0.30922192953470345), ('아동', 0.29246313836432064), ('보험', 0.17507484919882815), ('학대', 0.16232179295446864), ('시설', 0.14609859492935462), ('아버지', 0.1078984215033524), ('차량', 0.09927536812668439), ('장애', 0.0965432782496316), ('사고', 0.09465249183566952), ('센터', 0.08796234665293613), ('치료', 0.08198761549508263), ('보호', 0.0814162348058567), ('대출', 0.07853760158571872), ('요양', 0.07650738327014739), ('교육', 0.06741358133298718), ('가족', 0.0647641740788911), ('보험사', 0.06098810658126215), ('적용', 0.058953354433028855), ('정인', 0.05570990077510676), ('계약', 0.055672005125760975)]\n",
            "Topic 26: [('분양', 0.24310175028254877), ('공사', 0.19222145583333167), ('저희', 0.18432660498841388), ('아동', 0.18398908621549712), ('조합원', 0.1816026835742331), ('조합', 0.1607789687115508), ('여성', 0.16000358952825627), ('공매도', 0.13298056275340062), ('학대', 0.12089731567891764), ('아파트', 0.11805388536524038), ('국민', 0.10942957175828442), ('아버지', 0.10786563879996339), ('재난', 0.09450674470947136), ('개학', 0.09164938157707714), ('지원금', 0.08483392763936518), ('지급', 0.08221591519450773), ('남성', 0.07502059825672854), ('진자', 0.07116229445616097), ('주민', 0.07059975761323714), ('건축', 0.06996413630787578)]\n",
            "Topic 27: [('격리', 0.1925497252094461), ('간호사', 0.19048568260652105), ('간호', 0.17736895493716112), ('입국', 0.14699235449881998), ('국민', 0.14516318393369562), ('학교', 0.13158179014922342), ('장애인', 0.13107339581724514), ('외국인', 0.11462260666110939), ('검사', 0.11209755978855258), ('자가', 0.10276123594440724), ('교육', 0.09763242673582377), ('분양', 0.09694846154182443), ('근무', 0.09667403502512276), ('공매도', 0.0952431354254352), ('공무원', 0.09101590060171283), ('소음', 0.07864154127238597), ('학원', 0.07814409451370768), ('업무', 0.07747414878854504), ('지급', 0.07520181021770844), ('지원금', 0.07517039298949807)]\n",
            "Topic 28: [('조합원', 0.19065825662505761), ('조합', 0.1837329458332342), ('주택', 0.15624073061150018), ('개학', 0.14049181707103459), ('회사', 0.131116155936695), ('보험', 0.11911601220209432), ('사고', 0.11668921196787056), ('아버지', 0.10489075547324049), ('저희', 0.10485417527711235), ('검찰', 0.10251993844069839), ('소득', 0.09436465156112539), ('차량', 0.09260498656135743), ('여성', 0.08835506527811318), ('연기', 0.08150055849743906), ('아동', 0.07979241042297212), ('교회', 0.07874133994935996), ('가해자', 0.07807776170134514), ('학원', 0.07786798721263023), ('학대', 0.07592426314984331), ('운전', 0.07122858683159541)]\n"
          ],
          "name": "stdout"
        }
      ]
    }
  ]
}