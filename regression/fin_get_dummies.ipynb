{
 "cells": [
  {
   "cell_type": "code",
   "execution_count": 55,
   "metadata": {},
   "outputs": [],
   "source": [
    "import pandas as pd\n",
    "import numpy as np"
   ]
  },
  {
   "cell_type": "code",
   "execution_count": 56,
   "metadata": {},
   "outputs": [],
   "source": [
    "path = 'D:/Summer 2021/교류학술제/SCAD_regression/'\n",
    "assembly = pd.read_excel(path + \"국회_final.xlsx\")\n",
    "blue= pd.read_excel(path + '청와대_final.xlsx')"
   ]
  },
  {
   "cell_type": "code",
   "execution_count": 57,
   "metadata": {},
   "outputs": [],
   "source": [
    "assembly = assembly.rename(columns = {\"슬픔 유사도\":\"sadness\", \"분노 유사도\":\"anger\"})\n",
    "blue = blue.rename(columns = {\"슬픔 유사도\":\"sadness\", \"분노 유사도\":\"anger\"})"
   ]
  },
  {
   "cell_type": "code",
   "execution_count": 58,
   "metadata": {},
   "outputs": [],
   "source": [
    "assembly_topics = pd.get_dummies(assembly.topic, prefix=\"topic_\")\n",
    "blue_topics = pd.get_dummies(blue.topic, prefix = \"topic_\")"
   ]
  },
  {
   "cell_type": "code",
   "execution_count": 59,
   "metadata": {},
   "outputs": [],
   "source": [
    "assembly = pd.concat([assembly, assembly_topics], axis = 1)\n",
    "blue = pd.concat([blue, blue_topics], axis = 1)"
   ]
  },
  {
   "cell_type": "code",
   "execution_count": 60,
   "metadata": {},
   "outputs": [],
   "source": [
    "assembly = assembly.drop(columns = ['Unnamed: 0', 'Unnamed: 0.1', 'topic', 'text'], axis = 1)\n",
    "blue = blue.drop(columns = ['Unnamed: 0', 'Unnamed: 0.1', 'topic', 'text'], axis = 1)"
   ]
  },
  {
   "cell_type": "code",
   "execution_count": 61,
   "metadata": {},
   "outputs": [],
   "source": [
    "assembly.to_excel(\"D:\\Summer 2021\\교류학술제\\SCAD_regression\\국회_final(2).xlsx\", index = False)\n",
    "blue.to_excel(\"D:\\Summer 2021\\교류학술제\\SCAD_regression\\청와대_final(2).xlsx\", index = False)"
   ]
  }
 ],
 "metadata": {
  "kernelspec": {
   "display_name": "Python 3",
   "language": "python",
   "name": "python3"
  },
  "language_info": {
   "codemirror_mode": {
    "name": "ipython",
    "version": 3
   },
   "file_extension": ".py",
   "mimetype": "text/x-python",
   "name": "python",
   "nbconvert_exporter": "python",
   "pygments_lexer": "ipython3",
   "version": "3.8.7"
  }
 },
 "nbformat": 4,
 "nbformat_minor": 4
}
